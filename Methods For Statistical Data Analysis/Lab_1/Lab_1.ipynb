{
  "nbformat": 4,
  "nbformat_minor": 0,
  "metadata": {
    "colab": {
      "provenance": [],
      "authorship_tag": "ABX9TyMyrtPAuW6GvwwIQbADb0kf",
      "include_colab_link": true
    },
    "kernelspec": {
      "name": "ir",
      "display_name": "R"
    },
    "language_info": {
      "name": "R"
    }
  },
  "cells": [
    {
      "cell_type": "markdown",
      "metadata": {
        "id": "view-in-github",
        "colab_type": "text"
      },
      "source": [
        "<a href=\"https://colab.research.google.com/github/GiorgosLyberis/mcda/blob/main/Methods%20For%20Statistical%20Data%20Analysis/Lab_1/Lab_1.ipynb\" target=\"_parent\"><img src=\"https://colab.research.google.com/assets/colab-badge.svg\" alt=\"Open In Colab\"/></a>"
      ]
    },
    {
      "cell_type": "code",
      "execution_count": null,
      "metadata": {
        "colab": {
          "base_uri": "https://localhost:8080/",
          "height": 382
        },
        "id": "hfddJx468DJh",
        "outputId": "8f252d60-7921-4332-bb95-f3e96d50fc8e"
      },
      "outputs": [
        {
          "output_type": "display_data",
          "data": {
            "text/html": [
              "8"
            ],
            "text/markdown": "8",
            "text/latex": "8",
            "text/plain": [
              "[1] 8"
            ]
          },
          "metadata": {}
        },
        {
          "output_type": "display_data",
          "data": {
            "text/html": [
              "27"
            ],
            "text/markdown": "27",
            "text/latex": "27",
            "text/plain": [
              "[1] 27"
            ]
          },
          "metadata": {}
        },
        {
          "output_type": "display_data",
          "data": {
            "text/html": [
              "3"
            ],
            "text/markdown": "3",
            "text/latex": "3",
            "text/plain": [
              "[1] 3"
            ]
          },
          "metadata": {}
        },
        {
          "output_type": "display_data",
          "data": {
            "text/html": [
              "9"
            ],
            "text/markdown": "9",
            "text/latex": "9",
            "text/plain": [
              "[1] 9"
            ]
          },
          "metadata": {}
        },
        {
          "output_type": "display_data",
          "data": {
            "text/html": [
              "2"
            ],
            "text/markdown": "2",
            "text/latex": "2",
            "text/plain": [
              "[1] 2"
            ]
          },
          "metadata": {}
        },
        {
          "output_type": "display_data",
          "data": {
            "text/html": [
              "0.111111111111111"
            ],
            "text/markdown": "0.111111111111111",
            "text/latex": "0.111111111111111",
            "text/plain": [
              "[1] 0.1111111"
            ]
          },
          "metadata": {}
        },
        {
          "output_type": "display_data",
          "data": {
            "text/html": [
              "-1.5874010519682"
            ],
            "text/markdown": "-1.5874010519682",
            "text/latex": "-1.5874010519682",
            "text/plain": [
              "[1] -1.587401"
            ]
          },
          "metadata": {}
        },
        {
          "output_type": "display_data",
          "data": {
            "text/html": [
              "16"
            ],
            "text/markdown": "16",
            "text/latex": "16",
            "text/plain": [
              "[1] 16"
            ]
          },
          "metadata": {}
        },
        {
          "output_type": "display_data",
          "data": {
            "text/html": [
              "NaN"
            ],
            "text/markdown": "NaN",
            "text/latex": "NaN",
            "text/plain": [
              "[1] NaN"
            ]
          },
          "metadata": {}
        },
        {
          "output_type": "display_data",
          "data": {
            "text/html": [
              "2.30258509299405"
            ],
            "text/markdown": "2.30258509299405",
            "text/latex": "2.30258509299405",
            "text/plain": [
              "[1] 2.302585"
            ]
          },
          "metadata": {}
        },
        {
          "output_type": "display_data",
          "data": {
            "text/html": [
              "2.71828182845905"
            ],
            "text/markdown": "2.71828182845905",
            "text/latex": "2.71828182845905",
            "text/plain": [
              "[1] 2.718282"
            ]
          },
          "metadata": {}
        },
        {
          "output_type": "display_data",
          "data": {
            "text/html": [
              "0.778151250383644"
            ],
            "text/markdown": "0.778151250383644",
            "text/latex": "0.778151250383644",
            "text/plain": [
              "[1] 0.7781513"
            ]
          },
          "metadata": {}
        },
        {
          "output_type": "display_data",
          "data": {
            "text/html": [
              "2"
            ],
            "text/markdown": "2",
            "text/latex": "2",
            "text/plain": [
              "[1] 2"
            ]
          },
          "metadata": {}
        },
        {
          "output_type": "display_data",
          "data": {
            "text/html": [
              "1"
            ],
            "text/markdown": "1",
            "text/latex": "1",
            "text/plain": [
              "[1] 1"
            ]
          },
          "metadata": {}
        },
        {
          "output_type": "display_data",
          "data": {
            "text/html": [
              "6.12323399573677e-17"
            ],
            "text/markdown": "6.12323399573677e-17",
            "text/latex": "6.12323399573677e-17",
            "text/plain": [
              "[1] 6.123234e-17"
            ]
          },
          "metadata": {}
        },
        {
          "output_type": "display_data",
          "data": {
            "text/html": [
              "FALSE"
            ],
            "text/markdown": "FALSE",
            "text/latex": "FALSE",
            "text/plain": [
              "[1] FALSE"
            ]
          },
          "metadata": {}
        },
        {
          "output_type": "display_data",
          "data": {
            "text/html": [
              "TRUE"
            ],
            "text/markdown": "TRUE",
            "text/latex": "TRUE",
            "text/plain": [
              "[1] TRUE"
            ]
          },
          "metadata": {}
        },
        {
          "output_type": "display_data",
          "data": {
            "text/html": [
              "5"
            ],
            "text/markdown": "5",
            "text/latex": "5",
            "text/plain": [
              "[1] 5"
            ]
          },
          "metadata": {}
        },
        {
          "output_type": "display_data",
          "data": {
            "text/html": [
              "6"
            ],
            "text/markdown": "6",
            "text/latex": "6",
            "text/plain": [
              "[1] 6"
            ]
          },
          "metadata": {}
        },
        {
          "output_type": "display_data",
          "data": {
            "text/html": [
              "5.775"
            ],
            "text/markdown": "5.775",
            "text/latex": "5.775",
            "text/plain": [
              "[1] 5.775"
            ]
          },
          "metadata": {}
        },
        {
          "output_type": "display_data",
          "data": {
            "text/html": [
              "5.77"
            ],
            "text/markdown": "5.77",
            "text/latex": "5.77",
            "text/plain": [
              "[1] 5.77"
            ]
          },
          "metadata": {}
        }
      ],
      "source": [
        "3+5\n",
        "3*9\n",
        "27 / 9\n",
        "3^2\n",
        "8^(1/3)\n",
        "3^-2\n",
        "-4^(1/3)\n",
        "(-4)^2\n",
        "(-4)^2.00000000000001\n",
        "log(10)\n",
        "exp(1)\n",
        "log10(6)\n",
        "log(9,3)\n",
        "sin(pi/2)\n",
        "cos(pi/2)\n",
        "cos(pi/2)==0\n",
        "sin(pi/2)==1\n",
        "floor(5.7)\n",
        "ceiling(5.7)\n",
        "round(5.77454,3)\n",
        "round(5.77456,2)"
      ]
    },
    {
      "cell_type": "code",
      "source": [
        "#\n",
        "# Vectors and sequences\n",
        "#\n",
        "######################################\n",
        "\n",
        "x<-c(5,7,7,7,9,8)   \t#  Dnmioupgeia stnlns me 6 stoixeia\n",
        "x\n",
        "x[2]                \t# to stoixeio 2 autns tns stnlns\n",
        "length(x)\t\t\t# to mnkos tns stnlns\n",
        "x[length(x)]\t\t# to teleutaio stoixeio tns stnlns\n",
        "\t\t# praxeis me diavusmata\n",
        "2*x\n",
        "x*x\n",
        "x^2\n",
        "sum(x^2)\n",
        "y<-x+3\n",
        "y\n",
        "x*y\n",
        "t(x)\n",
        "x%*%t(x)\n",
        "t(x)%*%x\n",
        "\n",
        "sort(x)\n",
        "rev(sort(x))\n",
        "max(x)\n",
        "min(x)\n",
        "x[x>=7]\t\t\t# ta stoixeia tou x pou eivai >=7\n",
        "which(x>=7)\n",
        "sum(x)\n",
        "sum(x>=7)             # posa stoixeia tou x eivai >=7\n",
        "sum(x[x>=7])          # to a8poisma autwv\n",
        "\n",
        "#  poses fopes emfavizetai ka8e stoixeio (movo auta pou emfavizovtai)\n",
        "table(x)"
      ],
      "metadata": {
        "colab": {
          "base_uri": "https://localhost:8080/",
          "height": 806
        },
        "id": "ZozP6UEt8FtU",
        "outputId": "8974729f-4917-4fd5-88c3-ba49bb51d4d9"
      },
      "execution_count": null,
      "outputs": [
        {
          "output_type": "display_data",
          "data": {
            "text/html": [
              "<style>\n",
              ".list-inline {list-style: none; margin:0; padding: 0}\n",
              ".list-inline>li {display: inline-block}\n",
              ".list-inline>li:not(:last-child)::after {content: \"\\00b7\"; padding: 0 .5ex}\n",
              "</style>\n",
              "<ol class=list-inline><li>5</li><li>7</li><li>7</li><li>7</li><li>9</li><li>8</li></ol>\n"
            ],
            "text/markdown": "1. 5\n2. 7\n3. 7\n4. 7\n5. 9\n6. 8\n\n\n",
            "text/latex": "\\begin{enumerate*}\n\\item 5\n\\item 7\n\\item 7\n\\item 7\n\\item 9\n\\item 8\n\\end{enumerate*}\n",
            "text/plain": [
              "[1] 5 7 7 7 9 8"
            ]
          },
          "metadata": {}
        },
        {
          "output_type": "display_data",
          "data": {
            "text/html": [
              "7"
            ],
            "text/markdown": "7",
            "text/latex": "7",
            "text/plain": [
              "[1] 7"
            ]
          },
          "metadata": {}
        },
        {
          "output_type": "display_data",
          "data": {
            "text/html": [
              "6"
            ],
            "text/markdown": "6",
            "text/latex": "6",
            "text/plain": [
              "[1] 6"
            ]
          },
          "metadata": {}
        },
        {
          "output_type": "display_data",
          "data": {
            "text/html": [
              "8"
            ],
            "text/markdown": "8",
            "text/latex": "8",
            "text/plain": [
              "[1] 8"
            ]
          },
          "metadata": {}
        },
        {
          "output_type": "display_data",
          "data": {
            "text/html": [
              "<style>\n",
              ".list-inline {list-style: none; margin:0; padding: 0}\n",
              ".list-inline>li {display: inline-block}\n",
              ".list-inline>li:not(:last-child)::after {content: \"\\00b7\"; padding: 0 .5ex}\n",
              "</style>\n",
              "<ol class=list-inline><li>10</li><li>14</li><li>14</li><li>14</li><li>18</li><li>16</li></ol>\n"
            ],
            "text/markdown": "1. 10\n2. 14\n3. 14\n4. 14\n5. 18\n6. 16\n\n\n",
            "text/latex": "\\begin{enumerate*}\n\\item 10\n\\item 14\n\\item 14\n\\item 14\n\\item 18\n\\item 16\n\\end{enumerate*}\n",
            "text/plain": [
              "[1] 10 14 14 14 18 16"
            ]
          },
          "metadata": {}
        },
        {
          "output_type": "display_data",
          "data": {
            "text/html": [
              "<style>\n",
              ".list-inline {list-style: none; margin:0; padding: 0}\n",
              ".list-inline>li {display: inline-block}\n",
              ".list-inline>li:not(:last-child)::after {content: \"\\00b7\"; padding: 0 .5ex}\n",
              "</style>\n",
              "<ol class=list-inline><li>25</li><li>49</li><li>49</li><li>49</li><li>81</li><li>64</li></ol>\n"
            ],
            "text/markdown": "1. 25\n2. 49\n3. 49\n4. 49\n5. 81\n6. 64\n\n\n",
            "text/latex": "\\begin{enumerate*}\n\\item 25\n\\item 49\n\\item 49\n\\item 49\n\\item 81\n\\item 64\n\\end{enumerate*}\n",
            "text/plain": [
              "[1] 25 49 49 49 81 64"
            ]
          },
          "metadata": {}
        },
        {
          "output_type": "display_data",
          "data": {
            "text/html": [
              "<style>\n",
              ".list-inline {list-style: none; margin:0; padding: 0}\n",
              ".list-inline>li {display: inline-block}\n",
              ".list-inline>li:not(:last-child)::after {content: \"\\00b7\"; padding: 0 .5ex}\n",
              "</style>\n",
              "<ol class=list-inline><li>25</li><li>49</li><li>49</li><li>49</li><li>81</li><li>64</li></ol>\n"
            ],
            "text/markdown": "1. 25\n2. 49\n3. 49\n4. 49\n5. 81\n6. 64\n\n\n",
            "text/latex": "\\begin{enumerate*}\n\\item 25\n\\item 49\n\\item 49\n\\item 49\n\\item 81\n\\item 64\n\\end{enumerate*}\n",
            "text/plain": [
              "[1] 25 49 49 49 81 64"
            ]
          },
          "metadata": {}
        },
        {
          "output_type": "display_data",
          "data": {
            "text/html": [
              "317"
            ],
            "text/markdown": "317",
            "text/latex": "317",
            "text/plain": [
              "[1] 317"
            ]
          },
          "metadata": {}
        },
        {
          "output_type": "display_data",
          "data": {
            "text/html": [
              "<style>\n",
              ".list-inline {list-style: none; margin:0; padding: 0}\n",
              ".list-inline>li {display: inline-block}\n",
              ".list-inline>li:not(:last-child)::after {content: \"\\00b7\"; padding: 0 .5ex}\n",
              "</style>\n",
              "<ol class=list-inline><li>8</li><li>10</li><li>10</li><li>10</li><li>12</li><li>11</li></ol>\n"
            ],
            "text/markdown": "1. 8\n2. 10\n3. 10\n4. 10\n5. 12\n6. 11\n\n\n",
            "text/latex": "\\begin{enumerate*}\n\\item 8\n\\item 10\n\\item 10\n\\item 10\n\\item 12\n\\item 11\n\\end{enumerate*}\n",
            "text/plain": [
              "[1]  8 10 10 10 12 11"
            ]
          },
          "metadata": {}
        },
        {
          "output_type": "display_data",
          "data": {
            "text/html": [
              "<style>\n",
              ".list-inline {list-style: none; margin:0; padding: 0}\n",
              ".list-inline>li {display: inline-block}\n",
              ".list-inline>li:not(:last-child)::after {content: \"\\00b7\"; padding: 0 .5ex}\n",
              "</style>\n",
              "<ol class=list-inline><li>40</li><li>70</li><li>70</li><li>70</li><li>108</li><li>88</li></ol>\n"
            ],
            "text/markdown": "1. 40\n2. 70\n3. 70\n4. 70\n5. 108\n6. 88\n\n\n",
            "text/latex": "\\begin{enumerate*}\n\\item 40\n\\item 70\n\\item 70\n\\item 70\n\\item 108\n\\item 88\n\\end{enumerate*}\n",
            "text/plain": [
              "[1]  40  70  70  70 108  88"
            ]
          },
          "metadata": {}
        },
        {
          "output_type": "display_data",
          "data": {
            "text/html": [
              "<table class=\"dataframe\">\n",
              "<caption>A matrix: 1 × 6 of type dbl</caption>\n",
              "<tbody>\n",
              "\t<tr><td>5</td><td>7</td><td>7</td><td>7</td><td>9</td><td>8</td></tr>\n",
              "</tbody>\n",
              "</table>\n"
            ],
            "text/markdown": "\nA matrix: 1 × 6 of type dbl\n\n| 5 | 7 | 7 | 7 | 9 | 8 |\n\n",
            "text/latex": "A matrix: 1 × 6 of type dbl\n\\begin{tabular}{llllll}\n\t 5 & 7 & 7 & 7 & 9 & 8\\\\\n\\end{tabular}\n",
            "text/plain": [
              "     [,1] [,2] [,3] [,4] [,5] [,6]\n",
              "[1,] 5    7    7    7    9    8   "
            ]
          },
          "metadata": {}
        },
        {
          "output_type": "display_data",
          "data": {
            "text/html": [
              "<table class=\"dataframe\">\n",
              "<caption>A matrix: 6 × 6 of type dbl</caption>\n",
              "<tbody>\n",
              "\t<tr><td>25</td><td>35</td><td>35</td><td>35</td><td>45</td><td>40</td></tr>\n",
              "\t<tr><td>35</td><td>49</td><td>49</td><td>49</td><td>63</td><td>56</td></tr>\n",
              "\t<tr><td>35</td><td>49</td><td>49</td><td>49</td><td>63</td><td>56</td></tr>\n",
              "\t<tr><td>35</td><td>49</td><td>49</td><td>49</td><td>63</td><td>56</td></tr>\n",
              "\t<tr><td>45</td><td>63</td><td>63</td><td>63</td><td>81</td><td>72</td></tr>\n",
              "\t<tr><td>40</td><td>56</td><td>56</td><td>56</td><td>72</td><td>64</td></tr>\n",
              "</tbody>\n",
              "</table>\n"
            ],
            "text/markdown": "\nA matrix: 6 × 6 of type dbl\n\n| 25 | 35 | 35 | 35 | 45 | 40 |\n| 35 | 49 | 49 | 49 | 63 | 56 |\n| 35 | 49 | 49 | 49 | 63 | 56 |\n| 35 | 49 | 49 | 49 | 63 | 56 |\n| 45 | 63 | 63 | 63 | 81 | 72 |\n| 40 | 56 | 56 | 56 | 72 | 64 |\n\n",
            "text/latex": "A matrix: 6 × 6 of type dbl\n\\begin{tabular}{llllll}\n\t 25 & 35 & 35 & 35 & 45 & 40\\\\\n\t 35 & 49 & 49 & 49 & 63 & 56\\\\\n\t 35 & 49 & 49 & 49 & 63 & 56\\\\\n\t 35 & 49 & 49 & 49 & 63 & 56\\\\\n\t 45 & 63 & 63 & 63 & 81 & 72\\\\\n\t 40 & 56 & 56 & 56 & 72 & 64\\\\\n\\end{tabular}\n",
            "text/plain": [
              "     [,1] [,2] [,3] [,4] [,5] [,6]\n",
              "[1,] 25   35   35   35   45   40  \n",
              "[2,] 35   49   49   49   63   56  \n",
              "[3,] 35   49   49   49   63   56  \n",
              "[4,] 35   49   49   49   63   56  \n",
              "[5,] 45   63   63   63   81   72  \n",
              "[6,] 40   56   56   56   72   64  "
            ]
          },
          "metadata": {}
        },
        {
          "output_type": "display_data",
          "data": {
            "text/html": [
              "<table class=\"dataframe\">\n",
              "<caption>A matrix: 1 × 1 of type dbl</caption>\n",
              "<tbody>\n",
              "\t<tr><td>317</td></tr>\n",
              "</tbody>\n",
              "</table>\n"
            ],
            "text/markdown": "\nA matrix: 1 × 1 of type dbl\n\n| 317 |\n\n",
            "text/latex": "A matrix: 1 × 1 of type dbl\n\\begin{tabular}{l}\n\t 317\\\\\n\\end{tabular}\n",
            "text/plain": [
              "     [,1]\n",
              "[1,] 317 "
            ]
          },
          "metadata": {}
        },
        {
          "output_type": "display_data",
          "data": {
            "text/html": [
              "<style>\n",
              ".list-inline {list-style: none; margin:0; padding: 0}\n",
              ".list-inline>li {display: inline-block}\n",
              ".list-inline>li:not(:last-child)::after {content: \"\\00b7\"; padding: 0 .5ex}\n",
              "</style>\n",
              "<ol class=list-inline><li>5</li><li>7</li><li>7</li><li>7</li><li>8</li><li>9</li></ol>\n"
            ],
            "text/markdown": "1. 5\n2. 7\n3. 7\n4. 7\n5. 8\n6. 9\n\n\n",
            "text/latex": "\\begin{enumerate*}\n\\item 5\n\\item 7\n\\item 7\n\\item 7\n\\item 8\n\\item 9\n\\end{enumerate*}\n",
            "text/plain": [
              "[1] 5 7 7 7 8 9"
            ]
          },
          "metadata": {}
        },
        {
          "output_type": "display_data",
          "data": {
            "text/html": [
              "<style>\n",
              ".list-inline {list-style: none; margin:0; padding: 0}\n",
              ".list-inline>li {display: inline-block}\n",
              ".list-inline>li:not(:last-child)::after {content: \"\\00b7\"; padding: 0 .5ex}\n",
              "</style>\n",
              "<ol class=list-inline><li>9</li><li>8</li><li>7</li><li>7</li><li>7</li><li>5</li></ol>\n"
            ],
            "text/markdown": "1. 9\n2. 8\n3. 7\n4. 7\n5. 7\n6. 5\n\n\n",
            "text/latex": "\\begin{enumerate*}\n\\item 9\n\\item 8\n\\item 7\n\\item 7\n\\item 7\n\\item 5\n\\end{enumerate*}\n",
            "text/plain": [
              "[1] 9 8 7 7 7 5"
            ]
          },
          "metadata": {}
        },
        {
          "output_type": "display_data",
          "data": {
            "text/html": [
              "9"
            ],
            "text/markdown": "9",
            "text/latex": "9",
            "text/plain": [
              "[1] 9"
            ]
          },
          "metadata": {}
        },
        {
          "output_type": "display_data",
          "data": {
            "text/html": [
              "5"
            ],
            "text/markdown": "5",
            "text/latex": "5",
            "text/plain": [
              "[1] 5"
            ]
          },
          "metadata": {}
        },
        {
          "output_type": "display_data",
          "data": {
            "text/html": [
              "<style>\n",
              ".list-inline {list-style: none; margin:0; padding: 0}\n",
              ".list-inline>li {display: inline-block}\n",
              ".list-inline>li:not(:last-child)::after {content: \"\\00b7\"; padding: 0 .5ex}\n",
              "</style>\n",
              "<ol class=list-inline><li>7</li><li>7</li><li>7</li><li>9</li><li>8</li></ol>\n"
            ],
            "text/markdown": "1. 7\n2. 7\n3. 7\n4. 9\n5. 8\n\n\n",
            "text/latex": "\\begin{enumerate*}\n\\item 7\n\\item 7\n\\item 7\n\\item 9\n\\item 8\n\\end{enumerate*}\n",
            "text/plain": [
              "[1] 7 7 7 9 8"
            ]
          },
          "metadata": {}
        },
        {
          "output_type": "display_data",
          "data": {
            "text/html": [
              "<style>\n",
              ".list-inline {list-style: none; margin:0; padding: 0}\n",
              ".list-inline>li {display: inline-block}\n",
              ".list-inline>li:not(:last-child)::after {content: \"\\00b7\"; padding: 0 .5ex}\n",
              "</style>\n",
              "<ol class=list-inline><li>2</li><li>3</li><li>4</li><li>5</li><li>6</li></ol>\n"
            ],
            "text/markdown": "1. 2\n2. 3\n3. 4\n4. 5\n5. 6\n\n\n",
            "text/latex": "\\begin{enumerate*}\n\\item 2\n\\item 3\n\\item 4\n\\item 5\n\\item 6\n\\end{enumerate*}\n",
            "text/plain": [
              "[1] 2 3 4 5 6"
            ]
          },
          "metadata": {}
        },
        {
          "output_type": "display_data",
          "data": {
            "text/html": [
              "43"
            ],
            "text/markdown": "43",
            "text/latex": "43",
            "text/plain": [
              "[1] 43"
            ]
          },
          "metadata": {}
        },
        {
          "output_type": "display_data",
          "data": {
            "text/html": [
              "5"
            ],
            "text/markdown": "5",
            "text/latex": "5",
            "text/plain": [
              "[1] 5"
            ]
          },
          "metadata": {}
        },
        {
          "output_type": "display_data",
          "data": {
            "text/html": [
              "38"
            ],
            "text/markdown": "38",
            "text/latex": "38",
            "text/plain": [
              "[1] 38"
            ]
          },
          "metadata": {}
        },
        {
          "output_type": "display_data",
          "data": {
            "text/plain": [
              "x\n",
              "5 7 8 9 \n",
              "1 3 1 1 "
            ]
          },
          "metadata": {}
        }
      ]
    },
    {
      "cell_type": "code",
      "source": [
        "x<-c(rep(0,10))\t\t# stnln me 10 mndevika\n",
        "x\n",
        "x<-c(1:10)\t\t\t# stnln me tous api8mous 1,2,3,...,10\n",
        "x\n",
        "\t\t\t\t#   mndevikos pivakas me 2 grammes kai 5 stnles\n",
        "x<-matrix(c(rep(0,10)),nrow=2,ncol=5)\n",
        "x\n",
        "x<-matrix(c(1:10),nrow=2,ncol=5) #  1,2,...,10 topo8etnmeva kata stnles\n",
        "x\n",
        "\t\t\t\t#   1,2,...,10 topo8etnmeva kata grammes\n",
        "x<-matrix(c(1:10),nrow=2,ncol=5,byrow=T)\n",
        "x\n"
      ],
      "metadata": {
        "colab": {
          "base_uri": "https://localhost:8080/",
          "height": 344
        },
        "id": "yk2exuSS8M2O",
        "outputId": "089286c8-f0f2-4016-ebb2-b18948768b7b"
      },
      "execution_count": null,
      "outputs": [
        {
          "output_type": "display_data",
          "data": {
            "text/html": [
              "<style>\n",
              ".list-inline {list-style: none; margin:0; padding: 0}\n",
              ".list-inline>li {display: inline-block}\n",
              ".list-inline>li:not(:last-child)::after {content: \"\\00b7\"; padding: 0 .5ex}\n",
              "</style>\n",
              "<ol class=list-inline><li>0</li><li>0</li><li>0</li><li>0</li><li>0</li><li>0</li><li>0</li><li>0</li><li>0</li><li>0</li></ol>\n"
            ],
            "text/markdown": "1. 0\n2. 0\n3. 0\n4. 0\n5. 0\n6. 0\n7. 0\n8. 0\n9. 0\n10. 0\n\n\n",
            "text/latex": "\\begin{enumerate*}\n\\item 0\n\\item 0\n\\item 0\n\\item 0\n\\item 0\n\\item 0\n\\item 0\n\\item 0\n\\item 0\n\\item 0\n\\end{enumerate*}\n",
            "text/plain": [
              " [1] 0 0 0 0 0 0 0 0 0 0"
            ]
          },
          "metadata": {}
        },
        {
          "output_type": "display_data",
          "data": {
            "text/html": [
              "<style>\n",
              ".list-inline {list-style: none; margin:0; padding: 0}\n",
              ".list-inline>li {display: inline-block}\n",
              ".list-inline>li:not(:last-child)::after {content: \"\\00b7\"; padding: 0 .5ex}\n",
              "</style>\n",
              "<ol class=list-inline><li>1</li><li>2</li><li>3</li><li>4</li><li>5</li><li>6</li><li>7</li><li>8</li><li>9</li><li>10</li></ol>\n"
            ],
            "text/markdown": "1. 1\n2. 2\n3. 3\n4. 4\n5. 5\n6. 6\n7. 7\n8. 8\n9. 9\n10. 10\n\n\n",
            "text/latex": "\\begin{enumerate*}\n\\item 1\n\\item 2\n\\item 3\n\\item 4\n\\item 5\n\\item 6\n\\item 7\n\\item 8\n\\item 9\n\\item 10\n\\end{enumerate*}\n",
            "text/plain": [
              " [1]  1  2  3  4  5  6  7  8  9 10"
            ]
          },
          "metadata": {}
        },
        {
          "output_type": "display_data",
          "data": {
            "text/html": [
              "<table class=\"dataframe\">\n",
              "<caption>A matrix: 2 × 5 of type dbl</caption>\n",
              "<tbody>\n",
              "\t<tr><td>0</td><td>0</td><td>0</td><td>0</td><td>0</td></tr>\n",
              "\t<tr><td>0</td><td>0</td><td>0</td><td>0</td><td>0</td></tr>\n",
              "</tbody>\n",
              "</table>\n"
            ],
            "text/markdown": "\nA matrix: 2 × 5 of type dbl\n\n| 0 | 0 | 0 | 0 | 0 |\n| 0 | 0 | 0 | 0 | 0 |\n\n",
            "text/latex": "A matrix: 2 × 5 of type dbl\n\\begin{tabular}{lllll}\n\t 0 & 0 & 0 & 0 & 0\\\\\n\t 0 & 0 & 0 & 0 & 0\\\\\n\\end{tabular}\n",
            "text/plain": [
              "     [,1] [,2] [,3] [,4] [,5]\n",
              "[1,] 0    0    0    0    0   \n",
              "[2,] 0    0    0    0    0   "
            ]
          },
          "metadata": {}
        },
        {
          "output_type": "display_data",
          "data": {
            "text/html": [
              "<table class=\"dataframe\">\n",
              "<caption>A matrix: 2 × 5 of type int</caption>\n",
              "<tbody>\n",
              "\t<tr><td>1</td><td>3</td><td>5</td><td>7</td><td> 9</td></tr>\n",
              "\t<tr><td>2</td><td>4</td><td>6</td><td>8</td><td>10</td></tr>\n",
              "</tbody>\n",
              "</table>\n"
            ],
            "text/markdown": "\nA matrix: 2 × 5 of type int\n\n| 1 | 3 | 5 | 7 |  9 |\n| 2 | 4 | 6 | 8 | 10 |\n\n",
            "text/latex": "A matrix: 2 × 5 of type int\n\\begin{tabular}{lllll}\n\t 1 & 3 & 5 & 7 &  9\\\\\n\t 2 & 4 & 6 & 8 & 10\\\\\n\\end{tabular}\n",
            "text/plain": [
              "     [,1] [,2] [,3] [,4] [,5]\n",
              "[1,] 1    3    5    7     9  \n",
              "[2,] 2    4    6    8    10  "
            ]
          },
          "metadata": {}
        },
        {
          "output_type": "display_data",
          "data": {
            "text/html": [
              "<table class=\"dataframe\">\n",
              "<caption>A matrix: 2 × 5 of type int</caption>\n",
              "<tbody>\n",
              "\t<tr><td>1</td><td>2</td><td>3</td><td>4</td><td> 5</td></tr>\n",
              "\t<tr><td>6</td><td>7</td><td>8</td><td>9</td><td>10</td></tr>\n",
              "</tbody>\n",
              "</table>\n"
            ],
            "text/markdown": "\nA matrix: 2 × 5 of type int\n\n| 1 | 2 | 3 | 4 |  5 |\n| 6 | 7 | 8 | 9 | 10 |\n\n",
            "text/latex": "A matrix: 2 × 5 of type int\n\\begin{tabular}{lllll}\n\t 1 & 2 & 3 & 4 &  5\\\\\n\t 6 & 7 & 8 & 9 & 10\\\\\n\\end{tabular}\n",
            "text/plain": [
              "     [,1] [,2] [,3] [,4] [,5]\n",
              "[1,] 1    2    3    4     5  \n",
              "[2,] 6    7    8    9    10  "
            ]
          },
          "metadata": {}
        }
      ]
    },
    {
      "cell_type": "code",
      "source": [
        "#\n",
        "# Reading Data\n",
        "#\n",
        "######################################\n",
        "\n",
        "mich.df<-c(\n",
        "850,\n",
        "740,\n",
        "900,\n",
        "1070,\n",
        "930,\n",
        "850,\n",
        "950,\n",
        "980,\n",
        "980,\n",
        "880)\n",
        "\n",
        "mich.df<-c(mich.df,1000,980,930,650,760,810,1000,1000,960,960)\n",
        "mich.df\n",
        "z<-mich.df\n",
        "summary(z)\n",
        "summary(z)[1]\n",
        "summary(z)[5]"
      ],
      "metadata": {
        "colab": {
          "base_uri": "https://localhost:8080/",
          "height": 139
        },
        "id": "XgZisMxZ8PXU",
        "outputId": "14956767-5391-481b-d48a-29e7943478eb"
      },
      "execution_count": null,
      "outputs": [
        {
          "output_type": "display_data",
          "data": {
            "text/html": [
              "<style>\n",
              ".list-inline {list-style: none; margin:0; padding: 0}\n",
              ".list-inline>li {display: inline-block}\n",
              ".list-inline>li:not(:last-child)::after {content: \"\\00b7\"; padding: 0 .5ex}\n",
              "</style>\n",
              "<ol class=list-inline><li>850</li><li>740</li><li>900</li><li>1070</li><li>930</li><li>850</li><li>950</li><li>980</li><li>980</li><li>880</li><li>1000</li><li>980</li><li>930</li><li>650</li><li>760</li><li>810</li><li>1000</li><li>1000</li><li>960</li><li>960</li></ol>\n"
            ],
            "text/markdown": "1. 850\n2. 740\n3. 900\n4. 1070\n5. 930\n6. 850\n7. 950\n8. 980\n9. 980\n10. 880\n11. 1000\n12. 980\n13. 930\n14. 650\n15. 760\n16. 810\n17. 1000\n18. 1000\n19. 960\n20. 960\n\n\n",
            "text/latex": "\\begin{enumerate*}\n\\item 850\n\\item 740\n\\item 900\n\\item 1070\n\\item 930\n\\item 850\n\\item 950\n\\item 980\n\\item 980\n\\item 880\n\\item 1000\n\\item 980\n\\item 930\n\\item 650\n\\item 760\n\\item 810\n\\item 1000\n\\item 1000\n\\item 960\n\\item 960\n\\end{enumerate*}\n",
            "text/plain": [
              " [1]  850  740  900 1070  930  850  950  980  980  880 1000  980  930  650  760\n",
              "[16]  810 1000 1000  960  960"
            ]
          },
          "metadata": {}
        },
        {
          "output_type": "display_data",
          "data": {
            "text/plain": [
              "   Min. 1st Qu.  Median    Mean 3rd Qu.    Max. \n",
              "    650     850     940     909     980    1070 "
            ]
          },
          "metadata": {}
        },
        {
          "output_type": "display_data",
          "data": {
            "text/plain": [
              "Min. \n",
              " 650 "
            ]
          },
          "metadata": {}
        },
        {
          "output_type": "display_data",
          "data": {
            "text/plain": [
              "3rd Qu. \n",
              "    980 "
            ]
          },
          "metadata": {}
        }
      ]
    },
    {
      "cell_type": "code",
      "source": [
        "# kyphosis<-read.table(\"C:\\\\kyphosis.txt\",header=TRUE)\n",
        "# kyphosis\n",
        "# kyphosis[1,]\n",
        "# kyphosis[,2]\n",
        "# kyphosis$Age"
      ],
      "metadata": {
        "id": "WmtWCUmM8SlJ"
      },
      "execution_count": null,
      "outputs": []
    },
    {
      "cell_type": "code",
      "source": [
        "#\n",
        "# Statistical functions\n",
        "#\n",
        "######################################\n",
        "\n",
        "mich.df\n",
        "z<-mich.df\n",
        "quantile(z,probs=c(.25,.50,.75)) # posostimopia\n",
        "mean(z)\t\t\t\t\t# deigmatikos mesos\n",
        "sum((z-mean(z))^2)/(length(z)-1)\n",
        "var(z)\t\t\t\t\t# diaspora\n",
        "sqrt(var(z))\n",
        "sd(z)\t\t\t\t\t# tupikn apoklisn"
      ],
      "metadata": {
        "colab": {
          "base_uri": "https://localhost:8080/",
          "height": 139
        },
        "id": "pIx9JOos8cWv",
        "outputId": "c73f74be-ba86-4e09-be71-e1abe2e4abef"
      },
      "execution_count": null,
      "outputs": [
        {
          "output_type": "display_data",
          "data": {
            "text/html": [
              "<style>\n",
              ".list-inline {list-style: none; margin:0; padding: 0}\n",
              ".list-inline>li {display: inline-block}\n",
              ".list-inline>li:not(:last-child)::after {content: \"\\00b7\"; padding: 0 .5ex}\n",
              "</style>\n",
              "<ol class=list-inline><li>850</li><li>740</li><li>900</li><li>1070</li><li>930</li><li>850</li><li>950</li><li>980</li><li>980</li><li>880</li><li>1000</li><li>980</li><li>930</li><li>650</li><li>760</li><li>810</li><li>1000</li><li>1000</li><li>960</li><li>960</li></ol>\n"
            ],
            "text/markdown": "1. 850\n2. 740\n3. 900\n4. 1070\n5. 930\n6. 850\n7. 950\n8. 980\n9. 980\n10. 880\n11. 1000\n12. 980\n13. 930\n14. 650\n15. 760\n16. 810\n17. 1000\n18. 1000\n19. 960\n20. 960\n\n\n",
            "text/latex": "\\begin{enumerate*}\n\\item 850\n\\item 740\n\\item 900\n\\item 1070\n\\item 930\n\\item 850\n\\item 950\n\\item 980\n\\item 980\n\\item 880\n\\item 1000\n\\item 980\n\\item 930\n\\item 650\n\\item 760\n\\item 810\n\\item 1000\n\\item 1000\n\\item 960\n\\item 960\n\\end{enumerate*}\n",
            "text/plain": [
              " [1]  850  740  900 1070  930  850  950  980  980  880 1000  980  930  650  760\n",
              "[16]  810 1000 1000  960  960"
            ]
          },
          "metadata": {}
        },
        {
          "output_type": "display_data",
          "data": {
            "text/html": [
              "<style>\n",
              ".dl-inline {width: auto; margin:0; padding: 0}\n",
              ".dl-inline>dt, .dl-inline>dd {float: none; width: auto; display: inline-block}\n",
              ".dl-inline>dt::after {content: \":\\0020\"; padding-right: .5ex}\n",
              ".dl-inline>dt:not(:first-of-type) {padding-left: .5ex}\n",
              "</style><dl class=dl-inline><dt>25%</dt><dd>850</dd><dt>50%</dt><dd>940</dd><dt>75%</dt><dd>980</dd></dl>\n"
            ],
            "text/markdown": "25%\n:   85050%\n:   94075%\n:   980\n\n",
            "text/latex": "\\begin{description*}\n\\item[25\\textbackslash{}\\%] 850\n\\item[50\\textbackslash{}\\%] 940\n\\item[75\\textbackslash{}\\%] 980\n\\end{description*}\n",
            "text/plain": [
              "25% 50% 75% \n",
              "850 940 980 "
            ]
          },
          "metadata": {}
        },
        {
          "output_type": "display_data",
          "data": {
            "text/html": [
              "909"
            ],
            "text/markdown": "909",
            "text/latex": "909",
            "text/plain": [
              "[1] 909"
            ]
          },
          "metadata": {}
        },
        {
          "output_type": "display_data",
          "data": {
            "text/html": [
              "11009.4736842105"
            ],
            "text/markdown": "11009.4736842105",
            "text/latex": "11009.4736842105",
            "text/plain": [
              "[1] 11009.47"
            ]
          },
          "metadata": {}
        },
        {
          "output_type": "display_data",
          "data": {
            "text/html": [
              "11009.4736842105"
            ],
            "text/markdown": "11009.4736842105",
            "text/latex": "11009.4736842105",
            "text/plain": [
              "[1] 11009.47"
            ]
          },
          "metadata": {}
        },
        {
          "output_type": "display_data",
          "data": {
            "text/html": [
              "104.926039114276"
            ],
            "text/markdown": "104.926039114276",
            "text/latex": "104.926039114276",
            "text/plain": [
              "[1] 104.926"
            ]
          },
          "metadata": {}
        },
        {
          "output_type": "display_data",
          "data": {
            "text/html": [
              "104.926039114276"
            ],
            "text/markdown": "104.926039114276",
            "text/latex": "104.926039114276",
            "text/plain": [
              "[1] 104.926"
            ]
          },
          "metadata": {}
        }
      ]
    },
    {
      "cell_type": "code",
      "source": [
        "# Plots\n",
        "#\n",
        "######################################\n",
        "\n",
        "devAskNewPage(ask=TRUE)    # perimevei priv ftia3ei vea grafikn parastasn\n",
        "boxplot(z)\n",
        "\n",
        "par(mfrow=c(2,1))          # duo grafikes parastaseis pavw kai katw\n",
        "hist(z)\t\t\t\t# istogramma suxvotntwv\n",
        "hist(z,probability=T,col=\"grey\")\n",
        "par(mfrow=c(1,1))\n",
        "\n",
        "par(mfrow=c(1,2))\n",
        "z<-rnorm(5000) \t\t\t# tuxaio deigma mege8ous 5000 apo N(0,1)\n",
        "hist(z,nclass=25,col=4,xlab=\"x\",main=\"Histogram of N(0,1)\",xlim=c(-4,4))\n",
        "plot(dnorm,xlim=c(-4,4))\n",
        "par(mfrow=c(1,1))\n",
        "mean(z)\n",
        "sd(z)"
      ],
      "metadata": {
        "colab": {
          "base_uri": "https://localhost:8080/",
          "height": 1000
        },
        "id": "K3EQxeZJ8kI5",
        "outputId": "86fa3a7a-28af-4b87-c010-f2a20a5ecc95"
      },
      "execution_count": null,
      "outputs": [
        {
          "output_type": "display_data",
          "data": {
            "text/plain": [
              "plot without title"
            ],
            "image/png": "[encoded data removed]"
          },
          "metadata": {
            "image/png": {
              "width": 420,
              "height": 420
            }
          }
        },
        {
          "output_type": "display_data",
          "data": {
            "text/plain": [
              "Plot with title “Histogram of z”"
            ],
            "image/png": "[encoded data removed]"
          },
          "metadata": {
            "image/png": {
              "width": 420,
              "height": 420
            }
          }
        },
        {
          "output_type": "display_data",
          "data": {
            "text/html": [
              "0.00471029139157758"
            ],
            "text/markdown": "0.00471029139157758",
            "text/latex": "0.00471029139157758",
            "text/plain": [
              "[1] 0.004710291"
            ]
          },
          "metadata": {}
        },
        {
          "output_type": "display_data",
          "data": {
            "text/html": [
              "0.998455820431514"
            ],
            "text/markdown": "0.998455820431514",
            "text/latex": "0.998455820431514",
            "text/plain": [
              "[1] 0.9984558"
            ]
          },
          "metadata": {}
        },
        {
          "output_type": "display_data",
          "data": {
            "text/plain": [
              "Plot with title “Histogram of N(0,1)”"
            ],
            "image/png": "[encoded data removed]"
          },
          "metadata": {
            "image/png": {
              "width": 420,
              "height": 420
            }
          }
        }
      ]
    },
    {
      "cell_type": "code",
      "source": [
        "# InsectSprays\n",
        "\n",
        "boxplot(count ~ spray, data = InsectSprays)\n",
        "\n",
        "boxplot(count ~ spray, data = InsectSprays,\n",
        "            notch = TRUE, col = \"blue\")\n",
        "\n",
        "boxplot(count ~ spray, data = InsectSprays,\n",
        "              add = TRUE, col = \"blue\")"
      ],
      "metadata": {
        "colab": {
          "base_uri": "https://localhost:8080/",
          "height": 892
        },
        "id": "uF9ypdke8nsd",
        "outputId": "2232ab05-7ba3-4f4f-df9a-2171143c0a78"
      },
      "execution_count": null,
      "outputs": [
        {
          "output_type": "stream",
          "name": "stderr",
          "text": [
            "Warning message in (function (z, notch = FALSE, width = NULL, varwidth = FALSE, :\n",
            "“some notches went outside hinges ('box'): maybe set notch=FALSE”\n"
          ]
        },
        {
          "output_type": "display_data",
          "data": {
            "text/plain": [
              "plot without title"
            ],
            "image/png": "[encoded data removed]"
          },
          "metadata": {
            "image/png": {
              "width": 420,
              "height": 420
            }
          }
        },
        {
          "output_type": "display_data",
          "data": {
            "text/plain": [
              "plot without title"
            ],
            "image/png": "[encoded data removed]"
          },
          "metadata": {
            "image/png": {
              "width": 420,
              "height": 420
            }
          }
        }
      ]
    },
    {
      "cell_type": "code",
      "source": [
        "boxplot(len ~ dose, data = ToothGrowth,\n",
        "              boxwex = 0.25, at = 1:3 - 0.2,\n",
        "              subset = supp == \"VC\", col = \"yellow\",\n",
        "              main = \"Guinea Pigs' Tooth Growth\",\n",
        "              xlab = \"Vitamin C dose mg\",\n",
        "              ylab = \"tooth length\",\n",
        "              xlim = c(0.5, 3.5), ylim = c(0, 35), yaxs = \"i\")\n",
        "      boxplot(len ~ dose, data = ToothGrowth, add = TRUE,\n",
        "              boxwex = 0.25, at = 1:3 + 0.2,\n",
        "              subset = supp == \"OJ\", col = \"orange\")\n",
        "      legend(2, 9, c(\"Ascorbic acid\", \"Orange juice\"),\n",
        "             fill = c(\"yellow\", \"orange\"))"
      ],
      "metadata": {
        "colab": {
          "base_uri": "https://localhost:8080/",
          "height": 437
        },
        "id": "Gj2usEYU8ra9",
        "outputId": "7144675a-6761-4827-c012-2e6bc799d0ca"
      },
      "execution_count": null,
      "outputs": [
        {
          "output_type": "display_data",
          "data": {
            "text/plain": [
              "Plot with title “Guinea Pigs' Tooth Growth”"
            ],
            "image/png": "[encoded data removed]"
          },
          "metadata": {
            "image/png": {
              "width": 420,
              "height": 420
            }
          }
        }
      ]
    },
    {
      "cell_type": "code",
      "source": [
        "par(mfrow=c(1,2))\n",
        "z<-rnorm(5000) \t\t\t# tuxaio deigma mege8ous 5000 apo N(0,1)\n",
        "hist(z,nclass=25,col=4,xlab=\"x\",main=\"Histogram of N(0,1)\",xlim=c(-4,4))\n",
        "plot(dnorm,xlim=c(-4,4))\n",
        "par(mfrow=c(1,1))\n",
        "mean(z)\n",
        "sd(z)"
      ],
      "metadata": {
        "id": "ZUS5faqW8x0I",
        "outputId": "b2d0d269-997c-49d1-b6b9-c9bbebede478",
        "colab": {
          "base_uri": "https://localhost:8080/",
          "height": 472
        }
      },
      "execution_count": null,
      "outputs": [
        {
          "output_type": "display_data",
          "data": {
            "text/html": [
              "0.0135299923466825"
            ],
            "text/markdown": "0.0135299923466825",
            "text/latex": "0.0135299923466825",
            "text/plain": [
              "[1] 0.01352999"
            ]
          },
          "metadata": {}
        },
        {
          "output_type": "display_data",
          "data": {
            "text/html": [
              "1.00998777310532"
            ],
            "text/markdown": "1.00998777310532",
            "text/latex": "1.00998777310532",
            "text/plain": [
              "[1] 1.009988"
            ]
          },
          "metadata": {}
        },
        {
          "output_type": "display_data",
          "data": {
            "text/plain": [
              "Plot with title “Histogram of N(0,1)”"
            ],
            "image/png": "[encoded data removed]"
          },
          "metadata": {
            "image/png": {
              "width": 420,
              "height": 420
            }
          }
        }
      ]
    },
    {
      "cell_type": "code",
      "source": [],
      "metadata": {
        "id": "8rmcBzYy80kJ"
      },
      "execution_count": null,
      "outputs": []
    }
  ]
}