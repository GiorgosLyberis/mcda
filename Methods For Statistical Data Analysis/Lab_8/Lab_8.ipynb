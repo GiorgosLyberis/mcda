{
  "nbformat": 4,
  "nbformat_minor": 0,
  "metadata": {
    "colab": {
      "provenance": [],
      "authorship_tag": "ABX9TyMEAh++VqOjSJ8GtGv5usg6",
      "include_colab_link": true
    },
    "kernelspec": {
      "name": "ir",
      "display_name": "R"
    },
    "language_info": {
      "name": "R"
    }
  },
  "cells": [
    {
      "cell_type": "markdown",
      "metadata": {
        "id": "view-in-github",
        "colab_type": "text"
      },
      "source": [
        "<a href=\"https://colab.research.google.com/github/GiorgosLyberis/mcda/blob/main/Methods%20For%20Statistical%20Data%20Analysis/Lab_8/Lab_8.ipynb\" target=\"_parent\"><img src=\"https://colab.research.google.com/assets/colab-badge.svg\" alt=\"Open In Colab\"/></a>"
      ]
    },
    {
      "cell_type": "code",
      "execution_count": 2,
      "metadata": {
        "colab": {
          "base_uri": "https://localhost:8080/",
          "height": 479
        },
        "id": "GKngKRCybK6F",
        "outputId": "71c4b61d-291d-41d0-a4c1-fda820b1094a"
      },
      "outputs": [
        {
          "output_type": "display_data",
          "data": {
            "text/html": [
              "<table class=\"dataframe\">\n",
              "<caption>A matrix: 2 × 2 of type dbl</caption>\n",
              "<tbody>\n",
              "\t<tr><td>4</td><td>11</td></tr>\n",
              "\t<tr><td>2</td><td>38</td></tr>\n",
              "</tbody>\n",
              "</table>\n"
            ],
            "text/markdown": "\nA matrix: 2 × 2 of type dbl\n\n| 4 | 11 |\n| 2 | 38 |\n\n",
            "text/latex": "A matrix: 2 × 2 of type dbl\n\\begin{tabular}{ll}\n\t 4 & 11\\\\\n\t 2 & 38\\\\\n\\end{tabular}\n",
            "text/plain": [
              "     [,1] [,2]\n",
              "[1,] 4    11  \n",
              "[2,] 2    38  "
            ]
          },
          "metadata": {}
        },
        {
          "output_type": "display_data",
          "data": {
            "text/plain": [
              "\n",
              "\tFisher's Exact Test for Count Data\n",
              "\n",
              "data:  data\n",
              "p-value = 0.04104\n",
              "alternative hypothesis: true odds ratio is not equal to 1\n",
              "95 percent confidence interval:\n",
              "  0.8242789 82.0421661\n",
              "sample estimates:\n",
              "odds ratio \n",
              "  6.607341 \n"
            ]
          },
          "metadata": {}
        },
        {
          "output_type": "display_data",
          "data": {
            "text/html": [
              "6.90909090909091"
            ],
            "text/markdown": "6.90909090909091",
            "text/latex": "6.90909090909091",
            "text/plain": [
              "[1] 6.909091"
            ]
          },
          "metadata": {}
        },
        {
          "output_type": "stream",
          "name": "stderr",
          "text": [
            "Warning message in chisq.test(data):\n",
            "“Chi-squared approximation may be incorrect”\n"
          ]
        },
        {
          "output_type": "display_data",
          "data": {
            "text/plain": [
              "\n",
              "\tPearson's Chi-squared test with Yates' continuity correction\n",
              "\n",
              "data:  data\n",
              "X-squared = 3.2758, df = 1, p-value = 0.07031\n"
            ]
          },
          "metadata": {}
        }
      ],
      "source": [
        "data<-matrix(c(4,11,2,38),2,2,byrow=T)\n",
        "data\n",
        "fisher.test(data)\n",
        "(4*38)/(2*11)\n",
        "chisq.test(data)"
      ]
    },
    {
      "cell_type": "code",
      "source": [
        "data<-matrix(c(4,0,0,4),2,2,byrow=T)\n",
        "data\n",
        "fisher.test(data)\n",
        "chisq.test(data)"
      ],
      "metadata": {
        "colab": {
          "base_uri": "https://localhost:8080/",
          "height": 479
        },
        "id": "1U-ypZ7Hbc4c",
        "outputId": "3357b77b-c113-4188-ce5b-fbe514936d33"
      },
      "execution_count": 3,
      "outputs": [
        {
          "output_type": "display_data",
          "data": {
            "text/html": [
              "<table class=\"dataframe\">\n",
              "<caption>A matrix: 2 × 2 of type dbl</caption>\n",
              "<tbody>\n",
              "\t<tr><td>4</td><td>0</td></tr>\n",
              "\t<tr><td>0</td><td>4</td></tr>\n",
              "</tbody>\n",
              "</table>\n"
            ],
            "text/markdown": "\nA matrix: 2 × 2 of type dbl\n\n| 4 | 0 |\n| 0 | 4 |\n\n",
            "text/latex": "A matrix: 2 × 2 of type dbl\n\\begin{tabular}{ll}\n\t 4 & 0\\\\\n\t 0 & 4\\\\\n\\end{tabular}\n",
            "text/plain": [
              "     [,1] [,2]\n",
              "[1,] 4    0   \n",
              "[2,] 0    4   "
            ]
          },
          "metadata": {}
        },
        {
          "output_type": "display_data",
          "data": {
            "text/plain": [
              "\n",
              "\tFisher's Exact Test for Count Data\n",
              "\n",
              "data:  data\n",
              "p-value = 0.02857\n",
              "alternative hypothesis: true odds ratio is not equal to 1\n",
              "95 percent confidence interval:\n",
              " 1.339059      Inf\n",
              "sample estimates:\n",
              "odds ratio \n",
              "       Inf \n"
            ]
          },
          "metadata": {}
        },
        {
          "output_type": "stream",
          "name": "stderr",
          "text": [
            "Warning message in chisq.test(data):\n",
            "“Chi-squared approximation may be incorrect”\n"
          ]
        },
        {
          "output_type": "display_data",
          "data": {
            "text/plain": [
              "\n",
              "\tPearson's Chi-squared test with Yates' continuity correction\n",
              "\n",
              "data:  data\n",
              "X-squared = 4.5, df = 1, p-value = 0.03389\n"
            ]
          },
          "metadata": {}
        }
      ]
    },
    {
      "cell_type": "code",
      "source": [
        "## 6th example in Mehta & Patel's JASA paper\n",
        "MP6 <- rbind(\n",
        "        c(1,2,2,1,1,0,1),\n",
        "        c(2,0,0,2,3,0,0),\n",
        "        c(0,1,1,1,2,7,3),\n",
        "        c(1,1,2,0,0,0,1),\n",
        "        c(0,1,1,1,1,0,0))\n",
        "fisher.test(MP6)\n",
        "# Exactly the same p-value, as Cochran's conditions are never met:\n",
        "fisher.test(MP6, hybrid=TRUE)"
      ],
      "metadata": {
        "colab": {
          "base_uri": "https://localhost:8080/",
          "height": 243
        },
        "id": "ikNqvfmLbedz",
        "outputId": "f8936b15-5f0a-41e9-c0d6-f99c042b1372"
      },
      "execution_count": 4,
      "outputs": [
        {
          "output_type": "display_data",
          "data": {
            "text/plain": [
              "\n",
              "\tFisher's Exact Test for Count Data\n",
              "\n",
              "data:  MP6\n",
              "p-value = 0.03929\n",
              "alternative hypothesis: two.sided\n"
            ]
          },
          "metadata": {}
        },
        {
          "output_type": "display_data",
          "data": {
            "text/plain": [
              "\n",
              "\tFisher's Exact Test for Count Data hybrid using asym.chisq. iff (exp=5,\n",
              "\tperc=80, Emin=1)\n",
              "\n",
              "data:  MP6\n",
              "p-value = 0.03929\n",
              "alternative hypothesis: two.sided\n"
            ]
          },
          "metadata": {}
        }
      ]
    },
    {
      "cell_type": "code",
      "source": [
        "# Mantel-Haenszel\n",
        "\n",
        "mh.array<-array(c(4,12,9,34,4,34,6,33,7,6,2,7,5,59,\n",
        "5,56,7,22,7,69,5,41,6,80,3,8,6,72,4,1,8,20,7,77,2,\n",
        "38,4,20,6,70,1,16,8,76,4,10,10,91,9,27,18,118,3,35,\n",
        "5,45,9,69,5,20,2,3,3,12,6,45, 1,31,14,12,10,70,15,\n",
        "43,15,129),c(2,2,19))\n",
        "mh.array\n",
        "\n",
        "mantelhaen.test(mh.array)\n",
        "mantelhaen.test(mh.array,correct=F)"
      ],
      "metadata": {
        "colab": {
          "base_uri": "https://localhost:8080/",
          "height": 451
        },
        "id": "Dpe5wS0NbhCy",
        "outputId": "5ab0f081-b592-46cd-bd29-998205488704"
      },
      "execution_count": 5,
      "outputs": [
        {
          "output_type": "display_data",
          "data": {
            "text/html": [
              "<style>\n",
              ".list-inline {list-style: none; margin:0; padding: 0}\n",
              ".list-inline>li {display: inline-block}\n",
              ".list-inline>li:not(:last-child)::after {content: \"\\00b7\"; padding: 0 .5ex}\n",
              "</style>\n",
              "<ol class=list-inline><li>4</li><li>12</li><li>9</li><li>34</li><li>4</li><li>34</li><li>6</li><li>33</li><li>7</li><li>6</li><li>2</li><li>7</li><li>5</li><li>59</li><li>5</li><li>56</li><li>7</li><li>22</li><li>7</li><li>69</li><li>5</li><li>41</li><li>6</li><li>80</li><li>3</li><li>8</li><li>6</li><li>72</li><li>4</li><li>1</li><li>8</li><li>20</li><li>7</li><li>77</li><li>2</li><li>38</li><li>4</li><li>20</li><li>6</li><li>70</li><li>1</li><li>16</li><li>8</li><li>76</li><li>4</li><li>10</li><li>10</li><li>91</li><li>9</li><li>27</li><li>18</li><li>118</li><li>3</li><li>35</li><li>5</li><li>45</li><li>9</li><li>69</li><li>5</li><li>20</li><li>2</li><li>3</li><li>3</li><li>12</li><li>6</li><li>45</li><li>1</li><li>31</li><li>14</li><li>12</li><li>10</li><li>70</li><li>15</li><li>43</li><li>15</li><li>129</li></ol>\n"
            ],
            "text/markdown": "1. 4\n2. 12\n3. 9\n4. 34\n5. 4\n6. 34\n7. 6\n8. 33\n9. 7\n10. 6\n11. 2\n12. 7\n13. 5\n14. 59\n15. 5\n16. 56\n17. 7\n18. 22\n19. 7\n20. 69\n21. 5\n22. 41\n23. 6\n24. 80\n25. 3\n26. 8\n27. 6\n28. 72\n29. 4\n30. 1\n31. 8\n32. 20\n33. 7\n34. 77\n35. 2\n36. 38\n37. 4\n38. 20\n39. 6\n40. 70\n41. 1\n42. 16\n43. 8\n44. 76\n45. 4\n46. 10\n47. 10\n48. 91\n49. 9\n50. 27\n51. 18\n52. 118\n53. 3\n54. 35\n55. 5\n56. 45\n57. 9\n58. 69\n59. 5\n60. 20\n61. 2\n62. 3\n63. 3\n64. 12\n65. 6\n66. 45\n67. 1\n68. 31\n69. 14\n70. 12\n71. 10\n72. 70\n73. 15\n74. 43\n75. 15\n76. 129\n\n\n",
            "text/latex": "\\begin{enumerate*}\n\\item 4\n\\item 12\n\\item 9\n\\item 34\n\\item 4\n\\item 34\n\\item 6\n\\item 33\n\\item 7\n\\item 6\n\\item 2\n\\item 7\n\\item 5\n\\item 59\n\\item 5\n\\item 56\n\\item 7\n\\item 22\n\\item 7\n\\item 69\n\\item 5\n\\item 41\n\\item 6\n\\item 80\n\\item 3\n\\item 8\n\\item 6\n\\item 72\n\\item 4\n\\item 1\n\\item 8\n\\item 20\n\\item 7\n\\item 77\n\\item 2\n\\item 38\n\\item 4\n\\item 20\n\\item 6\n\\item 70\n\\item 1\n\\item 16\n\\item 8\n\\item 76\n\\item 4\n\\item 10\n\\item 10\n\\item 91\n\\item 9\n\\item 27\n\\item 18\n\\item 118\n\\item 3\n\\item 35\n\\item 5\n\\item 45\n\\item 9\n\\item 69\n\\item 5\n\\item 20\n\\item 2\n\\item 3\n\\item 3\n\\item 12\n\\item 6\n\\item 45\n\\item 1\n\\item 31\n\\item 14\n\\item 12\n\\item 10\n\\item 70\n\\item 15\n\\item 43\n\\item 15\n\\item 129\n\\end{enumerate*}\n",
            "text/plain": [
              ", , 1\n",
              "\n",
              "     [,1] [,2]\n",
              "[1,]    4    9\n",
              "[2,]   12   34\n",
              "\n",
              ", , 2\n",
              "\n",
              "     [,1] [,2]\n",
              "[1,]    4    6\n",
              "[2,]   34   33\n",
              "\n",
              ", , 3\n",
              "\n",
              "     [,1] [,2]\n",
              "[1,]    7    2\n",
              "[2,]    6    7\n",
              "\n",
              ", , 4\n",
              "\n",
              "     [,1] [,2]\n",
              "[1,]    5    5\n",
              "[2,]   59   56\n",
              "\n",
              ", , 5\n",
              "\n",
              "     [,1] [,2]\n",
              "[1,]    7    7\n",
              "[2,]   22   69\n",
              "\n",
              ", , 6\n",
              "\n",
              "     [,1] [,2]\n",
              "[1,]    5    6\n",
              "[2,]   41   80\n",
              "\n",
              ", , 7\n",
              "\n",
              "     [,1] [,2]\n",
              "[1,]    3    6\n",
              "[2,]    8   72\n",
              "\n",
              ", , 8\n",
              "\n",
              "     [,1] [,2]\n",
              "[1,]    4    8\n",
              "[2,]    1   20\n",
              "\n",
              ", , 9\n",
              "\n",
              "     [,1] [,2]\n",
              "[1,]    7    2\n",
              "[2,]   77   38\n",
              "\n",
              ", , 10\n",
              "\n",
              "     [,1] [,2]\n",
              "[1,]    4    6\n",
              "[2,]   20   70\n",
              "\n",
              ", , 11\n",
              "\n",
              "     [,1] [,2]\n",
              "[1,]    1    8\n",
              "[2,]   16   76\n",
              "\n",
              ", , 12\n",
              "\n",
              "     [,1] [,2]\n",
              "[1,]    4   10\n",
              "[2,]   10   91\n",
              "\n",
              ", , 13\n",
              "\n",
              "     [,1] [,2]\n",
              "[1,]    9   18\n",
              "[2,]   27  118\n",
              "\n",
              ", , 14\n",
              "\n",
              "     [,1] [,2]\n",
              "[1,]    3    5\n",
              "[2,]   35   45\n",
              "\n",
              ", , 15\n",
              "\n",
              "     [,1] [,2]\n",
              "[1,]    9    5\n",
              "[2,]   69   20\n",
              "\n",
              ", , 16\n",
              "\n",
              "     [,1] [,2]\n",
              "[1,]    2    3\n",
              "[2,]    3   12\n",
              "\n",
              ", , 17\n",
              "\n",
              "     [,1] [,2]\n",
              "[1,]    6    1\n",
              "[2,]   45   31\n",
              "\n",
              ", , 18\n",
              "\n",
              "     [,1] [,2]\n",
              "[1,]   14   10\n",
              "[2,]   12   70\n",
              "\n",
              ", , 19\n",
              "\n",
              "     [,1] [,2]\n",
              "[1,]   15   15\n",
              "[2,]   43  129\n"
            ]
          },
          "metadata": {}
        },
        {
          "output_type": "display_data",
          "data": {
            "text/plain": [
              "\n",
              "\tMantel-Haenszel chi-squared test with continuity correction\n",
              "\n",
              "data:  mh.array\n",
              "Mantel-Haenszel X-squared = 25.188, df = 1, p-value = 5.201e-07\n",
              "alternative hypothesis: true common odds ratio is not equal to 1\n",
              "95 percent confidence interval:\n",
              " 1.551143 2.795841\n",
              "sample estimates:\n",
              "common odds ratio \n",
              "         2.082486 \n"
            ]
          },
          "metadata": {}
        },
        {
          "output_type": "display_data",
          "data": {
            "text/plain": [
              "\n",
              "\tMantel-Haenszel chi-squared test without continuity correction\n",
              "\n",
              "data:  mh.array\n",
              "Mantel-Haenszel X-squared = 25.994, df = 1, p-value = 3.425e-07\n",
              "alternative hypothesis: true common odds ratio is not equal to 1\n",
              "95 percent confidence interval:\n",
              " 1.551143 2.795841\n",
              "sample estimates:\n",
              "common odds ratio \n",
              "         2.082486 \n"
            ]
          },
          "metadata": {}
        }
      ]
    },
    {
      "cell_type": "code",
      "source": [
        "data <-matrix(c(21, 2, 9, 12),nrow = 2,\n",
        "        dimnames = list(\"Control\" = c(\"Fail\", \"Pass\"),\n",
        "                        \"Test\" = c(\"Fail\", \"Pass\")))\n",
        "data\n",
        "mcnemar.test(data)\n",
        "(abs(9-2)-1)^2/(9+2); 1-pchisq((abs(9-2)-1)^2/(9+2),df=1)\n",
        "prop.test(9,9+2,p=1/2)\n",
        "\n",
        "mcnemar.test(data,correct=FALSE)\n",
        "(9-2)^2/(9+2)\n",
        "1-pchisq((9-2)^2/(9+2),df=1)\n",
        "prop.test(9,9+2,p=1/2,correct=FALSE)\n",
        "\n",
        "install.packages(\"exact2x2\")\n",
        "\n",
        "library(exact2x2)\n",
        "help(exact2x2)\n",
        "mcnemar.exact(data)"
      ],
      "metadata": {
        "colab": {
          "base_uri": "https://localhost:8080/",
          "height": 1000
        },
        "id": "-57vn1p9bjkf",
        "outputId": "206d21e6-6db7-4893-bc56-1b44b20a6d53"
      },
      "execution_count": 7,
      "outputs": [
        {
          "output_type": "display_data",
          "data": {
            "text/html": [
              "<table class=\"dataframe\">\n",
              "<caption>A matrix: 2 × 2 of type dbl</caption>\n",
              "<thead>\n",
              "\t<tr><th></th><th scope=col>Fail</th><th scope=col>Pass</th></tr>\n",
              "</thead>\n",
              "<tbody>\n",
              "\t<tr><th scope=row>Fail</th><td>21</td><td> 9</td></tr>\n",
              "\t<tr><th scope=row>Pass</th><td> 2</td><td>12</td></tr>\n",
              "</tbody>\n",
              "</table>\n"
            ],
            "text/markdown": "\nA matrix: 2 × 2 of type dbl\n\n| <!--/--> | Fail | Pass |\n|---|---|---|\n| Fail | 21 |  9 |\n| Pass |  2 | 12 |\n\n",
            "text/latex": "A matrix: 2 × 2 of type dbl\n\\begin{tabular}{r|ll}\n  & Fail & Pass\\\\\n\\hline\n\tFail & 21 &  9\\\\\n\tPass &  2 & 12\\\\\n\\end{tabular}\n",
            "text/plain": [
              "       Test\n",
              "Control Fail Pass\n",
              "   Fail 21    9  \n",
              "   Pass  2   12  "
            ]
          },
          "metadata": {}
        },
        {
          "output_type": "display_data",
          "data": {
            "text/plain": [
              "\n",
              "\tMcNemar's Chi-squared test with continuity correction\n",
              "\n",
              "data:  data\n",
              "McNemar's chi-squared = 3.2727, df = 1, p-value = 0.07044\n"
            ]
          },
          "metadata": {}
        },
        {
          "output_type": "display_data",
          "data": {
            "text/html": [
              "3.27272727272727"
            ],
            "text/markdown": "3.27272727272727",
            "text/latex": "3.27272727272727",
            "text/plain": [
              "[1] 3.272727"
            ]
          },
          "metadata": {}
        },
        {
          "output_type": "display_data",
          "data": {
            "text/html": [
              "0.0704404292720882"
            ],
            "text/markdown": "0.0704404292720882",
            "text/latex": "0.0704404292720882",
            "text/plain": [
              "[1] 0.07044043"
            ]
          },
          "metadata": {}
        },
        {
          "output_type": "display_data",
          "data": {
            "text/plain": [
              "\n",
              "\t1-sample proportions test with continuity correction\n",
              "\n",
              "data:  9 out of 9 + 2, null probability 1/2\n",
              "X-squared = 3.2727, df = 1, p-value = 0.07044\n",
              "alternative hypothesis: true p is not equal to 0.5\n",
              "95 percent confidence interval:\n",
              " 0.4775496 0.9678614\n",
              "sample estimates:\n",
              "        p \n",
              "0.8181818 \n"
            ]
          },
          "metadata": {}
        },
        {
          "output_type": "display_data",
          "data": {
            "text/plain": [
              "\n",
              "\tMcNemar's Chi-squared test\n",
              "\n",
              "data:  data\n",
              "McNemar's chi-squared = 4.4545, df = 1, p-value = 0.03481\n"
            ]
          },
          "metadata": {}
        },
        {
          "output_type": "display_data",
          "data": {
            "text/html": [
              "4.45454545454545"
            ],
            "text/markdown": "4.45454545454545",
            "text/latex": "4.45454545454545",
            "text/plain": [
              "[1] 4.454545"
            ]
          },
          "metadata": {}
        },
        {
          "output_type": "display_data",
          "data": {
            "text/html": [
              "0.0348084788118671"
            ],
            "text/markdown": "0.0348084788118671",
            "text/latex": "0.0348084788118671",
            "text/plain": [
              "[1] 0.03480848"
            ]
          },
          "metadata": {}
        },
        {
          "output_type": "display_data",
          "data": {
            "text/plain": [
              "\n",
              "\t1-sample proportions test without continuity correction\n",
              "\n",
              "data:  9 out of 9 + 2, null probability 1/2\n",
              "X-squared = 4.4545, df = 1, p-value = 0.03481\n",
              "alternative hypothesis: true p is not equal to 0.5\n",
              "95 percent confidence interval:\n",
              " 0.5230194 0.9486323\n",
              "sample estimates:\n",
              "        p \n",
              "0.8181818 \n"
            ]
          },
          "metadata": {}
        },
        {
          "output_type": "stream",
          "name": "stderr",
          "text": [
            "Installing package into ‘/usr/local/lib/R/site-library’\n",
            "(as ‘lib’ is unspecified)\n",
            "\n",
            "also installing the dependencies ‘exactci’, ‘ssanv’\n",
            "\n",
            "\n",
            "Loading required package: exactci\n",
            "\n",
            "Loading required package: ssanv\n",
            "\n",
            "Loading required package: testthat\n",
            "\n"
          ]
        },
        {
          "output_type": "display_data",
          "data": {
            "text/plain": [
              "\n",
              "\tExact McNemar test (with central confidence intervals)\n",
              "\n",
              "data:  data\n",
              "b = 9, c = 2, p-value = 0.06543\n",
              "alternative hypothesis: true odds ratio is not equal to 1\n",
              "95 percent confidence interval:\n",
              "  0.9314123 42.7997159\n",
              "sample estimates:\n",
              "odds ratio \n",
              "       4.5 \n"
            ]
          },
          "metadata": {}
        }
      ]
    },
    {
      "cell_type": "code",
      "source": [
        "data <-matrix(c(3, 2, 9, 1),nrow = 2,\n",
        "        dimnames = list(\"Control\" = c(\"Fail\", \"Pass\"),\n",
        "                        \"Test\" = c(\"Fail\", \"Pass\")))\n",
        "data\n",
        "mcnemar.test(data)\n",
        "mcnemar.exact(data)\n",
        "binom.test(9,9+2,p=1/2)"
      ],
      "metadata": {
        "colab": {
          "base_uri": "https://localhost:8080/",
          "height": 616
        },
        "id": "1DzX5k79boxG",
        "outputId": "5e2541df-57b8-4cb6-c64f-8505d924d034"
      },
      "execution_count": 8,
      "outputs": [
        {
          "output_type": "display_data",
          "data": {
            "text/html": [
              "<table class=\"dataframe\">\n",
              "<caption>A matrix: 2 × 2 of type dbl</caption>\n",
              "<thead>\n",
              "\t<tr><th></th><th scope=col>Fail</th><th scope=col>Pass</th></tr>\n",
              "</thead>\n",
              "<tbody>\n",
              "\t<tr><th scope=row>Fail</th><td>3</td><td>9</td></tr>\n",
              "\t<tr><th scope=row>Pass</th><td>2</td><td>1</td></tr>\n",
              "</tbody>\n",
              "</table>\n"
            ],
            "text/markdown": "\nA matrix: 2 × 2 of type dbl\n\n| <!--/--> | Fail | Pass |\n|---|---|---|\n| Fail | 3 | 9 |\n| Pass | 2 | 1 |\n\n",
            "text/latex": "A matrix: 2 × 2 of type dbl\n\\begin{tabular}{r|ll}\n  & Fail & Pass\\\\\n\\hline\n\tFail & 3 & 9\\\\\n\tPass & 2 & 1\\\\\n\\end{tabular}\n",
            "text/plain": [
              "       Test\n",
              "Control Fail Pass\n",
              "   Fail 3    9   \n",
              "   Pass 2    1   "
            ]
          },
          "metadata": {}
        },
        {
          "output_type": "display_data",
          "data": {
            "text/plain": [
              "\n",
              "\tMcNemar's Chi-squared test with continuity correction\n",
              "\n",
              "data:  data\n",
              "McNemar's chi-squared = 3.2727, df = 1, p-value = 0.07044\n"
            ]
          },
          "metadata": {}
        },
        {
          "output_type": "display_data",
          "data": {
            "text/plain": [
              "\n",
              "\tExact McNemar test (with central confidence intervals)\n",
              "\n",
              "data:  data\n",
              "b = 9, c = 2, p-value = 0.06543\n",
              "alternative hypothesis: true odds ratio is not equal to 1\n",
              "95 percent confidence interval:\n",
              "  0.9314123 42.7997159\n",
              "sample estimates:\n",
              "odds ratio \n",
              "       4.5 \n"
            ]
          },
          "metadata": {}
        },
        {
          "output_type": "display_data",
          "data": {
            "text/plain": [
              "\n",
              "\tExact binomial test\n",
              "\n",
              "data:  9 and 9 + 2\n",
              "number of successes = 9, number of trials = 11, p-value = 0.06543\n",
              "alternative hypothesis: true probability of success is not equal to 0.5\n",
              "95 percent confidence interval:\n",
              " 0.4822441 0.9771688\n",
              "sample estimates:\n",
              "probability of success \n",
              "             0.8181818 \n"
            ]
          },
          "metadata": {}
        }
      ]
    },
    {
      "cell_type": "code",
      "source": [
        "data <-matrix(c(15, 5, 4, 3, 7, 8, 9, 20, 60),nrow = 3,\n",
        "        dimnames = list(\"Control\" = c(\"Rodos\", \"Mykonos\", \"Santorini\"),\n",
        "                        \"Test\" = c(\"Rodos\", \"Mykonos\", \"Santorini\")))\n",
        "data\n",
        "mcnemar.test(data,correct=FALSE)\n",
        "(5-3)^2/(5+3)+(9-4)^2/(9+4)+(8-20)^2/(8+20)\n",
        "prop.test(c(5,9,8),c(8,12,28),p=c(1/2,1/2,1/2),correct=FALSE)"
      ],
      "metadata": {
        "colab": {
          "base_uri": "https://localhost:8080/",
          "height": 508
        },
        "id": "VQLTHcjIcD8M",
        "outputId": "1178aeea-fd7c-4dd5-ad0d-14dc62c75bc5"
      },
      "execution_count": 9,
      "outputs": [
        {
          "output_type": "display_data",
          "data": {
            "text/html": [
              "<table class=\"dataframe\">\n",
              "<caption>A matrix: 3 × 3 of type dbl</caption>\n",
              "<thead>\n",
              "\t<tr><th></th><th scope=col>Rodos</th><th scope=col>Mykonos</th><th scope=col>Santorini</th></tr>\n",
              "</thead>\n",
              "<tbody>\n",
              "\t<tr><th scope=row>Rodos</th><td>15</td><td>3</td><td> 9</td></tr>\n",
              "\t<tr><th scope=row>Mykonos</th><td> 5</td><td>7</td><td>20</td></tr>\n",
              "\t<tr><th scope=row>Santorini</th><td> 4</td><td>8</td><td>60</td></tr>\n",
              "</tbody>\n",
              "</table>\n"
            ],
            "text/markdown": "\nA matrix: 3 × 3 of type dbl\n\n| <!--/--> | Rodos | Mykonos | Santorini |\n|---|---|---|---|\n| Rodos | 15 | 3 |  9 |\n| Mykonos |  5 | 7 | 20 |\n| Santorini |  4 | 8 | 60 |\n\n",
            "text/latex": "A matrix: 3 × 3 of type dbl\n\\begin{tabular}{r|lll}\n  & Rodos & Mykonos & Santorini\\\\\n\\hline\n\tRodos & 15 & 3 &  9\\\\\n\tMykonos &  5 & 7 & 20\\\\\n\tSantorini &  4 & 8 & 60\\\\\n\\end{tabular}\n",
            "text/plain": [
              "           Test\n",
              "Control     Rodos Mykonos Santorini\n",
              "  Rodos     15    3        9       \n",
              "  Mykonos    5    7       20       \n",
              "  Santorini  4    8       60       "
            ]
          },
          "metadata": {}
        },
        {
          "output_type": "display_data",
          "data": {
            "text/plain": [
              "\n",
              "\tMcNemar's Chi-squared test\n",
              "\n",
              "data:  data\n",
              "McNemar's chi-squared = 7.5659, df = 3, p-value = 0.05589\n"
            ]
          },
          "metadata": {}
        },
        {
          "output_type": "display_data",
          "data": {
            "text/html": [
              "7.56593406593407"
            ],
            "text/markdown": "7.56593406593407",
            "text/latex": "7.56593406593407",
            "text/plain": [
              "[1] 7.565934"
            ]
          },
          "metadata": {}
        },
        {
          "output_type": "stream",
          "name": "stderr",
          "text": [
            "Warning message in prop.test(c(5, 9, 8), c(8, 12, 28), p = c(1/2, 1/2, 1/2), correct = FALSE):\n",
            "“Chi-squared approximation may be incorrect”\n"
          ]
        },
        {
          "output_type": "display_data",
          "data": {
            "text/plain": [
              "\n",
              "\t3-sample test for given proportions without continuity correction\n",
              "\n",
              "data:  c(5, 9, 8) out of c(8, 12, 28), null probabilities c(1/2, 1/2, 1/2)\n",
              "X-squared = 8.6429, df = 3, p-value = 0.03444\n",
              "alternative hypothesis: two.sided\n",
              "null values:\n",
              "prop 1 prop 2 prop 3 \n",
              "   0.5    0.5    0.5 \n",
              "sample estimates:\n",
              "   prop 1    prop 2    prop 3 \n",
              "0.6250000 0.7500000 0.2857143 \n"
            ]
          },
          "metadata": {}
        }
      ]
    }
  ]
}