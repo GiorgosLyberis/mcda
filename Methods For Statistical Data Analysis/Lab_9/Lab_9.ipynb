{
  "nbformat": 4,
  "nbformat_minor": 0,
  "metadata": {
    "colab": {
      "provenance": [],
      "authorship_tag": "ABX9TyN3w0Stm8CeuT/Z/nn65+qA",
      "include_colab_link": true
    },
    "kernelspec": {
      "name": "ir",
      "display_name": "R"
    },
    "language_info": {
      "name": "R"
    }
  },
  "cells": [
    {
      "cell_type": "markdown",
      "metadata": {
        "id": "view-in-github",
        "colab_type": "text"
      },
      "source": [
        "<a href=\"https://colab.research.google.com/github/GiorgosLyberis/mcda/blob/main/Methods%20For%20Statistical%20Data%20Analysis/Lab_9/Lab_9.ipynb\" target=\"_parent\"><img src=\"https://colab.research.google.com/assets/colab-badge.svg\" alt=\"Open In Colab\"/></a>"
      ]
    },
    {
      "cell_type": "code",
      "execution_count": 2,
      "metadata": {
        "id": "c750hTreeE5v"
      },
      "outputs": [],
      "source": [
        "#  Data 1\n",
        "x<-c(15, 13, 11, 9, 9, 6, 5, 4)\n",
        "\n",
        "\n",
        "y<-c(5, 6, 8, 10, 9, 12, 15, 11)"
      ]
    },
    {
      "cell_type": "code",
      "source": [
        "#  Data 2\n",
        "\n",
        "x<-c(80, 220, 140, 120, 180, 100, 200, 160)\n",
        "\n",
        "\n",
        "y<-c(0.6, 6.7, 5.3, 4, 6.55, 2.15, 6.6, 5.75)"
      ],
      "metadata": {
        "id": "v1ALsUEfeNHw"
      },
      "execution_count": 3,
      "outputs": []
    },
    {
      "cell_type": "code",
      "source": [
        "#  Data 3\n",
        "\n",
        "Month<-1:12\n",
        "Spend<-c(1000,  4000,  5000,  4500,  3000,  4000,  9000, 11000, 15000, 12000,  7000,  3000)\n",
        "\n",
        "Sales<-c(9914,  40487,  54324,  50044,  34719,  42551,  94871, 118914, 158484, 131348,\n",
        "78504,  36284)\n",
        "\n",
        "dataset<-data.frame(Month,Spend,Sales)\n",
        "dataset\n",
        "\n",
        "y<-Sales\n",
        "x<-Spend"
      ],
      "metadata": {
        "colab": {
          "base_uri": "https://localhost:8080/",
          "height": 474
        },
        "id": "oXLmMkemenYs",
        "outputId": "1a3da0dc-2601-4fad-cc34-31c4afff404f"
      },
      "execution_count": 4,
      "outputs": [
        {
          "output_type": "display_data",
          "data": {
            "text/html": [
              "<table class=\"dataframe\">\n",
              "<caption>A data.frame: 12 × 3</caption>\n",
              "<thead>\n",
              "\t<tr><th scope=col>Month</th><th scope=col>Spend</th><th scope=col>Sales</th></tr>\n",
              "\t<tr><th scope=col>&lt;int&gt;</th><th scope=col>&lt;dbl&gt;</th><th scope=col>&lt;dbl&gt;</th></tr>\n",
              "</thead>\n",
              "<tbody>\n",
              "\t<tr><td> 1</td><td> 1000</td><td>  9914</td></tr>\n",
              "\t<tr><td> 2</td><td> 4000</td><td> 40487</td></tr>\n",
              "\t<tr><td> 3</td><td> 5000</td><td> 54324</td></tr>\n",
              "\t<tr><td> 4</td><td> 4500</td><td> 50044</td></tr>\n",
              "\t<tr><td> 5</td><td> 3000</td><td> 34719</td></tr>\n",
              "\t<tr><td> 6</td><td> 4000</td><td> 42551</td></tr>\n",
              "\t<tr><td> 7</td><td> 9000</td><td> 94871</td></tr>\n",
              "\t<tr><td> 8</td><td>11000</td><td>118914</td></tr>\n",
              "\t<tr><td> 9</td><td>15000</td><td>158484</td></tr>\n",
              "\t<tr><td>10</td><td>12000</td><td>131348</td></tr>\n",
              "\t<tr><td>11</td><td> 7000</td><td> 78504</td></tr>\n",
              "\t<tr><td>12</td><td> 3000</td><td> 36284</td></tr>\n",
              "</tbody>\n",
              "</table>\n"
            ],
            "text/markdown": "\nA data.frame: 12 × 3\n\n| Month &lt;int&gt; | Spend &lt;dbl&gt; | Sales &lt;dbl&gt; |\n|---|---|---|\n|  1 |  1000 |   9914 |\n|  2 |  4000 |  40487 |\n|  3 |  5000 |  54324 |\n|  4 |  4500 |  50044 |\n|  5 |  3000 |  34719 |\n|  6 |  4000 |  42551 |\n|  7 |  9000 |  94871 |\n|  8 | 11000 | 118914 |\n|  9 | 15000 | 158484 |\n| 10 | 12000 | 131348 |\n| 11 |  7000 |  78504 |\n| 12 |  3000 |  36284 |\n\n",
            "text/latex": "A data.frame: 12 × 3\n\\begin{tabular}{lll}\n Month & Spend & Sales\\\\\n <int> & <dbl> & <dbl>\\\\\n\\hline\n\t  1 &  1000 &   9914\\\\\n\t  2 &  4000 &  40487\\\\\n\t  3 &  5000 &  54324\\\\\n\t  4 &  4500 &  50044\\\\\n\t  5 &  3000 &  34719\\\\\n\t  6 &  4000 &  42551\\\\\n\t  7 &  9000 &  94871\\\\\n\t  8 & 11000 & 118914\\\\\n\t  9 & 15000 & 158484\\\\\n\t 10 & 12000 & 131348\\\\\n\t 11 &  7000 &  78504\\\\\n\t 12 &  3000 &  36284\\\\\n\\end{tabular}\n",
            "text/plain": [
              "   Month Spend Sales \n",
              "1   1     1000   9914\n",
              "2   2     4000  40487\n",
              "3   3     5000  54324\n",
              "4   4     4500  50044\n",
              "5   5     3000  34719\n",
              "6   6     4000  42551\n",
              "7   7     9000  94871\n",
              "8   8    11000 118914\n",
              "9   9    15000 158484\n",
              "10 10    12000 131348\n",
              "11 11     7000  78504\n",
              "12 12     3000  36284"
            ]
          },
          "metadata": {}
        }
      ]
    },
    {
      "cell_type": "code",
      "source": [
        "plot(x,y,pch=21,col=\"blue\",bg=\"red\")\n",
        "abline(lm(y~x),col=\"red\")"
      ],
      "metadata": {
        "colab": {
          "base_uri": "https://localhost:8080/",
          "height": 437
        },
        "id": "9MIGv-IXe8HF",
        "outputId": "df0a2fa4-5d47-441f-cf9d-adfa6a310a27"
      },
      "execution_count": 5,
      "outputs": [
        {
          "output_type": "display_data",
          "data": {
            "text/plain": [
              "plot without title"
            ],
            "image/png": "[encoded data removed]"
          },
          "metadata": {
            "image/png": {
              "width": 420,
              "height": 420
            }
          }
        }
      ]
    },
    {
      "cell_type": "code",
      "source": [
        "yx.lm<-lm(y~x)\n",
        "yx.lm\n",
        "\n",
        "summary(yx.lm)"
      ],
      "metadata": {
        "colab": {
          "base_uri": "https://localhost:8080/",
          "height": 451
        },
        "id": "Hos9cYyRe95C",
        "outputId": "806aa6b6-d6a3-4ac7-edd5-24adffb367b2"
      },
      "execution_count": 6,
      "outputs": [
        {
          "output_type": "display_data",
          "data": {
            "text/plain": [
              "\n",
              "Call:\n",
              "lm(formula = y ~ x)\n",
              "\n",
              "Coefficients:\n",
              "(Intercept)            x  \n",
              "    1383.47        10.62  \n"
            ]
          },
          "metadata": {}
        },
        {
          "output_type": "display_data",
          "data": {
            "text/plain": [
              "\n",
              "Call:\n",
              "lm(formula = y ~ x)\n",
              "\n",
              "Residuals:\n",
              "   Min     1Q Median     3Q    Max \n",
              " -3385  -2097    258   1726   3034 \n",
              "\n",
              "Coefficients:\n",
              "             Estimate Std. Error t value Pr(>|t|)    \n",
              "(Intercept) 1383.4714  1255.2404   1.102    0.296    \n",
              "x             10.6222     0.1625  65.378 1.71e-14 ***\n",
              "---\n",
              "Signif. codes:  0 ‘***’ 0.001 ‘**’ 0.01 ‘*’ 0.05 ‘.’ 0.1 ‘ ’ 1\n",
              "\n",
              "Residual standard error: 2313 on 10 degrees of freedom\n",
              "Multiple R-squared:  0.9977,\tAdjusted R-squared:  0.9974 \n",
              "F-statistic:  4274 on 1 and 10 DF,  p-value: 1.707e-14\n"
            ]
          },
          "metadata": {}
        }
      ]
    },
    {
      "cell_type": "code",
      "source": [
        "yx.aov<-aov(y~x)\n",
        "summary(yx.aov)"
      ],
      "metadata": {
        "colab": {
          "base_uri": "https://localhost:8080/",
          "height": 104
        },
        "id": "Sydr7da4fAEP",
        "outputId": "9cd82f21-5e4e-4df2-bbc5-b22857c0e5ec"
      },
      "execution_count": 7,
      "outputs": [
        {
          "output_type": "display_data",
          "data": {
            "text/plain": [
              "            Df    Sum Sq   Mean Sq F value   Pr(>F)    \n",
              "x            1 2.287e+10 2.287e+10    4274 1.71e-14 ***\n",
              "Residuals   10 5.352e+07 5.352e+06                     \n",
              "---\n",
              "Signif. codes:  0 ‘***’ 0.001 ‘**’ 0.01 ‘*’ 0.05 ‘.’ 0.1 ‘ ’ 1"
            ]
          },
          "metadata": {}
        }
      ]
    },
    {
      "cell_type": "code",
      "source": [
        "a<-0.05\n",
        "confint.lm(yx.lm,level=1-a)\n",
        "\n",
        "a<-0.2\n",
        "Conf.y<-predict(yx.lm,list(x=c(0,x,mean(x))),se.fit = T,\n",
        "\t\tinterval = \"confidence\",level=1-a)\n",
        "Conf.y\n",
        "\n",
        "Pred.y<-predict(yx.lm,list(x=c(0,x,mean(x))),se.fit = T,\n",
        "\t\tinterval = \"prediction\",level=1-a)\n",
        "Pred.y"
      ],
      "metadata": {
        "colab": {
          "base_uri": "https://localhost:8080/",
          "height": 1000
        },
        "id": "DtZuoR-vfCCd",
        "outputId": "72fa3189-7100-4847-de8a-a9b896400061"
      },
      "execution_count": 8,
      "outputs": [
        {
          "output_type": "display_data",
          "data": {
            "text/html": [
              "<table class=\"dataframe\">\n",
              "<caption>A matrix: 2 × 2 of type dbl</caption>\n",
              "<thead>\n",
              "\t<tr><th></th><th scope=col>2.5 %</th><th scope=col>97.5 %</th></tr>\n",
              "</thead>\n",
              "<tbody>\n",
              "\t<tr><th scope=row>(Intercept)</th><td>-1413.37859</td><td>4180.32135</td></tr>\n",
              "\t<tr><th scope=row>x</th><td>   10.26018</td><td>  10.98421</td></tr>\n",
              "</tbody>\n",
              "</table>\n"
            ],
            "text/markdown": "\nA matrix: 2 × 2 of type dbl\n\n| <!--/--> | 2.5 % | 97.5 % |\n|---|---|---|\n| (Intercept) | -1413.37859 | 4180.32135 |\n| x |    10.26018 |   10.98421 |\n\n",
            "text/latex": "A matrix: 2 × 2 of type dbl\n\\begin{tabular}{r|ll}\n  & 2.5 \\% & 97.5 \\%\\\\\n\\hline\n\t(Intercept) & -1413.37859 & 4180.32135\\\\\n\tx &    10.26018 &   10.98421\\\\\n\\end{tabular}\n",
            "text/plain": [
              "            2.5 %       97.5 %    \n",
              "(Intercept) -1413.37859 4180.32135\n",
              "x              10.26018   10.98421"
            ]
          },
          "metadata": {}
        },
        {
          "output_type": "display_data",
          "data": {
            "text/html": [
              "<dl>\n",
              "\t<dt>$fit</dt>\n",
              "\t\t<dd><table class=\"dataframe\">\n",
              "<caption>A matrix: 14 × 3 of type dbl</caption>\n",
              "<thead>\n",
              "\t<tr><th></th><th scope=col>fit</th><th scope=col>lwr</th><th scope=col>upr</th></tr>\n",
              "</thead>\n",
              "<tbody>\n",
              "\t<tr><th scope=row>1</th><td>  1383.471</td><td>  -338.949</td><td>  3105.892</td></tr>\n",
              "\t<tr><th scope=row>2</th><td> 12005.667</td><td> 10467.442</td><td> 13543.892</td></tr>\n",
              "\t<tr><th scope=row>3</th><td> 43872.253</td><td> 42794.847</td><td> 44949.660</td></tr>\n",
              "\t<tr><th scope=row>4</th><td> 54494.449</td><td> 53515.753</td><td> 55473.144</td></tr>\n",
              "\t<tr><th scope=row>5</th><td> 49183.351</td><td> 48160.170</td><td> 50206.532</td></tr>\n",
              "\t<tr><th scope=row>6</th><td> 33250.058</td><td> 32040.441</td><td> 34459.675</td></tr>\n",
              "\t<tr><th scope=row>7</th><td> 43872.253</td><td> 42794.847</td><td> 44949.660</td></tr>\n",
              "\t<tr><th scope=row>8</th><td> 96983.231</td><td> 95915.478</td><td> 98050.983</td></tr>\n",
              "\t<tr><th scope=row>9</th><td>118227.621</td><td>116875.707</td><td>119579.536</td></tr>\n",
              "\t<tr><th scope=row>10</th><td>160716.403</td><td>158619.803</td><td>162813.004</td></tr>\n",
              "\t<tr><th scope=row>11</th><td>128849.817</td><td>127326.474</td><td>130373.160</td></tr>\n",
              "\t<tr><th scope=row>12</th><td> 75738.840</td><td> 74816.802</td><td> 76660.877</td></tr>\n",
              "\t<tr><th scope=row>13</th><td> 33250.058</td><td> 32040.441</td><td> 34459.675</td></tr>\n",
              "\t<tr><th scope=row>14</th><td> 70870.333</td><td> 69953.976</td><td> 71786.691</td></tr>\n",
              "</tbody>\n",
              "</table>\n",
              "</dd>\n",
              "\t<dt>$se.fit</dt>\n",
              "\t\t<dd><style>\n",
              ".dl-inline {width: auto; margin:0; padding: 0}\n",
              ".dl-inline>dt, .dl-inline>dd {float: none; width: auto; display: inline-block}\n",
              ".dl-inline>dt::after {content: \":\\0020\"; padding-right: .5ex}\n",
              ".dl-inline>dt:not(:first-of-type) {padding-left: .5ex}\n",
              "</style><dl class=dl-inline><dt>1</dt><dd>1255.24043004478</dd><dt>2</dt><dd>1121.00540879288</dd><dt>3</dt><dd>785.176715633015</dd><dt>4</dt><dd>713.239640140614</dd><dt>5</dt><dd>745.658861856219</dd><dt>6</dt><dd>881.52713816395</dd><dt>7</dt><dd>785.176715633015</dd><dt>8</dt><dd>778.140940113016</dd><dt>9</dt><dd>985.228487277767</dd><dt>10</dt><dd>1527.9299825536</dd><dt>11</dt><dd>1110.15989476286</dd><dt>12</dt><dd>671.948802653937</dd><dt>13</dt><dd>881.52713816395</dd><dt>14</dt><dd>667.809694105691</dd></dl>\n",
              "</dd>\n",
              "\t<dt>$df</dt>\n",
              "\t\t<dd>10</dd>\n",
              "\t<dt>$residual.scale</dt>\n",
              "\t\t<dd>2313.36063995617</dd>\n",
              "</dl>\n"
            ],
            "text/markdown": "$fit\n:   \nA matrix: 14 × 3 of type dbl\n\n| <!--/--> | fit | lwr | upr |\n|---|---|---|---|\n| 1 |   1383.471 |   -338.949 |   3105.892 |\n| 2 |  12005.667 |  10467.442 |  13543.892 |\n| 3 |  43872.253 |  42794.847 |  44949.660 |\n| 4 |  54494.449 |  53515.753 |  55473.144 |\n| 5 |  49183.351 |  48160.170 |  50206.532 |\n| 6 |  33250.058 |  32040.441 |  34459.675 |\n| 7 |  43872.253 |  42794.847 |  44949.660 |\n| 8 |  96983.231 |  95915.478 |  98050.983 |\n| 9 | 118227.621 | 116875.707 | 119579.536 |\n| 10 | 160716.403 | 158619.803 | 162813.004 |\n| 11 | 128849.817 | 127326.474 | 130373.160 |\n| 12 |  75738.840 |  74816.802 |  76660.877 |\n| 13 |  33250.058 |  32040.441 |  34459.675 |\n| 14 |  70870.333 |  69953.976 |  71786.691 |\n\n\n$se.fit\n:   1\n:   1255.240430044782\n:   1121.005408792883\n:   785.1767156330154\n:   713.2396401406145\n:   745.6588618562196\n:   881.527138163957\n:   785.1767156330158\n:   778.1409401130169\n:   985.22848727776710\n:   1527.929982553611\n:   1110.1598947628612\n:   671.94880265393713\n:   881.5271381639514\n:   667.809694105691\n\n\n$df\n:   10\n$residual.scale\n:   2313.36063995617\n\n\n",
            "text/latex": "\\begin{description}\n\\item[\\$fit] A matrix: 14 × 3 of type dbl\n\\begin{tabular}{r|lll}\n  & fit & lwr & upr\\\\\n\\hline\n\t1 &   1383.471 &   -338.949 &   3105.892\\\\\n\t2 &  12005.667 &  10467.442 &  13543.892\\\\\n\t3 &  43872.253 &  42794.847 &  44949.660\\\\\n\t4 &  54494.449 &  53515.753 &  55473.144\\\\\n\t5 &  49183.351 &  48160.170 &  50206.532\\\\\n\t6 &  33250.058 &  32040.441 &  34459.675\\\\\n\t7 &  43872.253 &  42794.847 &  44949.660\\\\\n\t8 &  96983.231 &  95915.478 &  98050.983\\\\\n\t9 & 118227.621 & 116875.707 & 119579.536\\\\\n\t10 & 160716.403 & 158619.803 & 162813.004\\\\\n\t11 & 128849.817 & 127326.474 & 130373.160\\\\\n\t12 &  75738.840 &  74816.802 &  76660.877\\\\\n\t13 &  33250.058 &  32040.441 &  34459.675\\\\\n\t14 &  70870.333 &  69953.976 &  71786.691\\\\\n\\end{tabular}\n\n\\item[\\$se.fit] \\begin{description*}\n\\item[1] 1255.24043004478\n\\item[2] 1121.00540879288\n\\item[3] 785.176715633015\n\\item[4] 713.239640140614\n\\item[5] 745.658861856219\n\\item[6] 881.52713816395\n\\item[7] 785.176715633015\n\\item[8] 778.140940113016\n\\item[9] 985.228487277767\n\\item[10] 1527.9299825536\n\\item[11] 1110.15989476286\n\\item[12] 671.948802653937\n\\item[13] 881.52713816395\n\\item[14] 667.809694105691\n\\end{description*}\n\n\\item[\\$df] 10\n\\item[\\$residual.scale] 2313.36063995617\n\\end{description}\n",
            "text/plain": [
              "$fit\n",
              "          fit        lwr        upr\n",
              "1    1383.471   -338.949   3105.892\n",
              "2   12005.667  10467.442  13543.892\n",
              "3   43872.253  42794.847  44949.660\n",
              "4   54494.449  53515.753  55473.144\n",
              "5   49183.351  48160.170  50206.532\n",
              "6   33250.058  32040.441  34459.675\n",
              "7   43872.253  42794.847  44949.660\n",
              "8   96983.231  95915.478  98050.983\n",
              "9  118227.621 116875.707 119579.536\n",
              "10 160716.403 158619.803 162813.004\n",
              "11 128849.817 127326.474 130373.160\n",
              "12  75738.840  74816.802  76660.877\n",
              "13  33250.058  32040.441  34459.675\n",
              "14  70870.333  69953.976  71786.691\n",
              "\n",
              "$se.fit\n",
              "        1         2         3         4         5         6         7         8 \n",
              "1255.2404 1121.0054  785.1767  713.2396  745.6589  881.5271  785.1767  778.1409 \n",
              "        9        10        11        12        13        14 \n",
              " 985.2285 1527.9300 1110.1599  671.9488  881.5271  667.8097 \n",
              "\n",
              "$df\n",
              "[1] 10\n",
              "\n",
              "$residual.scale\n",
              "[1] 2313.361\n"
            ]
          },
          "metadata": {}
        },
        {
          "output_type": "display_data",
          "data": {
            "text/html": [
              "<dl>\n",
              "\t<dt>$fit</dt>\n",
              "\t\t<dd><table class=\"dataframe\">\n",
              "<caption>A matrix: 14 × 3 of type dbl</caption>\n",
              "<thead>\n",
              "\t<tr><th></th><th scope=col>fit</th><th scope=col>lwr</th><th scope=col>upr</th></tr>\n",
              "</thead>\n",
              "<tbody>\n",
              "\t<tr><th scope=row>1</th><td>  1383.471</td><td> -2228.075</td><td>  4995.018</td></tr>\n",
              "\t<tr><th scope=row>2</th><td> 12005.667</td><td>  8478.250</td><td> 15533.084</td></tr>\n",
              "\t<tr><th scope=row>3</th><td> 43872.253</td><td> 40520.039</td><td> 47224.467</td></tr>\n",
              "\t<tr><th scope=row>4</th><td> 54494.449</td><td> 51172.645</td><td> 57816.252</td></tr>\n",
              "\t<tr><th scope=row>5</th><td> 49183.351</td><td> 45848.170</td><td> 52518.532</td></tr>\n",
              "\t<tr><th scope=row>6</th><td> 33250.058</td><td> 29853.043</td><td> 36647.072</td></tr>\n",
              "\t<tr><th scope=row>7</th><td> 43872.253</td><td> 40520.039</td><td> 47224.467</td></tr>\n",
              "\t<tr><th scope=row>8</th><td> 96983.231</td><td> 93634.107</td><td>100332.354</td></tr>\n",
              "\t<tr><th scope=row>9</th><td>118227.621</td><td>114777.374</td><td>121677.869</td></tr>\n",
              "\t<tr><th scope=row>10</th><td>160716.403</td><td>156912.160</td><td>164520.647</td></tr>\n",
              "\t<tr><th scope=row>11</th><td>128849.817</td><td>125328.864</td><td>132370.770</td></tr>\n",
              "\t<tr><th scope=row>12</th><td> 75738.840</td><td> 72433.286</td><td> 79044.393</td></tr>\n",
              "\t<tr><th scope=row>13</th><td> 33250.058</td><td> 29853.043</td><td> 36647.072</td></tr>\n",
              "\t<tr><th scope=row>14</th><td> 70870.333</td><td> 67566.359</td><td> 74174.307</td></tr>\n",
              "</tbody>\n",
              "</table>\n",
              "</dd>\n",
              "\t<dt>$se.fit</dt>\n",
              "\t\t<dd><style>\n",
              ".dl-inline {width: auto; margin:0; padding: 0}\n",
              ".dl-inline>dt, .dl-inline>dd {float: none; width: auto; display: inline-block}\n",
              ".dl-inline>dt::after {content: \":\\0020\"; padding-right: .5ex}\n",
              ".dl-inline>dt:not(:first-of-type) {padding-left: .5ex}\n",
              "</style><dl class=dl-inline><dt>1</dt><dd>1255.24043004478</dd><dt>2</dt><dd>1121.00540879288</dd><dt>3</dt><dd>785.176715633015</dd><dt>4</dt><dd>713.239640140614</dd><dt>5</dt><dd>745.658861856219</dd><dt>6</dt><dd>881.52713816395</dd><dt>7</dt><dd>785.176715633015</dd><dt>8</dt><dd>778.140940113016</dd><dt>9</dt><dd>985.228487277767</dd><dt>10</dt><dd>1527.9299825536</dd><dt>11</dt><dd>1110.15989476286</dd><dt>12</dt><dd>671.948802653937</dd><dt>13</dt><dd>881.52713816395</dd><dt>14</dt><dd>667.809694105691</dd></dl>\n",
              "</dd>\n",
              "\t<dt>$df</dt>\n",
              "\t\t<dd>10</dd>\n",
              "\t<dt>$residual.scale</dt>\n",
              "\t\t<dd>2313.36063995617</dd>\n",
              "</dl>\n"
            ],
            "text/markdown": "$fit\n:   \nA matrix: 14 × 3 of type dbl\n\n| <!--/--> | fit | lwr | upr |\n|---|---|---|---|\n| 1 |   1383.471 |  -2228.075 |   4995.018 |\n| 2 |  12005.667 |   8478.250 |  15533.084 |\n| 3 |  43872.253 |  40520.039 |  47224.467 |\n| 4 |  54494.449 |  51172.645 |  57816.252 |\n| 5 |  49183.351 |  45848.170 |  52518.532 |\n| 6 |  33250.058 |  29853.043 |  36647.072 |\n| 7 |  43872.253 |  40520.039 |  47224.467 |\n| 8 |  96983.231 |  93634.107 | 100332.354 |\n| 9 | 118227.621 | 114777.374 | 121677.869 |\n| 10 | 160716.403 | 156912.160 | 164520.647 |\n| 11 | 128849.817 | 125328.864 | 132370.770 |\n| 12 |  75738.840 |  72433.286 |  79044.393 |\n| 13 |  33250.058 |  29853.043 |  36647.072 |\n| 14 |  70870.333 |  67566.359 |  74174.307 |\n\n\n$se.fit\n:   1\n:   1255.240430044782\n:   1121.005408792883\n:   785.1767156330154\n:   713.2396401406145\n:   745.6588618562196\n:   881.527138163957\n:   785.1767156330158\n:   778.1409401130169\n:   985.22848727776710\n:   1527.929982553611\n:   1110.1598947628612\n:   671.94880265393713\n:   881.5271381639514\n:   667.809694105691\n\n\n$df\n:   10\n$residual.scale\n:   2313.36063995617\n\n\n",
            "text/latex": "\\begin{description}\n\\item[\\$fit] A matrix: 14 × 3 of type dbl\n\\begin{tabular}{r|lll}\n  & fit & lwr & upr\\\\\n\\hline\n\t1 &   1383.471 &  -2228.075 &   4995.018\\\\\n\t2 &  12005.667 &   8478.250 &  15533.084\\\\\n\t3 &  43872.253 &  40520.039 &  47224.467\\\\\n\t4 &  54494.449 &  51172.645 &  57816.252\\\\\n\t5 &  49183.351 &  45848.170 &  52518.532\\\\\n\t6 &  33250.058 &  29853.043 &  36647.072\\\\\n\t7 &  43872.253 &  40520.039 &  47224.467\\\\\n\t8 &  96983.231 &  93634.107 & 100332.354\\\\\n\t9 & 118227.621 & 114777.374 & 121677.869\\\\\n\t10 & 160716.403 & 156912.160 & 164520.647\\\\\n\t11 & 128849.817 & 125328.864 & 132370.770\\\\\n\t12 &  75738.840 &  72433.286 &  79044.393\\\\\n\t13 &  33250.058 &  29853.043 &  36647.072\\\\\n\t14 &  70870.333 &  67566.359 &  74174.307\\\\\n\\end{tabular}\n\n\\item[\\$se.fit] \\begin{description*}\n\\item[1] 1255.24043004478\n\\item[2] 1121.00540879288\n\\item[3] 785.176715633015\n\\item[4] 713.239640140614\n\\item[5] 745.658861856219\n\\item[6] 881.52713816395\n\\item[7] 785.176715633015\n\\item[8] 778.140940113016\n\\item[9] 985.228487277767\n\\item[10] 1527.9299825536\n\\item[11] 1110.15989476286\n\\item[12] 671.948802653937\n\\item[13] 881.52713816395\n\\item[14] 667.809694105691\n\\end{description*}\n\n\\item[\\$df] 10\n\\item[\\$residual.scale] 2313.36063995617\n\\end{description}\n",
            "text/plain": [
              "$fit\n",
              "          fit        lwr        upr\n",
              "1    1383.471  -2228.075   4995.018\n",
              "2   12005.667   8478.250  15533.084\n",
              "3   43872.253  40520.039  47224.467\n",
              "4   54494.449  51172.645  57816.252\n",
              "5   49183.351  45848.170  52518.532\n",
              "6   33250.058  29853.043  36647.072\n",
              "7   43872.253  40520.039  47224.467\n",
              "8   96983.231  93634.107 100332.354\n",
              "9  118227.621 114777.374 121677.869\n",
              "10 160716.403 156912.160 164520.647\n",
              "11 128849.817 125328.864 132370.770\n",
              "12  75738.840  72433.286  79044.393\n",
              "13  33250.058  29853.043  36647.072\n",
              "14  70870.333  67566.359  74174.307\n",
              "\n",
              "$se.fit\n",
              "        1         2         3         4         5         6         7         8 \n",
              "1255.2404 1121.0054  785.1767  713.2396  745.6589  881.5271  785.1767  778.1409 \n",
              "        9        10        11        12        13        14 \n",
              " 985.2285 1527.9300 1110.1599  671.9488  881.5271  667.8097 \n",
              "\n",
              "$df\n",
              "[1] 10\n",
              "\n",
              "$residual.scale\n",
              "[1] 2313.361\n"
            ]
          },
          "metadata": {}
        }
      ]
    }
  ]
}