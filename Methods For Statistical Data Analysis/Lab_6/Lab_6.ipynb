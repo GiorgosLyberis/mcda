{
  "nbformat": 4,
  "nbformat_minor": 0,
  "metadata": {
    "colab": {
      "provenance": [],
      "authorship_tag": "ABX9TyMIOiTVaaHurnPOKPLC0YH/",
      "include_colab_link": true
    },
    "kernelspec": {
      "name": "ir",
      "display_name": "R"
    },
    "language_info": {
      "name": "R"
    }
  },
  "cells": [
    {
      "cell_type": "markdown",
      "metadata": {
        "id": "view-in-github",
        "colab_type": "text"
      },
      "source": [
        "<a href=\"https://colab.research.google.com/github/GiorgosLyberis/mcda/blob/main/Methods%20For%20Statistical%20Data%20Analysis/Lab_6/Lab_6.ipynb\" target=\"_parent\"><img src=\"https://colab.research.google.com/assets/colab-badge.svg\" alt=\"Open In Colab\"/></a>"
      ]
    },
    {
      "cell_type": "code",
      "execution_count": 12,
      "metadata": {
        "colab": {
          "base_uri": "https://localhost:8080/",
          "height": 208
        },
        "id": "N7tJ8A0Omm0P",
        "outputId": "f2f7c8c1-3f03-45b0-d42a-d6af6cdb62c2"
      },
      "outputs": [
        {
          "output_type": "display_data",
          "data": {
            "text/html": [
              "<style>\n",
              ".list-inline {list-style: none; margin:0; padding: 0}\n",
              ".list-inline>li {display: inline-block}\n",
              ".list-inline>li:not(:last-child)::after {content: \"\\00b7\"; padding: 0 .5ex}\n",
              "</style>\n",
              "<ol class=list-inline><li>100</li><li>6</li></ol>\n"
            ],
            "text/markdown": "1. 100\n2. 6\n\n\n",
            "text/latex": "\\begin{enumerate*}\n\\item 100\n\\item 6\n\\end{enumerate*}\n",
            "text/plain": [
              "[1] 100   6"
            ]
          },
          "metadata": {}
        },
        {
          "output_type": "display_data",
          "data": {
            "text/html": [
              "<style>\n",
              ".list-inline {list-style: none; margin:0; padding: 0}\n",
              ".list-inline>li {display: inline-block}\n",
              ".list-inline>li:not(:last-child)::after {content: \"\\00b7\"; padding: 0 .5ex}\n",
              "</style>\n",
              "<ol class=list-inline><li>0.15</li><li>0.2</li><li>0.12</li><li>0.11</li><li>0.16</li><li>0.26</li></ol>\n"
            ],
            "text/markdown": "1. 0.15\n2. 0.2\n3. 0.12\n4. 0.11\n5. 0.16\n6. 0.26\n\n\n",
            "text/latex": "\\begin{enumerate*}\n\\item 0.15\n\\item 0.2\n\\item 0.12\n\\item 0.11\n\\item 0.16\n\\item 0.26\n\\end{enumerate*}\n",
            "text/plain": [
              "[1] 0.15 0.20 0.12 0.11 0.16 0.26"
            ]
          },
          "metadata": {}
        },
        {
          "output_type": "display_data",
          "data": {
            "text/html": [
              "<style>\n",
              ".list-inline {list-style: none; margin:0; padding: 0}\n",
              ".list-inline>li {display: inline-block}\n",
              ".list-inline>li:not(:last-child)::after {content: \"\\00b7\"; padding: 0 .5ex}\n",
              "</style>\n",
              "<ol class=list-inline><li>0.167</li><li>0.167</li><li>0.167</li><li>0.167</li><li>0.167</li><li>0.167</li></ol>\n"
            ],
            "text/markdown": "1. 0.167\n2. 0.167\n3. 0.167\n4. 0.167\n5. 0.167\n6. 0.167\n\n\n",
            "text/latex": "\\begin{enumerate*}\n\\item 0.167\n\\item 0.167\n\\item 0.167\n\\item 0.167\n\\item 0.167\n\\item 0.167\n\\end{enumerate*}\n",
            "text/plain": [
              "[1] 0.167 0.167 0.167 0.167 0.167 0.167"
            ]
          },
          "metadata": {}
        },
        {
          "output_type": "display_data",
          "data": {
            "text/html": [
              "<style>\n",
              ".list-inline {list-style: none; margin:0; padding: 0}\n",
              ".list-inline>li {display: inline-block}\n",
              ".list-inline>li:not(:last-child)::after {content: \"\\00b7\"; padding: 0 .5ex}\n",
              "</style>\n",
              "<ol class=list-inline><li>0.205891132094649</li><li>38.3375999244749</li><li>0.0194084099617653</li><li>0.0103510234140113</li><li>0.520402924666473</li><li>105012.151687188</li></ol>\n"
            ],
            "text/markdown": "1. 0.205891132094649\n2. 38.3375999244749\n3. 0.0194084099617653\n4. 0.0103510234140113\n5. 0.520402924666473\n6. 105012.151687188\n\n\n",
            "text/latex": "\\begin{enumerate*}\n\\item 0.205891132094649\n\\item 38.3375999244749\n\\item 0.0194084099617653\n\\item 0.0103510234140113\n\\item 0.520402924666473\n\\item 105012.151687188\n\\end{enumerate*}\n",
            "text/plain": [
              "[1] 2.058911e-01 3.833760e+01 1.940841e-02 1.035102e-02 5.204029e-01\n",
              "[6] 1.050122e+05"
            ]
          },
          "metadata": {}
        },
        {
          "output_type": "display_data",
          "data": {
            "text/html": [
              "86.6592840120313"
            ],
            "text/markdown": "86.6592840120313",
            "text/latex": "86.6592840120313",
            "text/plain": [
              "[1] 86.65928"
            ]
          },
          "metadata": {}
        },
        {
          "output_type": "display_data",
          "data": {
            "text/html": [
              "8.9239683084849"
            ],
            "text/markdown": "8.9239683084849",
            "text/latex": "8.9239683084849",
            "text/plain": [
              "[1] 8.923968"
            ]
          },
          "metadata": {}
        },
        {
          "output_type": "display_data",
          "data": {
            "text/html": [
              "8.92396830848486"
            ],
            "text/markdown": "8.92396830848486",
            "text/latex": "8.92396830848486",
            "text/plain": [
              "[1] 8.923968"
            ]
          },
          "metadata": {}
        },
        {
          "output_type": "display_data",
          "data": {
            "text/html": [
              "0.112135507233794"
            ],
            "text/markdown": "0.112135507233794",
            "text/latex": "0.112135507233794",
            "text/plain": [
              "[1] 0.1121355"
            ]
          },
          "metadata": {}
        },
        {
          "output_type": "display_data",
          "data": {
            "text/html": [
              "11.0704976935164"
            ],
            "text/markdown": "11.0704976935164",
            "text/latex": "11.0704976935164",
            "text/plain": [
              "[1] 11.0705"
            ]
          },
          "metadata": {}
        },
        {
          "output_type": "display_data",
          "data": {
            "text/html": [
              "TRUE"
            ],
            "text/markdown": "TRUE",
            "text/latex": "TRUE",
            "text/plain": [
              "[1] TRUE"
            ]
          },
          "metadata": {}
        },
        {
          "output_type": "display_data",
          "data": {
            "text/html": [
              "TRUE"
            ],
            "text/markdown": "TRUE",
            "text/latex": "TRUE",
            "text/plain": [
              "[1] TRUE"
            ]
          },
          "metadata": {}
        }
      ],
      "source": [
        "#  polynomial distribution\n",
        "#  H0: pi=pi0\n",
        "#\n",
        "x<-c(15,20,12,11,16,26)\n",
        "k<-length(x)\n",
        "n<-sum(x)\n",
        "c(n,k)\n",
        "p<-rep(1/k,k)\n",
        "x/n\n",
        "round(p,3)\n",
        "\n",
        "((x/n)/p)^x\n",
        "prod(((x/n)/p)^x)\n",
        "LS<-2*log(prod(((x/n)/p)^x))\n",
        "LS\n",
        "-2*n*log(n)+2*sum(x*log(x/p))\n",
        "\n",
        "1-pchisq(LS,df=k-1)\n",
        "qchisq(1-0.05,df=k-1)\n",
        "\n",
        "1-pchisq(LS,df=k-1)>0.05\n",
        "LS<qchisq(1-0.05,df=k-1)"
      ]
    },
    {
      "cell_type": "code",
      "source": [
        "# Chi-square test\n",
        "\n",
        "chisq.test(x)\n",
        "chisq.test(x)$observed\n",
        "chisq.test(x)$expected\n",
        "chisq.test(x)$residuals\n",
        "(chisq.test(x)$observed-chisq.test(x)$expected)/\n",
        "  \t\t\t\tsqrt(chisq.test(x)$expected)\n",
        "\n",
        "chisq.test(x)$statistic\n",
        "chisq.test(x)$parameter\n",
        "sum(chisq.test(x)$residuals^2)\n",
        "chisq.test(x)$p.value\n",
        "1-pchisq(unname(chisq.test(x)$statistic),df=chisq.test(x)$parameter)"
      ],
      "metadata": {
        "colab": {
          "base_uri": "https://localhost:8080/",
          "height": 260
        },
        "id": "J1od9VAKmrL7",
        "outputId": "9e335c01-2901-44f1-f1d4-cc34ea0edc09"
      },
      "execution_count": 13,
      "outputs": [
        {
          "output_type": "display_data",
          "data": {
            "text/plain": [
              "\n",
              "\tChi-squared test for given probabilities\n",
              "\n",
              "data:  x\n",
              "X-squared = 9.32, df = 5, p-value = 0.09696\n"
            ]
          },
          "metadata": {}
        },
        {
          "output_type": "display_data",
          "data": {
            "text/html": [
              "<style>\n",
              ".list-inline {list-style: none; margin:0; padding: 0}\n",
              ".list-inline>li {display: inline-block}\n",
              ".list-inline>li:not(:last-child)::after {content: \"\\00b7\"; padding: 0 .5ex}\n",
              "</style>\n",
              "<ol class=list-inline><li>15</li><li>20</li><li>12</li><li>11</li><li>16</li><li>26</li></ol>\n"
            ],
            "text/markdown": "1. 15\n2. 20\n3. 12\n4. 11\n5. 16\n6. 26\n\n\n",
            "text/latex": "\\begin{enumerate*}\n\\item 15\n\\item 20\n\\item 12\n\\item 11\n\\item 16\n\\item 26\n\\end{enumerate*}\n",
            "text/plain": [
              "[1] 15 20 12 11 16 26"
            ]
          },
          "metadata": {}
        },
        {
          "output_type": "display_data",
          "data": {
            "text/html": [
              "<style>\n",
              ".list-inline {list-style: none; margin:0; padding: 0}\n",
              ".list-inline>li {display: inline-block}\n",
              ".list-inline>li:not(:last-child)::after {content: \"\\00b7\"; padding: 0 .5ex}\n",
              "</style>\n",
              "<ol class=list-inline><li>16.6666666666667</li><li>16.6666666666667</li><li>16.6666666666667</li><li>16.6666666666667</li><li>16.6666666666667</li><li>16.6666666666667</li></ol>\n"
            ],
            "text/markdown": "1. 16.6666666666667\n2. 16.6666666666667\n3. 16.6666666666667\n4. 16.6666666666667\n5. 16.6666666666667\n6. 16.6666666666667\n\n\n",
            "text/latex": "\\begin{enumerate*}\n\\item 16.6666666666667\n\\item 16.6666666666667\n\\item 16.6666666666667\n\\item 16.6666666666667\n\\item 16.6666666666667\n\\item 16.6666666666667\n\\end{enumerate*}\n",
            "text/plain": [
              "[1] 16.66667 16.66667 16.66667 16.66667 16.66667 16.66667"
            ]
          },
          "metadata": {}
        },
        {
          "output_type": "display_data",
          "data": {
            "text/html": [
              "<style>\n",
              ".list-inline {list-style: none; margin:0; padding: 0}\n",
              ".list-inline>li {display: inline-block}\n",
              ".list-inline>li:not(:last-child)::after {content: \"\\00b7\"; padding: 0 .5ex}\n",
              "</style>\n",
              "<ol class=list-inline><li>-0.408248290463863</li><li>0.816496580927727</li><li>-1.14309521329882</li><li>-1.38804418757713</li><li>-0.163299316185545</li><li>2.28619042659763</li></ol>\n"
            ],
            "text/markdown": "1. -0.408248290463863\n2. 0.816496580927727\n3. -1.14309521329882\n4. -1.38804418757713\n5. -0.163299316185545\n6. 2.28619042659763\n\n\n",
            "text/latex": "\\begin{enumerate*}\n\\item -0.408248290463863\n\\item 0.816496580927727\n\\item -1.14309521329882\n\\item -1.38804418757713\n\\item -0.163299316185545\n\\item 2.28619042659763\n\\end{enumerate*}\n",
            "text/plain": [
              "[1] -0.4082483  0.8164966 -1.1430952 -1.3880442 -0.1632993  2.2861904"
            ]
          },
          "metadata": {}
        },
        {
          "output_type": "display_data",
          "data": {
            "text/html": [
              "<style>\n",
              ".list-inline {list-style: none; margin:0; padding: 0}\n",
              ".list-inline>li {display: inline-block}\n",
              ".list-inline>li:not(:last-child)::after {content: \"\\00b7\"; padding: 0 .5ex}\n",
              "</style>\n",
              "<ol class=list-inline><li>-0.408248290463863</li><li>0.816496580927727</li><li>-1.14309521329882</li><li>-1.38804418757713</li><li>-0.163299316185545</li><li>2.28619042659763</li></ol>\n"
            ],
            "text/markdown": "1. -0.408248290463863\n2. 0.816496580927727\n3. -1.14309521329882\n4. -1.38804418757713\n5. -0.163299316185545\n6. 2.28619042659763\n\n\n",
            "text/latex": "\\begin{enumerate*}\n\\item -0.408248290463863\n\\item 0.816496580927727\n\\item -1.14309521329882\n\\item -1.38804418757713\n\\item -0.163299316185545\n\\item 2.28619042659763\n\\end{enumerate*}\n",
            "text/plain": [
              "[1] -0.4082483  0.8164966 -1.1430952 -1.3880442 -0.1632993  2.2861904"
            ]
          },
          "metadata": {}
        },
        {
          "output_type": "display_data",
          "data": {
            "text/html": [
              "<strong>X-squared:</strong> 9.32"
            ],
            "text/markdown": "**X-squared:** 9.32",
            "text/latex": "\\textbf{X-squared:} 9.32",
            "text/plain": [
              "X-squared \n",
              "     9.32 "
            ]
          },
          "metadata": {}
        },
        {
          "output_type": "display_data",
          "data": {
            "text/html": [
              "<strong>df:</strong> 5"
            ],
            "text/markdown": "**df:** 5",
            "text/latex": "\\textbf{df:} 5",
            "text/plain": [
              "df \n",
              " 5 "
            ]
          },
          "metadata": {}
        },
        {
          "output_type": "display_data",
          "data": {
            "text/html": [
              "9.32"
            ],
            "text/markdown": "9.32",
            "text/latex": "9.32",
            "text/plain": [
              "[1] 9.32"
            ]
          },
          "metadata": {}
        },
        {
          "output_type": "display_data",
          "data": {
            "text/html": [
              "0.0969612536633529"
            ],
            "text/markdown": "0.0969612536633529",
            "text/latex": "0.0969612536633529",
            "text/plain": [
              "[1] 0.09696125"
            ]
          },
          "metadata": {}
        },
        {
          "output_type": "display_data",
          "data": {
            "text/html": [
              "0.096961253663353"
            ],
            "text/markdown": "0.096961253663353",
            "text/latex": "0.096961253663353",
            "text/plain": [
              "[1] 0.09696125"
            ]
          },
          "metadata": {}
        }
      ]
    },
    {
      "cell_type": "code",
      "source": [
        "# polynomial distribution\n",
        "# independence-homogeneity\n",
        "#\n",
        "\n",
        "boys<-c(21,16,145,2,6)\n",
        "girls<-c(14,4,175,13,4)\n",
        "students<-boys+girls\n",
        "students\n",
        "k<-2\n",
        "s<-length(students)\n",
        "n<-sum(students)\n",
        "c(k,s,sum(boys),sum(girls),n)\n",
        "\n",
        "\n",
        "((boys/n)/((sum(boys)/n)*(students/n)))^boys        #i=1\n",
        "((girls/n)/((sum(girls)/n)*(students/n)))^girls\t   #i=2\n",
        "prod(((boys/n)/((sum(boys)/n)*(students/n)))^boys)*\n",
        "prod(((girls/n)/((sum(girls)/n)*(students/n)))^girls)\n",
        "LS<-2*log(prod(((boys/n)/((sum(boys)/n)*(students/n)))^boys)*\n",
        "prod(((girls/n)/((sum(girls)/n)*(students/n)))^girls))\n",
        "LS\n",
        "2*n*log(n)+2*(sum(boys*log(boys/(sum(boys)*students)))+\n",
        "\t\t    sum(girls*log(girls/(sum(girls)*students))))\n",
        "\n",
        "1-pchisq(LS,df=(k-1)*(s-1))\n",
        "1-pchisq(LS,df=(k-1)*(s-1))>0.05\n",
        "\n",
        "qchisq(1-0.05,df=(k-1)*(s-1))\n",
        "LS<qchisq(1-0.05,df=(k-1)*(s-1))"
      ],
      "metadata": {
        "colab": {
          "base_uri": "https://localhost:8080/",
          "height": 208
        },
        "id": "EJ0c2we7m3Wv",
        "outputId": "c627858f-7b16-4d8b-c95f-c465f4da6d2c"
      },
      "execution_count": 14,
      "outputs": [
        {
          "output_type": "display_data",
          "data": {
            "text/html": [
              "<style>\n",
              ".list-inline {list-style: none; margin:0; padding: 0}\n",
              ".list-inline>li {display: inline-block}\n",
              ".list-inline>li:not(:last-child)::after {content: \"\\00b7\"; padding: 0 .5ex}\n",
              "</style>\n",
              "<ol class=list-inline><li>35</li><li>20</li><li>320</li><li>15</li><li>10</li></ol>\n"
            ],
            "text/markdown": "1. 35\n2. 20\n3. 320\n4. 15\n5. 10\n\n\n",
            "text/latex": "\\begin{enumerate*}\n\\item 35\n\\item 20\n\\item 320\n\\item 15\n\\item 10\n\\end{enumerate*}\n",
            "text/plain": [
              "[1]  35  20 320  15  10"
            ]
          },
          "metadata": {}
        },
        {
          "output_type": "display_data",
          "data": {
            "text/html": [
              "<style>\n",
              ".list-inline {list-style: none; margin:0; padding: 0}\n",
              ".list-inline>li {display: inline-block}\n",
              ".list-inline>li:not(:last-child)::after {content: \"\\00b7\"; padding: 0 .5ex}\n",
              "</style>\n",
              "<ol class=list-inline><li>2</li><li>5</li><li>190</li><li>210</li><li>400</li></ol>\n"
            ],
            "text/markdown": "1. 2\n2. 5\n3. 190\n4. 210\n5. 400\n\n\n",
            "text/latex": "\\begin{enumerate*}\n\\item 2\n\\item 5\n\\item 190\n\\item 210\n\\item 400\n\\end{enumerate*}\n",
            "text/plain": [
              "[1]   2   5 190 210 400"
            ]
          },
          "metadata": {}
        },
        {
          "output_type": "display_data",
          "data": {
            "text/html": [
              "<style>\n",
              ".list-inline {list-style: none; margin:0; padding: 0}\n",
              ".list-inline>li {display: inline-block}\n",
              ".list-inline>li:not(:last-child)::after {content: \"\\00b7\"; padding: 0 .5ex}\n",
              "</style>\n",
              "<ol class=list-inline><li>135.086035413894</li><li>4191.23524830186</li><li>0.00107408851324233</li><li>0.0787934749153586</li><li>4.06205542202515</li></ol>\n"
            ],
            "text/markdown": "1. 135.086035413894\n2. 4191.23524830186\n3. 0.00107408851324233\n4. 0.0787934749153586\n5. 4.06205542202515\n\n\n",
            "text/latex": "\\begin{enumerate*}\n\\item 135.086035413894\n\\item 4191.23524830186\n\\item 0.00107408851324233\n\\item 0.0787934749153586\n\\item 4.06205542202515\n\\end{enumerate*}\n",
            "text/plain": [
              "[1] 1.350860e+02 4.191235e+03 1.074089e-03 7.879347e-02 4.062055e+00"
            ]
          },
          "metadata": {}
        },
        {
          "output_type": "display_data",
          "data": {
            "text/html": [
              "<style>\n",
              ".list-inline {list-style: none; margin:0; padding: 0}\n",
              ".list-inline>li {display: inline-block}\n",
              ".list-inline>li:not(:last-child)::after {content: \"\\00b7\"; padding: 0 .5ex}\n",
              "</style>\n",
              "<ol class=list-inline><li>0.0222131234854238</li><li>0.0210611833546722</li><li>1266.29303484752</li><li>676.09273308049</li><li>0.336978933674755</li></ol>\n"
            ],
            "text/markdown": "1. 0.0222131234854238\n2. 0.0210611833546722\n3. 1266.29303484752\n4. 676.09273308049\n5. 0.336978933674755\n\n\n",
            "text/latex": "\\begin{enumerate*}\n\\item 0.0222131234854238\n\\item 0.0210611833546722\n\\item 1266.29303484752\n\\item 676.09273308049\n\\item 0.336978933674755\n\\end{enumerate*}\n",
            "text/plain": [
              "[1] 2.221312e-02 2.106118e-02 1.266293e+03 6.760927e+02 3.369789e-01"
            ]
          },
          "metadata": {}
        },
        {
          "output_type": "display_data",
          "data": {
            "text/html": [
              "26270.2558276985"
            ],
            "text/markdown": "26270.2558276985",
            "text/latex": "26270.2558276985",
            "text/plain": [
              "[1] 26270.26"
            ]
          },
          "metadata": {}
        },
        {
          "output_type": "display_data",
          "data": {
            "text/html": [
              "20.352385242059"
            ],
            "text/markdown": "20.352385242059",
            "text/latex": "20.352385242059",
            "text/plain": [
              "[1] 20.35239"
            ]
          },
          "metadata": {}
        },
        {
          "output_type": "display_data",
          "data": {
            "text/html": [
              "20.3523852420585"
            ],
            "text/markdown": "20.3523852420585",
            "text/latex": "20.3523852420585",
            "text/plain": [
              "[1] 20.35239"
            ]
          },
          "metadata": {}
        },
        {
          "output_type": "display_data",
          "data": {
            "text/html": [
              "0.000425431434483592"
            ],
            "text/markdown": "0.000425431434483592",
            "text/latex": "0.000425431434483592",
            "text/plain": [
              "[1] 0.0004254314"
            ]
          },
          "metadata": {}
        },
        {
          "output_type": "display_data",
          "data": {
            "text/html": [
              "FALSE"
            ],
            "text/markdown": "FALSE",
            "text/latex": "FALSE",
            "text/plain": [
              "[1] FALSE"
            ]
          },
          "metadata": {}
        },
        {
          "output_type": "display_data",
          "data": {
            "text/html": [
              "9.48772903678115"
            ],
            "text/markdown": "9.48772903678115",
            "text/latex": "9.48772903678115",
            "text/plain": [
              "[1] 9.487729"
            ]
          },
          "metadata": {}
        },
        {
          "output_type": "display_data",
          "data": {
            "text/html": [
              "FALSE"
            ],
            "text/markdown": "FALSE",
            "text/latex": "FALSE",
            "text/plain": [
              "[1] FALSE"
            ]
          },
          "metadata": {}
        }
      ]
    },
    {
      "cell_type": "code",
      "source": [
        "chisq.test(rbind(boys,girls))\n",
        "chisq.test(rbind(boys,girls))$observed\n",
        "chisq.test(rbind(boys,girls))$expected\n",
        "chisq.test(rbind(boys,girls))$residuals\n",
        "\n",
        "\n",
        "prop.test(boys, students)      #k=2\n",
        "prop.test(girls, students)      #k=2"
      ],
      "metadata": {
        "colab": {
          "base_uri": "https://localhost:8080/",
          "height": 865
        },
        "id": "wYK1eGISm6tm",
        "outputId": "1f6a4efa-2202-4fba-9525-c54e1714dd0c"
      },
      "execution_count": 15,
      "outputs": [
        {
          "output_type": "stream",
          "name": "stderr",
          "text": [
            "Warning message in chisq.test(rbind(boys, girls)):\n",
            "“Chi-squared approximation may be incorrect”\n"
          ]
        },
        {
          "output_type": "display_data",
          "data": {
            "text/plain": [
              "\n",
              "\tPearson's Chi-squared test\n",
              "\n",
              "data:  rbind(boys, girls)\n",
              "X-squared = 18.926, df = 4, p-value = 0.0008125\n"
            ]
          },
          "metadata": {}
        },
        {
          "output_type": "stream",
          "name": "stderr",
          "text": [
            "Warning message in chisq.test(rbind(boys, girls)):\n",
            "“Chi-squared approximation may be incorrect”\n"
          ]
        },
        {
          "output_type": "display_data",
          "data": {
            "text/html": [
              "<table class=\"dataframe\">\n",
              "<caption>A matrix: 2 × 5 of type dbl</caption>\n",
              "<tbody>\n",
              "\t<tr><th scope=row>boys</th><td>21</td><td>16</td><td>145</td><td> 2</td><td>6</td></tr>\n",
              "\t<tr><th scope=row>girls</th><td>14</td><td> 4</td><td>175</td><td>13</td><td>4</td></tr>\n",
              "</tbody>\n",
              "</table>\n"
            ],
            "text/markdown": "\nA matrix: 2 × 5 of type dbl\n\n| boys | 21 | 16 | 145 |  2 | 6 |\n| girls | 14 |  4 | 175 | 13 | 4 |\n\n",
            "text/latex": "A matrix: 2 × 5 of type dbl\n\\begin{tabular}{r|lllll}\n\tboys & 21 & 16 & 145 &  2 & 6\\\\\n\tgirls & 14 &  4 & 175 & 13 & 4\\\\\n\\end{tabular}\n",
            "text/plain": [
              "      [,1] [,2] [,3] [,4] [,5]\n",
              "boys  21   16   145   2   6   \n",
              "girls 14    4   175  13   4   "
            ]
          },
          "metadata": {}
        },
        {
          "output_type": "stream",
          "name": "stderr",
          "text": [
            "Warning message in chisq.test(rbind(boys, girls)):\n",
            "“Chi-squared approximation may be incorrect”\n"
          ]
        },
        {
          "output_type": "display_data",
          "data": {
            "text/html": [
              "<table class=\"dataframe\">\n",
              "<caption>A matrix: 2 × 5 of type dbl</caption>\n",
              "<tbody>\n",
              "\t<tr><th scope=row>boys</th><td>16.625</td><td> 9.5</td><td>152</td><td>7.125</td><td>4.75</td></tr>\n",
              "\t<tr><th scope=row>girls</th><td>18.375</td><td>10.5</td><td>168</td><td>7.875</td><td>5.25</td></tr>\n",
              "</tbody>\n",
              "</table>\n"
            ],
            "text/markdown": "\nA matrix: 2 × 5 of type dbl\n\n| boys | 16.625 |  9.5 | 152 | 7.125 | 4.75 |\n| girls | 18.375 | 10.5 | 168 | 7.875 | 5.25 |\n\n",
            "text/latex": "A matrix: 2 × 5 of type dbl\n\\begin{tabular}{r|lllll}\n\tboys & 16.625 &  9.5 & 152 & 7.125 & 4.75\\\\\n\tgirls & 18.375 & 10.5 & 168 & 7.875 & 5.25\\\\\n\\end{tabular}\n",
            "text/plain": [
              "      [,1]   [,2] [,3] [,4]  [,5]\n",
              "boys  16.625  9.5 152  7.125 4.75\n",
              "girls 18.375 10.5 168  7.875 5.25"
            ]
          },
          "metadata": {}
        },
        {
          "output_type": "stream",
          "name": "stderr",
          "text": [
            "Warning message in chisq.test(rbind(boys, girls)):\n",
            "“Chi-squared approximation may be incorrect”\n"
          ]
        },
        {
          "output_type": "display_data",
          "data": {
            "text/html": [
              "<table class=\"dataframe\">\n",
              "<caption>A matrix: 2 × 5 of type dbl</caption>\n",
              "<tbody>\n",
              "\t<tr><th scope=row>boys</th><td> 1.072994</td><td> 2.108878</td><td>-0.5677750</td><td>-1.920001</td><td> 0.5735393</td></tr>\n",
              "\t<tr><th scope=row>girls</th><td>-1.020621</td><td>-2.005944</td><td> 0.5400617</td><td> 1.826285</td><td>-0.5455447</td></tr>\n",
              "</tbody>\n",
              "</table>\n"
            ],
            "text/markdown": "\nA matrix: 2 × 5 of type dbl\n\n| boys |  1.072994 |  2.108878 | -0.5677750 | -1.920001 |  0.5735393 |\n| girls | -1.020621 | -2.005944 |  0.5400617 |  1.826285 | -0.5455447 |\n\n",
            "text/latex": "A matrix: 2 × 5 of type dbl\n\\begin{tabular}{r|lllll}\n\tboys &  1.072994 &  2.108878 & -0.5677750 & -1.920001 &  0.5735393\\\\\n\tgirls & -1.020621 & -2.005944 &  0.5400617 &  1.826285 & -0.5455447\\\\\n\\end{tabular}\n",
            "text/plain": [
              "      [,1]      [,2]      [,3]       [,4]      [,5]      \n",
              "boys   1.072994  2.108878 -0.5677750 -1.920001  0.5735393\n",
              "girls -1.020621 -2.005944  0.5400617  1.826285 -0.5455447"
            ]
          },
          "metadata": {}
        },
        {
          "output_type": "stream",
          "name": "stderr",
          "text": [
            "Warning message in prop.test(boys, students):\n",
            "“Chi-squared approximation may be incorrect”\n"
          ]
        },
        {
          "output_type": "display_data",
          "data": {
            "text/plain": [
              "\n",
              "\t5-sample test for equality of proportions without continuity correction\n",
              "\n",
              "data:  boys out of students\n",
              "X-squared = 18.926, df = 4, p-value = 0.0008125\n",
              "alternative hypothesis: two.sided\n",
              "sample estimates:\n",
              "   prop 1    prop 2    prop 3    prop 4    prop 5 \n",
              "0.6000000 0.8000000 0.4531250 0.1333333 0.6000000 \n"
            ]
          },
          "metadata": {}
        },
        {
          "output_type": "stream",
          "name": "stderr",
          "text": [
            "Warning message in prop.test(girls, students):\n",
            "“Chi-squared approximation may be incorrect”\n"
          ]
        },
        {
          "output_type": "display_data",
          "data": {
            "text/plain": [
              "\n",
              "\t5-sample test for equality of proportions without continuity correction\n",
              "\n",
              "data:  girls out of students\n",
              "X-squared = 18.926, df = 4, p-value = 0.0008125\n",
              "alternative hypothesis: two.sided\n",
              "sample estimates:\n",
              "   prop 1    prop 2    prop 3    prop 4    prop 5 \n",
              "0.4000000 0.2000000 0.5468750 0.8666667 0.4000000 \n"
            ]
          },
          "metadata": {}
        }
      ]
    },
    {
      "cell_type": "code",
      "source": [
        "# phenotypes\n",
        "#\n",
        "f<-c(152,39,53,6)\n",
        "p0<-c(9/16,3/16,3/16,1/16)\n",
        "n<-sum(f)\n",
        "n\n",
        "\n",
        "chisq.test(f,p=p0)\n",
        "chisq.test(f,p=p0)$observed\n",
        "chisq.test(f,p=p0)$expected\n",
        "n*p0\n",
        "chisq.test(f,p=p0)$p.value>0.1\n",
        "chisq.test(f,p=p0)$p.value>0.05"
      ],
      "metadata": {
        "colab": {
          "base_uri": "https://localhost:8080/",
          "height": 208
        },
        "id": "pSwLUEBFm7RN",
        "outputId": "fa0da08c-0d21-48d3-cf1b-27e8f78234ea"
      },
      "execution_count": 16,
      "outputs": [
        {
          "output_type": "display_data",
          "data": {
            "text/html": [
              "250"
            ],
            "text/markdown": "250",
            "text/latex": "250",
            "text/plain": [
              "[1] 250"
            ]
          },
          "metadata": {}
        },
        {
          "output_type": "display_data",
          "data": {
            "text/plain": [
              "\n",
              "\tChi-squared test for given probabilities\n",
              "\n",
              "data:  f\n",
              "X-squared = 8.9724, df = 3, p-value = 0.02966\n"
            ]
          },
          "metadata": {}
        },
        {
          "output_type": "display_data",
          "data": {
            "text/html": [
              "<style>\n",
              ".list-inline {list-style: none; margin:0; padding: 0}\n",
              ".list-inline>li {display: inline-block}\n",
              ".list-inline>li:not(:last-child)::after {content: \"\\00b7\"; padding: 0 .5ex}\n",
              "</style>\n",
              "<ol class=list-inline><li>152</li><li>39</li><li>53</li><li>6</li></ol>\n"
            ],
            "text/markdown": "1. 152\n2. 39\n3. 53\n4. 6\n\n\n",
            "text/latex": "\\begin{enumerate*}\n\\item 152\n\\item 39\n\\item 53\n\\item 6\n\\end{enumerate*}\n",
            "text/plain": [
              "[1] 152  39  53   6"
            ]
          },
          "metadata": {}
        },
        {
          "output_type": "display_data",
          "data": {
            "text/html": [
              "<style>\n",
              ".list-inline {list-style: none; margin:0; padding: 0}\n",
              ".list-inline>li {display: inline-block}\n",
              ".list-inline>li:not(:last-child)::after {content: \"\\00b7\"; padding: 0 .5ex}\n",
              "</style>\n",
              "<ol class=list-inline><li>140.625</li><li>46.875</li><li>46.875</li><li>15.625</li></ol>\n"
            ],
            "text/markdown": "1. 140.625\n2. 46.875\n3. 46.875\n4. 15.625\n\n\n",
            "text/latex": "\\begin{enumerate*}\n\\item 140.625\n\\item 46.875\n\\item 46.875\n\\item 15.625\n\\end{enumerate*}\n",
            "text/plain": [
              "[1] 140.625  46.875  46.875  15.625"
            ]
          },
          "metadata": {}
        },
        {
          "output_type": "display_data",
          "data": {
            "text/html": [
              "<style>\n",
              ".list-inline {list-style: none; margin:0; padding: 0}\n",
              ".list-inline>li {display: inline-block}\n",
              ".list-inline>li:not(:last-child)::after {content: \"\\00b7\"; padding: 0 .5ex}\n",
              "</style>\n",
              "<ol class=list-inline><li>140.625</li><li>46.875</li><li>46.875</li><li>15.625</li></ol>\n"
            ],
            "text/markdown": "1. 140.625\n2. 46.875\n3. 46.875\n4. 15.625\n\n\n",
            "text/latex": "\\begin{enumerate*}\n\\item 140.625\n\\item 46.875\n\\item 46.875\n\\item 15.625\n\\end{enumerate*}\n",
            "text/plain": [
              "[1] 140.625  46.875  46.875  15.625"
            ]
          },
          "metadata": {}
        },
        {
          "output_type": "display_data",
          "data": {
            "text/html": [
              "FALSE"
            ],
            "text/markdown": "FALSE",
            "text/latex": "FALSE",
            "text/plain": [
              "[1] FALSE"
            ]
          },
          "metadata": {}
        },
        {
          "output_type": "display_data",
          "data": {
            "text/html": [
              "FALSE"
            ],
            "text/markdown": "FALSE",
            "text/latex": "FALSE",
            "text/plain": [
              "[1] FALSE"
            ]
          },
          "metadata": {}
        }
      ]
    },
    {
      "cell_type": "code",
      "source": [
        "# smoking\n",
        "#\n",
        "smoking<-c(40,80)\n",
        "non.smoking<-c(10,70)\n",
        "\n",
        "\n",
        "chisq.test(rbind(smoking,non.smoking))\n",
        "chisq.test(rbind(smoking,non.smoking),correct = FALSE)"
      ],
      "metadata": {
        "colab": {
          "base_uri": "https://localhost:8080/",
          "height": 191
        },
        "id": "F5p5EAX2nBAn",
        "outputId": "388f2ce1-adda-411e-9115-9eb83fef3a15"
      },
      "execution_count": 17,
      "outputs": [
        {
          "output_type": "display_data",
          "data": {
            "text/plain": [
              "\n",
              "\tPearson's Chi-squared test with Yates' continuity correction\n",
              "\n",
              "data:  rbind(smoking, non.smoking)\n",
              "X-squared = 10.028, df = 1, p-value = 0.001542\n"
            ]
          },
          "metadata": {}
        },
        {
          "output_type": "display_data",
          "data": {
            "text/plain": [
              "\n",
              "\tPearson's Chi-squared test\n",
              "\n",
              "data:  rbind(smoking, non.smoking)\n",
              "X-squared = 11.111, df = 1, p-value = 0.0008581\n"
            ]
          },
          "metadata": {}
        }
      ]
    },
    {
      "cell_type": "code",
      "source": [
        "#  goodness of fit test\n",
        "#\n",
        "# Example 9\n",
        "f<-c(60,96,140,704)\n",
        "n<-sum(f)\n",
        "n\n",
        "p0<-c(pnorm(0,3,2),pnorm(1,3,2)-pnorm(0,3,2),\n",
        "\tpnorm(2,3,2)-pnorm(1,3,2),1-pnorm(2,3,2))\n",
        "p0\n",
        "\n",
        "chisq.test(f,p=p0)\n",
        "chisq.test(f,p=p0)$observed\n",
        "chisq.test(f,p=p0)$expected\n",
        "\n",
        "# Example 2\n",
        "\n",
        "f<-c(30,25,35)\n",
        "odds<-(2*f[1]+f[2])/(f[2]+f[3])\n",
        "p<-odds/(odds+1)\n",
        "p0<-c(p^2,p*(1-p),(1-p))\n",
        "p\n",
        "p0\n",
        "f.ct<-chisq.test(f,p=p0)\n",
        "f.ct\n",
        "chisq.test(f,p=p0)$observed\n",
        "chisq.test(f,p=p0)$expected\n",
        "cat(\"Statistic\",round(f.ct$statistic,5),\"df=\",f.ct$parameter-1,\n",
        "\t\"p-value=\",\n",
        "\tround(unname(1-pchisq(f.ct$statistic,f.ct$parameter-1)),4),\"\\n\")"
      ],
      "metadata": {
        "colab": {
          "base_uri": "https://localhost:8080/",
          "height": 347
        },
        "id": "7do6-Q1XnDju",
        "outputId": "da68af3e-7214-4936-8aff-998156eb7727"
      },
      "execution_count": 18,
      "outputs": [
        {
          "output_type": "display_data",
          "data": {
            "text/html": [
              "1000"
            ],
            "text/markdown": "1000",
            "text/latex": "1000",
            "text/plain": [
              "[1] 1000"
            ]
          },
          "metadata": {}
        },
        {
          "output_type": "display_data",
          "data": {
            "text/html": [
              "<style>\n",
              ".list-inline {list-style: none; margin:0; padding: 0}\n",
              ".list-inline>li {display: inline-block}\n",
              ".list-inline>li:not(:last-child)::after {content: \"\\00b7\"; padding: 0 .5ex}\n",
              "</style>\n",
              "<ol class=list-inline><li>0.0668072012688581</li><li>0.091848052662599</li><li>0.14988228479453</li><li>0.691462461274013</li></ol>\n"
            ],
            "text/markdown": "1. 0.0668072012688581\n2. 0.091848052662599\n3. 0.14988228479453\n4. 0.691462461274013\n\n\n",
            "text/latex": "\\begin{enumerate*}\n\\item 0.0668072012688581\n\\item 0.091848052662599\n\\item 0.14988228479453\n\\item 0.691462461274013\n\\end{enumerate*}\n",
            "text/plain": [
              "[1] 0.06680720 0.09184805 0.14988228 0.69146246"
            ]
          },
          "metadata": {}
        },
        {
          "output_type": "display_data",
          "data": {
            "text/plain": [
              "\n",
              "\tChi-squared test for given probabilities\n",
              "\n",
              "data:  f\n",
              "X-squared = 1.7602, df = 3, p-value = 0.6236\n"
            ]
          },
          "metadata": {}
        },
        {
          "output_type": "display_data",
          "data": {
            "text/html": [
              "<style>\n",
              ".list-inline {list-style: none; margin:0; padding: 0}\n",
              ".list-inline>li {display: inline-block}\n",
              ".list-inline>li:not(:last-child)::after {content: \"\\00b7\"; padding: 0 .5ex}\n",
              "</style>\n",
              "<ol class=list-inline><li>60</li><li>96</li><li>140</li><li>704</li></ol>\n"
            ],
            "text/markdown": "1. 60\n2. 96\n3. 140\n4. 704\n\n\n",
            "text/latex": "\\begin{enumerate*}\n\\item 60\n\\item 96\n\\item 140\n\\item 704\n\\end{enumerate*}\n",
            "text/plain": [
              "[1]  60  96 140 704"
            ]
          },
          "metadata": {}
        },
        {
          "output_type": "display_data",
          "data": {
            "text/html": [
              "<style>\n",
              ".list-inline {list-style: none; margin:0; padding: 0}\n",
              ".list-inline>li {display: inline-block}\n",
              ".list-inline>li:not(:last-child)::after {content: \"\\00b7\"; padding: 0 .5ex}\n",
              "</style>\n",
              "<ol class=list-inline><li>66.8072012688581</li><li>91.848052662599</li><li>149.88228479453</li><li>691.462461274013</li></ol>\n"
            ],
            "text/markdown": "1. 66.8072012688581\n2. 91.848052662599\n3. 149.88228479453\n4. 691.462461274013\n\n\n",
            "text/latex": "\\begin{enumerate*}\n\\item 66.8072012688581\n\\item 91.848052662599\n\\item 149.88228479453\n\\item 691.462461274013\n\\end{enumerate*}\n",
            "text/plain": [
              "[1]  66.80720  91.84805 149.88228 691.46246"
            ]
          },
          "metadata": {}
        },
        {
          "output_type": "display_data",
          "data": {
            "text/html": [
              "0.586206896551724"
            ],
            "text/markdown": "0.586206896551724",
            "text/latex": "0.586206896551724",
            "text/plain": [
              "[1] 0.5862069"
            ]
          },
          "metadata": {}
        },
        {
          "output_type": "display_data",
          "data": {
            "text/html": [
              "<style>\n",
              ".list-inline {list-style: none; margin:0; padding: 0}\n",
              ".list-inline>li {display: inline-block}\n",
              ".list-inline>li:not(:last-child)::after {content: \"\\00b7\"; padding: 0 .5ex}\n",
              "</style>\n",
              "<ol class=list-inline><li>0.343638525564804</li><li>0.24256837098692</li><li>0.413793103448276</li></ol>\n"
            ],
            "text/markdown": "1. 0.343638525564804\n2. 0.24256837098692\n3. 0.413793103448276\n\n\n",
            "text/latex": "\\begin{enumerate*}\n\\item 0.343638525564804\n\\item 0.24256837098692\n\\item 0.413793103448276\n\\end{enumerate*}\n",
            "text/plain": [
              "[1] 0.3436385 0.2425684 0.4137931"
            ]
          },
          "metadata": {}
        },
        {
          "output_type": "display_data",
          "data": {
            "text/plain": [
              "\n",
              "\tChi-squared test for given probabilities\n",
              "\n",
              "data:  f\n",
              "X-squared = 0.62268, df = 2, p-value = 0.7325\n"
            ]
          },
          "metadata": {}
        },
        {
          "output_type": "display_data",
          "data": {
            "text/html": [
              "<style>\n",
              ".list-inline {list-style: none; margin:0; padding: 0}\n",
              ".list-inline>li {display: inline-block}\n",
              ".list-inline>li:not(:last-child)::after {content: \"\\00b7\"; padding: 0 .5ex}\n",
              "</style>\n",
              "<ol class=list-inline><li>30</li><li>25</li><li>35</li></ol>\n"
            ],
            "text/markdown": "1. 30\n2. 25\n3. 35\n\n\n",
            "text/latex": "\\begin{enumerate*}\n\\item 30\n\\item 25\n\\item 35\n\\end{enumerate*}\n",
            "text/plain": [
              "[1] 30 25 35"
            ]
          },
          "metadata": {}
        },
        {
          "output_type": "display_data",
          "data": {
            "text/html": [
              "<style>\n",
              ".list-inline {list-style: none; margin:0; padding: 0}\n",
              ".list-inline>li {display: inline-block}\n",
              ".list-inline>li:not(:last-child)::after {content: \"\\00b7\"; padding: 0 .5ex}\n",
              "</style>\n",
              "<ol class=list-inline><li>30.9274673008323</li><li>21.8311533888228</li><li>37.2413793103448</li></ol>\n"
            ],
            "text/markdown": "1. 30.9274673008323\n2. 21.8311533888228\n3. 37.2413793103448\n\n\n",
            "text/latex": "\\begin{enumerate*}\n\\item 30.9274673008323\n\\item 21.8311533888228\n\\item 37.2413793103448\n\\end{enumerate*}\n",
            "text/plain": [
              "[1] 30.92747 21.83115 37.24138"
            ]
          },
          "metadata": {}
        },
        {
          "output_type": "stream",
          "name": "stdout",
          "text": [
            "Statistic 0.62268 df= 1 p-value= 0.4301 \n"
          ]
        }
      ]
    },
    {
      "cell_type": "code",
      "source": [
        "# Poisson\n",
        "#\n",
        "f<-c(32,12,6,0)\n",
        "x<-rep(0:3,f)\n",
        "lambda<-mean(x)\n",
        "p0<-c(dpois(0:2,lambda),1-ppois(2,lambda))\n",
        "round(p0,4)\n",
        "\n",
        "f.ct<-chisq.test(f,p=p0)\n",
        "f.ct\n",
        "cat(\"Statistic\",round(f.ct$statistic,5),\"df=\",f.ct$parameter-1,\n",
        "\t\"p-value=\",\n",
        "\tround(unname(1-pchisq(f.ct$statistic,f.ct$parameter-1)),4),\"\\n\")\n",
        "\n",
        "\n",
        "f<-f[-4]\n",
        "i<-p0[4]\n",
        "p0<-p0[-4]\n",
        "p0[3]<-p0[3]+i\n",
        "f\n",
        "round(p0,4)\n",
        "f.ct<-chisq.test(f,p=p0)\n",
        "f.ct\n",
        "cat(\"Statistic\",round(f.ct$statistic,5),\"df=\",f.ct$parameter-1,\n",
        "\t\"p-value=\",\n",
        "\tround(unname(1-pchisq(f.ct$statistic,f.ct$parameter-1)),4),\"\\n\")\n"
      ],
      "metadata": {
        "colab": {
          "base_uri": "https://localhost:8080/",
          "height": 347
        },
        "id": "T_H7b--onHu6",
        "outputId": "bb138124-4127-4715-9700-40cb69d214cd"
      },
      "execution_count": 19,
      "outputs": [
        {
          "output_type": "display_data",
          "data": {
            "text/html": [
              "<style>\n",
              ".list-inline {list-style: none; margin:0; padding: 0}\n",
              ".list-inline>li {display: inline-block}\n",
              ".list-inline>li:not(:last-child)::after {content: \"\\00b7\"; padding: 0 .5ex}\n",
              "</style>\n",
              "<ol class=list-inline><li>0.6188</li><li>0.297</li><li>0.0713</li><li>0.0129</li></ol>\n"
            ],
            "text/markdown": "1. 0.6188\n2. 0.297\n3. 0.0713\n4. 0.0129\n\n\n",
            "text/latex": "\\begin{enumerate*}\n\\item 0.6188\n\\item 0.297\n\\item 0.0713\n\\item 0.0129\n\\end{enumerate*}\n",
            "text/plain": [
              "[1] 0.6188 0.2970 0.0713 0.0129"
            ]
          },
          "metadata": {}
        },
        {
          "output_type": "stream",
          "name": "stderr",
          "text": [
            "Warning message in chisq.test(f, p = p0):\n",
            "“Chi-squared approximation may be incorrect”\n"
          ]
        },
        {
          "output_type": "display_data",
          "data": {
            "text/plain": [
              "\n",
              "\tChi-squared test for given probabilities\n",
              "\n",
              "data:  f\n",
              "X-squared = 2.8941, df = 3, p-value = 0.4082\n"
            ]
          },
          "metadata": {}
        },
        {
          "output_type": "stream",
          "name": "stdout",
          "text": [
            "Statistic 2.89412 df= 2 p-value= 0.2353 \n"
          ]
        },
        {
          "output_type": "display_data",
          "data": {
            "text/html": [
              "<style>\n",
              ".list-inline {list-style: none; margin:0; padding: 0}\n",
              ".list-inline>li {display: inline-block}\n",
              ".list-inline>li:not(:last-child)::after {content: \"\\00b7\"; padding: 0 .5ex}\n",
              "</style>\n",
              "<ol class=list-inline><li>32</li><li>12</li><li>6</li></ol>\n"
            ],
            "text/markdown": "1. 32\n2. 12\n3. 6\n\n\n",
            "text/latex": "\\begin{enumerate*}\n\\item 32\n\\item 12\n\\item 6\n\\end{enumerate*}\n",
            "text/plain": [
              "[1] 32 12  6"
            ]
          },
          "metadata": {}
        },
        {
          "output_type": "display_data",
          "data": {
            "text/html": [
              "<style>\n",
              ".list-inline {list-style: none; margin:0; padding: 0}\n",
              ".list-inline>li {display: inline-block}\n",
              ".list-inline>li:not(:last-child)::after {content: \"\\00b7\"; padding: 0 .5ex}\n",
              "</style>\n",
              "<ol class=list-inline><li>0.6188</li><li>0.297</li><li>0.0842</li></ol>\n"
            ],
            "text/markdown": "1. 0.6188\n2. 0.297\n3. 0.0842\n\n\n",
            "text/latex": "\\begin{enumerate*}\n\\item 0.6188\n\\item 0.297\n\\item 0.0842\n\\end{enumerate*}\n",
            "text/plain": [
              "[1] 0.6188 0.2970 0.0842"
            ]
          },
          "metadata": {}
        },
        {
          "output_type": "stream",
          "name": "stderr",
          "text": [
            "Warning message in chisq.test(f, p = p0):\n",
            "“Chi-squared approximation may be incorrect”\n"
          ]
        },
        {
          "output_type": "display_data",
          "data": {
            "text/plain": [
              "\n",
              "\tChi-squared test for given probabilities\n",
              "\n",
              "data:  f\n",
              "X-squared = 1.3447, df = 2, p-value = 0.5105\n"
            ]
          },
          "metadata": {}
        },
        {
          "output_type": "stream",
          "name": "stdout",
          "text": [
            "Statistic 1.34466 df= 1 p-value= 0.2462 \n"
          ]
        }
      ]
    },
    {
      "cell_type": "code",
      "source": [
        "#\n",
        "#  Normal\n",
        "\n",
        "\n",
        "\n",
        "x<-rnorm(50,3,2)\n",
        "\n",
        "# in the notes\n",
        "x<-c(\n",
        "3.5782151,  3.1204428,  1.1784313,  2.6733837 , 4.8873772,  6.5613735  ,1.4594969,\n",
        "2.7136000,  2.8211155,  2.1328131,  3.7897656 , 0.8994828,  4.8989888 ,-1.1054759,\n",
        "2.8169623,  3.2493310,  0.8495996,  3.0535620 , 6.2153934,  2.0702194  ,0.4739240,\n",
        "3.6648382,  4.5174242,  5.0505596,  6.4790197 , 5.1157750,  3.6734814  ,1.9022395,\n",
        "1.1211820,  4.2648787,  1.3244140,  0.4394749 , 3.2427350,  0.7781477  ,4.4825339,\n",
        "1.7406346,  1.7721991, -0.2500393,  5.8437267 , 4.0108228,  5.1767866  ,2.0950077,\n",
        "2.7490689,  2.9418930,  4.8801020,  3.7229402 , 4.4750422,  5.0740811  ,5.2288612,\n",
        "5.6368171\n",
        ")\n",
        "\n",
        "n<-length(x)\n",
        "k<-floor(n/5)-1\n",
        "Mx<-mean(x)\n",
        "Sx<-sd(x)\n",
        "breaks<-c(-Inf,qnorm(1:(k-1)/k,mean=Mx,sd=Sx),Inf)\n",
        "breaks\n",
        "f<-table(cut(x,br=breaks))\n",
        "f\n",
        "p0<-pnorm(breaks[-1],Mx,Sx)-pnorm(breaks[-(k+1)],Mx,Sx)\n",
        "p0\n",
        "f.ct<-chisq.test(f,p=p0)\n",
        "f.ct\n",
        "cat(\"Statistic\",round(f.ct$statistic,5),\"df=\",f.ct$parameter-2,\n",
        "\t\"p-value=\",\n",
        "\tround(unname(1-pchisq(f.ct$statistic,f.ct$parameter-2)),4),\"\\n\")\n"
      ],
      "metadata": {
        "colab": {
          "base_uri": "https://localhost:8080/",
          "height": 243
        },
        "id": "NSsJsVsjnMxt",
        "outputId": "cfef6066-f87e-49cc-f776-67b50451d198"
      },
      "execution_count": 20,
      "outputs": [
        {
          "output_type": "display_data",
          "data": {
            "text/html": [
              "<style>\n",
              ".list-inline {list-style: none; margin:0; padding: 0}\n",
              ".list-inline>li {display: inline-block}\n",
              ".list-inline>li:not(:last-child)::after {content: \"\\00b7\"; padding: 0 .5ex}\n",
              "</style>\n",
              "<ol class=list-inline><li>-Inf</li><li>0.936539792285312</li><li>1.77819197186757</li><li>2.39472647767761</li><li>2.93194651153658</li><li>3.44775948046342</li><li>3.98497951432239</li><li>4.60151402013243</li><li>5.44316619971469</li><li>Inf</li></ol>\n"
            ],
            "text/markdown": "1. -Inf\n2. 0.936539792285312\n3. 1.77819197186757\n4. 2.39472647767761\n5. 2.93194651153658\n6. 3.44775948046342\n7. 3.98497951432239\n8. 4.60151402013243\n9. 5.44316619971469\n10. Inf\n\n\n",
            "text/latex": "\\begin{enumerate*}\n\\item -Inf\n\\item 0.936539792285312\n\\item 1.77819197186757\n\\item 2.39472647767761\n\\item 2.93194651153658\n\\item 3.44775948046342\n\\item 3.98497951432239\n\\item 4.60151402013243\n\\item 5.44316619971469\n\\item Inf\n\\end{enumerate*}\n",
            "text/plain": [
              " [1]      -Inf 0.9365398 1.7781920 2.3947265 2.9319465 3.4477595 3.9849795\n",
              " [8] 4.6015140 5.4431662       Inf"
            ]
          },
          "metadata": {}
        },
        {
          "output_type": "display_data",
          "data": {
            "text/plain": [
              "\n",
              "(-Inf,0.937] (0.937,1.78]  (1.78,2.39]  (2.39,2.93]  (2.93,3.45]  (3.45,3.98] \n",
              "           7            6            4            5            5            5 \n",
              "  (3.98,4.6]   (4.6,5.44]  (5.44, Inf] \n",
              "           5            8            5 "
            ]
          },
          "metadata": {}
        },
        {
          "output_type": "display_data",
          "data": {
            "text/html": [
              "<style>\n",
              ".list-inline {list-style: none; margin:0; padding: 0}\n",
              ".list-inline>li {display: inline-block}\n",
              ".list-inline>li:not(:last-child)::after {content: \"\\00b7\"; padding: 0 .5ex}\n",
              "</style>\n",
              "<ol class=list-inline><li>0.111111111111111</li><li>0.111111111111111</li><li>0.111111111111111</li><li>0.111111111111111</li><li>0.111111111111111</li><li>0.111111111111111</li><li>0.111111111111111</li><li>0.111111111111111</li><li>0.111111111111111</li></ol>\n"
            ],
            "text/markdown": "1. 0.111111111111111\n2. 0.111111111111111\n3. 0.111111111111111\n4. 0.111111111111111\n5. 0.111111111111111\n6. 0.111111111111111\n7. 0.111111111111111\n8. 0.111111111111111\n9. 0.111111111111111\n\n\n",
            "text/latex": "\\begin{enumerate*}\n\\item 0.111111111111111\n\\item 0.111111111111111\n\\item 0.111111111111111\n\\item 0.111111111111111\n\\item 0.111111111111111\n\\item 0.111111111111111\n\\item 0.111111111111111\n\\item 0.111111111111111\n\\item 0.111111111111111\n\\end{enumerate*}\n",
            "text/plain": [
              "[1] 0.1111111 0.1111111 0.1111111 0.1111111 0.1111111 0.1111111 0.1111111\n",
              "[8] 0.1111111 0.1111111"
            ]
          },
          "metadata": {}
        },
        {
          "output_type": "display_data",
          "data": {
            "text/plain": [
              "\n",
              "\tChi-squared test for given probabilities\n",
              "\n",
              "data:  f\n",
              "X-squared = 2.2, df = 8, p-value = 0.9743\n"
            ]
          },
          "metadata": {}
        },
        {
          "output_type": "stream",
          "name": "stdout",
          "text": [
            "Statistic 2.2 df= 6 p-value= 0.9004 \n"
          ]
        }
      ]
    },
    {
      "cell_type": "code",
      "source": [
        "# Examples\n",
        "#\n",
        "\n",
        "# 1\n",
        "chisq.test(c(6,15,7,4,17,11))\n",
        "\n",
        "# 3\n",
        "chisq.test(c(7,4,3,5,2,3))    #n>30\n",
        "\n",
        "\n",
        "#7\n",
        "chisq.test(rbind(c(77,23),c(120,80)))\n",
        "chisq.test(rbind(c(77,23),c(120,80)),correct = FALSE)\n",
        "\n",
        "#8\n",
        "chisq.test(rbind(c(3,33),c(7,17)))\n",
        "chisq.test(cbind(c(3,33),c(7,17)))\n",
        "chisq.test(rbind(c(3,33),c(7,17)),correct = FALSE)\n",
        "\n",
        "#fisher.test(rbind(c(3,33),c(7,17)))\n",
        "\n",
        "#5\n",
        "chisq.test(rbind(c(2,18,12,8),c(28,82,38,12)))\n",
        "chisq.test(rbind(c(2,18,12,8),c(28,82,38,12)))$expected\n",
        "\n",
        "#fisher.test(rbind(c(2,18,12,8),c(28,82,38,12)))"
      ],
      "metadata": {
        "colab": {
          "base_uri": "https://localhost:8080/",
          "height": 1000
        },
        "id": "CeloZgDQnRK6",
        "outputId": "0035f408-51c4-4436-b62d-31ea857aa098"
      },
      "execution_count": 21,
      "outputs": [
        {
          "output_type": "display_data",
          "data": {
            "text/plain": [
              "\n",
              "\tChi-squared test for given probabilities\n",
              "\n",
              "data:  c(6, 15, 7, 4, 17, 11)\n",
              "X-squared = 13.6, df = 5, p-value = 0.01836\n"
            ]
          },
          "metadata": {}
        },
        {
          "output_type": "stream",
          "name": "stderr",
          "text": [
            "Warning message in chisq.test(c(7, 4, 3, 5, 2, 3)):\n",
            "“Chi-squared approximation may be incorrect”\n"
          ]
        },
        {
          "output_type": "display_data",
          "data": {
            "text/plain": [
              "\n",
              "\tChi-squared test for given probabilities\n",
              "\n",
              "data:  c(7, 4, 3, 5, 2, 3)\n",
              "X-squared = 4, df = 5, p-value = 0.5494\n"
            ]
          },
          "metadata": {}
        },
        {
          "output_type": "display_data",
          "data": {
            "text/plain": [
              "\n",
              "\tPearson's Chi-squared test with Yates' continuity correction\n",
              "\n",
              "data:  rbind(c(77, 23), c(120, 80))\n",
              "X-squared = 7.8083, df = 1, p-value = 0.005201\n"
            ]
          },
          "metadata": {}
        },
        {
          "output_type": "display_data",
          "data": {
            "text/plain": [
              "\n",
              "\tPearson's Chi-squared test\n",
              "\n",
              "data:  rbind(c(77, 23), c(120, 80))\n",
              "X-squared = 8.5457, df = 1, p-value = 0.003463\n"
            ]
          },
          "metadata": {}
        },
        {
          "output_type": "stream",
          "name": "stderr",
          "text": [
            "Warning message in chisq.test(rbind(c(3, 33), c(7, 17))):\n",
            "“Chi-squared approximation may be incorrect”\n"
          ]
        },
        {
          "output_type": "display_data",
          "data": {
            "text/plain": [
              "\n",
              "\tPearson's Chi-squared test with Yates' continuity correction\n",
              "\n",
              "data:  rbind(c(3, 33), c(7, 17))\n",
              "X-squared = 3.125, df = 1, p-value = 0.0771\n"
            ]
          },
          "metadata": {}
        },
        {
          "output_type": "stream",
          "name": "stderr",
          "text": [
            "Warning message in chisq.test(cbind(c(3, 33), c(7, 17))):\n",
            "“Chi-squared approximation may be incorrect”\n"
          ]
        },
        {
          "output_type": "display_data",
          "data": {
            "text/plain": [
              "\n",
              "\tPearson's Chi-squared test with Yates' continuity correction\n",
              "\n",
              "data:  cbind(c(3, 33), c(7, 17))\n",
              "X-squared = 3.125, df = 1, p-value = 0.0771\n"
            ]
          },
          "metadata": {}
        },
        {
          "output_type": "stream",
          "name": "stderr",
          "text": [
            "Warning message in chisq.test(rbind(c(3, 33), c(7, 17)), correct = FALSE):\n",
            "“Chi-squared approximation may be incorrect”\n"
          ]
        },
        {
          "output_type": "display_data",
          "data": {
            "text/plain": [
              "\n",
              "\tPearson's Chi-squared test\n",
              "\n",
              "data:  rbind(c(3, 33), c(7, 17))\n",
              "X-squared = 4.5, df = 1, p-value = 0.03389\n"
            ]
          },
          "metadata": {}
        },
        {
          "output_type": "stream",
          "name": "stderr",
          "text": [
            "Warning message in chisq.test(rbind(c(2, 18, 12, 8), c(28, 82, 38, 12))):\n",
            "“Chi-squared approximation may be incorrect”\n"
          ]
        },
        {
          "output_type": "display_data",
          "data": {
            "text/plain": [
              "\n",
              "\tPearson's Chi-squared test\n",
              "\n",
              "data:  rbind(c(2, 18, 12, 8), c(28, 82, 38, 12))\n",
              "X-squared = 9.0833, df = 3, p-value = 0.0282\n"
            ]
          },
          "metadata": {}
        },
        {
          "output_type": "stream",
          "name": "stderr",
          "text": [
            "Warning message in chisq.test(rbind(c(2, 18, 12, 8), c(28, 82, 38, 12))):\n",
            "“Chi-squared approximation may be incorrect”\n"
          ]
        },
        {
          "output_type": "display_data",
          "data": {
            "text/html": [
              "<table class=\"dataframe\">\n",
              "<caption>A matrix: 2 × 4 of type dbl</caption>\n",
              "<tbody>\n",
              "\t<tr><td> 6</td><td>20</td><td>10</td><td> 4</td></tr>\n",
              "\t<tr><td>24</td><td>80</td><td>40</td><td>16</td></tr>\n",
              "</tbody>\n",
              "</table>\n"
            ],
            "text/markdown": "\nA matrix: 2 × 4 of type dbl\n\n|  6 | 20 | 10 |  4 |\n| 24 | 80 | 40 | 16 |\n\n",
            "text/latex": "A matrix: 2 × 4 of type dbl\n\\begin{tabular}{llll}\n\t  6 & 20 & 10 &  4\\\\\n\t 24 & 80 & 40 & 16\\\\\n\\end{tabular}\n",
            "text/plain": [
              "     [,1] [,2] [,3] [,4]\n",
              "[1,]  6   20   10    4  \n",
              "[2,] 24   80   40   16  "
            ]
          },
          "metadata": {}
        }
      ]
    },
    {
      "cell_type": "code",
      "source": [
        "LikhExp<-function(theta,y){\n",
        "   n<-length(y)\n",
        "   Likh<-1\n",
        "   for (i in 1:n) Likh<-Likh*dexp(y[i],rate=theta)\n",
        "   return(Likh)\n",
        "}\n",
        "\n",
        "y<-rexp(10)\n",
        "\n",
        "LikhExp(1,y)\n",
        "log(LikhExp(1,y))\n",
        "\n",
        "\n",
        "theta<-seq(0,3,length.out=100)\n",
        "theta\n",
        "plot(theta,LikhExp(theta,y),type=\"l\")\n",
        "plot(theta,log(LikhExp(theta,y)),type=\"l\")\n",
        "\n",
        "curve(LikhExp(x,y),xlim=c(0,3))\n",
        "z<-optimize(LikhExp, interval=c(0,10), maximum=TRUE, y=y)\n",
        "z\n",
        "1/mean(y)\n",
        "\n",
        "lines(c(z$maximum,z$maximum),c(0,z$objective))\n",
        "\n",
        "\n",
        "curve(log(LikhExp(x,y)),xlim=c(0,3))\n",
        "z<-optimize(function(theta,y) log(LikhExp(theta,y)), interval=c(0,10), maximum=TRUE, y=y)\n",
        "z\n",
        "lines(c(z$maximum,z$maximum),c(0,z$objective))\n",
        "\n",
        "abline(a=NULL, b=NULL, h=NULL, v=z$maximum, lty=2)\n",
        "abline(h=z$objective, lty=2)"
      ],
      "metadata": {
        "id": "0vAr5mMDVOxi",
        "outputId": "729b17b7-e3a0-4070-d460-646ab464f829",
        "colab": {
          "base_uri": "https://localhost:8080/",
          "height": 1000
        }
      },
      "execution_count": 24,
      "outputs": [
        {
          "output_type": "display_data",
          "data": {
            "text/html": [
              "0.000148981203098672"
            ],
            "text/markdown": "0.000148981203098672",
            "text/latex": "0.000148981203098672",
            "text/plain": [
              "[1] 0.0001489812"
            ]
          },
          "metadata": {}
        },
        {
          "output_type": "display_data",
          "data": {
            "text/html": [
              "-8.81169041367705"
            ],
            "text/markdown": "-8.81169041367705",
            "text/latex": "-8.81169041367705",
            "text/plain": [
              "[1] -8.81169"
            ]
          },
          "metadata": {}
        },
        {
          "output_type": "display_data",
          "data": {
            "text/html": [
              "<style>\n",
              ".list-inline {list-style: none; margin:0; padding: 0}\n",
              ".list-inline>li {display: inline-block}\n",
              ".list-inline>li:not(:last-child)::after {content: \"\\00b7\"; padding: 0 .5ex}\n",
              "</style>\n",
              "<ol class=list-inline><li>0</li><li>0.0303030303030303</li><li>0.0606060606060606</li><li>0.0909090909090909</li><li>0.121212121212121</li><li>0.151515151515152</li><li>0.181818181818182</li><li>0.212121212121212</li><li>0.242424242424242</li><li>0.272727272727273</li><li>0.303030303030303</li><li>0.333333333333333</li><li>0.363636363636364</li><li>0.393939393939394</li><li>0.424242424242424</li><li>0.454545454545455</li><li>0.484848484848485</li><li>0.515151515151515</li><li>0.545454545454545</li><li>0.575757575757576</li><li>0.606060606060606</li><li>0.636363636363636</li><li>0.666666666666667</li><li>0.696969696969697</li><li>0.727272727272727</li><li>0.757575757575758</li><li>0.787878787878788</li><li>0.818181818181818</li><li>0.848484848484849</li><li>0.878787878787879</li><li>0.909090909090909</li><li>0.939393939393939</li><li>0.96969696969697</li><li>1</li><li>1.03030303030303</li><li>1.06060606060606</li><li>1.09090909090909</li><li>1.12121212121212</li><li>1.15151515151515</li><li>1.18181818181818</li><li>1.21212121212121</li><li>1.24242424242424</li><li>1.27272727272727</li><li>1.3030303030303</li><li>1.33333333333333</li><li>1.36363636363636</li><li>1.39393939393939</li><li>1.42424242424242</li><li>1.45454545454545</li><li>1.48484848484848</li><li>1.51515151515152</li><li>1.54545454545455</li><li>1.57575757575758</li><li>1.60606060606061</li><li>1.63636363636364</li><li>1.66666666666667</li><li>1.6969696969697</li><li>1.72727272727273</li><li>1.75757575757576</li><li>1.78787878787879</li><li>1.81818181818182</li><li>1.84848484848485</li><li>1.87878787878788</li><li>1.90909090909091</li><li>1.93939393939394</li><li>1.96969696969697</li><li>2</li><li>2.03030303030303</li><li>2.06060606060606</li><li>2.09090909090909</li><li>2.12121212121212</li><li>2.15151515151515</li><li>2.18181818181818</li><li>2.21212121212121</li><li>2.24242424242424</li><li>2.27272727272727</li><li>2.3030303030303</li><li>2.33333333333333</li><li>2.36363636363636</li><li>2.39393939393939</li><li>2.42424242424242</li><li>2.45454545454545</li><li>2.48484848484848</li><li>2.51515151515152</li><li>2.54545454545455</li><li>2.57575757575758</li><li>2.60606060606061</li><li>2.63636363636364</li><li>2.66666666666667</li><li>2.6969696969697</li><li>2.72727272727273</li><li>2.75757575757576</li><li>2.78787878787879</li><li>2.81818181818182</li><li>2.84848484848485</li><li>2.87878787878788</li><li>2.90909090909091</li><li>2.93939393939394</li><li>2.96969696969697</li><li>3</li></ol>\n"
            ],
            "text/markdown": "1. 0\n2. 0.0303030303030303\n3. 0.0606060606060606\n4. 0.0909090909090909\n5. 0.121212121212121\n6. 0.151515151515152\n7. 0.181818181818182\n8. 0.212121212121212\n9. 0.242424242424242\n10. 0.272727272727273\n11. 0.303030303030303\n12. 0.333333333333333\n13. 0.363636363636364\n14. 0.393939393939394\n15. 0.424242424242424\n16. 0.454545454545455\n17. 0.484848484848485\n18. 0.515151515151515\n19. 0.545454545454545\n20. 0.575757575757576\n21. 0.606060606060606\n22. 0.636363636363636\n23. 0.666666666666667\n24. 0.696969696969697\n25. 0.727272727272727\n26. 0.757575757575758\n27. 0.787878787878788\n28. 0.818181818181818\n29. 0.848484848484849\n30. 0.878787878787879\n31. 0.909090909090909\n32. 0.939393939393939\n33. 0.96969696969697\n34. 1\n35. 1.03030303030303\n36. 1.06060606060606\n37. 1.09090909090909\n38. 1.12121212121212\n39. 1.15151515151515\n40. 1.18181818181818\n41. 1.21212121212121\n42. 1.24242424242424\n43. 1.27272727272727\n44. 1.3030303030303\n45. 1.33333333333333\n46. 1.36363636363636\n47. 1.39393939393939\n48. 1.42424242424242\n49. 1.45454545454545\n50. 1.48484848484848\n51. 1.51515151515152\n52. 1.54545454545455\n53. 1.57575757575758\n54. 1.60606060606061\n55. 1.63636363636364\n56. 1.66666666666667\n57. 1.6969696969697\n58. 1.72727272727273\n59. 1.75757575757576\n60. 1.78787878787879\n61. 1.81818181818182\n62. 1.84848484848485\n63. 1.87878787878788\n64. 1.90909090909091\n65. 1.93939393939394\n66. 1.96969696969697\n67. 2\n68. 2.03030303030303\n69. 2.06060606060606\n70. 2.09090909090909\n71. 2.12121212121212\n72. 2.15151515151515\n73. 2.18181818181818\n74. 2.21212121212121\n75. 2.24242424242424\n76. 2.27272727272727\n77. 2.3030303030303\n78. 2.33333333333333\n79. 2.36363636363636\n80. 2.39393939393939\n81. 2.42424242424242\n82. 2.45454545454545\n83. 2.48484848484848\n84. 2.51515151515152\n85. 2.54545454545455\n86. 2.57575757575758\n87. 2.60606060606061\n88. 2.63636363636364\n89. 2.66666666666667\n90. 2.6969696969697\n91. 2.72727272727273\n92. 2.75757575757576\n93. 2.78787878787879\n94. 2.81818181818182\n95. 2.84848484848485\n96. 2.87878787878788\n97. 2.90909090909091\n98. 2.93939393939394\n99. 2.96969696969697\n100. 3\n\n\n",
            "text/latex": "\\begin{enumerate*}\n\\item 0\n\\item 0.0303030303030303\n\\item 0.0606060606060606\n\\item 0.0909090909090909\n\\item 0.121212121212121\n\\item 0.151515151515152\n\\item 0.181818181818182\n\\item 0.212121212121212\n\\item 0.242424242424242\n\\item 0.272727272727273\n\\item 0.303030303030303\n\\item 0.333333333333333\n\\item 0.363636363636364\n\\item 0.393939393939394\n\\item 0.424242424242424\n\\item 0.454545454545455\n\\item 0.484848484848485\n\\item 0.515151515151515\n\\item 0.545454545454545\n\\item 0.575757575757576\n\\item 0.606060606060606\n\\item 0.636363636363636\n\\item 0.666666666666667\n\\item 0.696969696969697\n\\item 0.727272727272727\n\\item 0.757575757575758\n\\item 0.787878787878788\n\\item 0.818181818181818\n\\item 0.848484848484849\n\\item 0.878787878787879\n\\item 0.909090909090909\n\\item 0.939393939393939\n\\item 0.96969696969697\n\\item 1\n\\item 1.03030303030303\n\\item 1.06060606060606\n\\item 1.09090909090909\n\\item 1.12121212121212\n\\item 1.15151515151515\n\\item 1.18181818181818\n\\item 1.21212121212121\n\\item 1.24242424242424\n\\item 1.27272727272727\n\\item 1.3030303030303\n\\item 1.33333333333333\n\\item 1.36363636363636\n\\item 1.39393939393939\n\\item 1.42424242424242\n\\item 1.45454545454545\n\\item 1.48484848484848\n\\item 1.51515151515152\n\\item 1.54545454545455\n\\item 1.57575757575758\n\\item 1.60606060606061\n\\item 1.63636363636364\n\\item 1.66666666666667\n\\item 1.6969696969697\n\\item 1.72727272727273\n\\item 1.75757575757576\n\\item 1.78787878787879\n\\item 1.81818181818182\n\\item 1.84848484848485\n\\item 1.87878787878788\n\\item 1.90909090909091\n\\item 1.93939393939394\n\\item 1.96969696969697\n\\item 2\n\\item 2.03030303030303\n\\item 2.06060606060606\n\\item 2.09090909090909\n\\item 2.12121212121212\n\\item 2.15151515151515\n\\item 2.18181818181818\n\\item 2.21212121212121\n\\item 2.24242424242424\n\\item 2.27272727272727\n\\item 2.3030303030303\n\\item 2.33333333333333\n\\item 2.36363636363636\n\\item 2.39393939393939\n\\item 2.42424242424242\n\\item 2.45454545454545\n\\item 2.48484848484848\n\\item 2.51515151515152\n\\item 2.54545454545455\n\\item 2.57575757575758\n\\item 2.60606060606061\n\\item 2.63636363636364\n\\item 2.66666666666667\n\\item 2.6969696969697\n\\item 2.72727272727273\n\\item 2.75757575757576\n\\item 2.78787878787879\n\\item 2.81818181818182\n\\item 2.84848484848485\n\\item 2.87878787878788\n\\item 2.90909090909091\n\\item 2.93939393939394\n\\item 2.96969696969697\n\\item 3\n\\end{enumerate*}\n",
            "text/plain": [
              "  [1] 0.00000000 0.03030303 0.06060606 0.09090909 0.12121212 0.15151515\n",
              "  [7] 0.18181818 0.21212121 0.24242424 0.27272727 0.30303030 0.33333333\n",
              " [13] 0.36363636 0.39393939 0.42424242 0.45454545 0.48484848 0.51515152\n",
              " [19] 0.54545455 0.57575758 0.60606061 0.63636364 0.66666667 0.69696970\n",
              " [25] 0.72727273 0.75757576 0.78787879 0.81818182 0.84848485 0.87878788\n",
              " [31] 0.90909091 0.93939394 0.96969697 1.00000000 1.03030303 1.06060606\n",
              " [37] 1.09090909 1.12121212 1.15151515 1.18181818 1.21212121 1.24242424\n",
              " [43] 1.27272727 1.30303030 1.33333333 1.36363636 1.39393939 1.42424242\n",
              " [49] 1.45454545 1.48484848 1.51515152 1.54545455 1.57575758 1.60606061\n",
              " [55] 1.63636364 1.66666667 1.69696970 1.72727273 1.75757576 1.78787879\n",
              " [61] 1.81818182 1.84848485 1.87878788 1.90909091 1.93939394 1.96969697\n",
              " [67] 2.00000000 2.03030303 2.06060606 2.09090909 2.12121212 2.15151515\n",
              " [73] 2.18181818 2.21212121 2.24242424 2.27272727 2.30303030 2.33333333\n",
              " [79] 2.36363636 2.39393939 2.42424242 2.45454545 2.48484848 2.51515152\n",
              " [85] 2.54545455 2.57575758 2.60606061 2.63636364 2.66666667 2.69696970\n",
              " [91] 2.72727273 2.75757576 2.78787879 2.81818182 2.84848485 2.87878788\n",
              " [97] 2.90909091 2.93939394 2.96969697 3.00000000"
            ]
          },
          "metadata": {}
        },
        {
          "output_type": "display_data",
          "data": {
            "text/plain": [
              "plot without title"
            ],
            "image/png": "[encoded data removed]"
          },
          "metadata": {
            "image/png": {
              "width": 420,
              "height": 420
            }
          }
        },
        {
          "output_type": "display_data",
          "data": {
            "text/plain": [
              "plot without title"
            ],
            "image/png": "[encoded data removed]"
          },
          "metadata": {
            "image/png": {
              "width": 420,
              "height": 420
            }
          }
        },
        {
          "output_type": "display_data",
          "data": {
            "text/html": [
              "<dl>\n",
              "\t<dt>$maximum</dt>\n",
              "\t\t<dd>1.1348415168333</dd>\n",
              "\t<dt>$objective</dt>\n",
              "\t\t<dd>0.000160865486375677</dd>\n",
              "</dl>\n"
            ],
            "text/markdown": "$maximum\n:   1.1348415168333\n$objective\n:   0.000160865486375677\n\n\n",
            "text/latex": "\\begin{description}\n\\item[\\$maximum] 1.1348415168333\n\\item[\\$objective] 0.000160865486375677\n\\end{description}\n",
            "text/plain": [
              "$maximum\n",
              "[1] 1.134842\n",
              "\n",
              "$objective\n",
              "[1] 0.0001608655\n"
            ]
          },
          "metadata": {}
        },
        {
          "output_type": "display_data",
          "data": {
            "text/html": [
              "1.13485602994841"
            ],
            "text/markdown": "1.13485602994841",
            "text/latex": "1.13485602994841",
            "text/plain": [
              "[1] 1.134856"
            ]
          },
          "metadata": {}
        },
        {
          "output_type": "display_data",
          "data": {
            "text/plain": [
              "plot without title"
            ],
            "image/png": "[encoded data removed]"
          },
          "metadata": {
            "image/png": {
              "width": 420,
              "height": 420
            }
          }
        },
        {
          "output_type": "display_data",
          "data": {
            "text/html": [
              "<dl>\n",
              "\t<dt>$maximum</dt>\n",
              "\t\t<dd>1.1348525071656</dd>\n",
              "\t<dt>$objective</dt>\n",
              "\t\t<dd>-8.734942029775</dd>\n",
              "</dl>\n"
            ],
            "text/markdown": "$maximum\n:   1.1348525071656\n$objective\n:   -8.734942029775\n\n\n",
            "text/latex": "\\begin{description}\n\\item[\\$maximum] 1.1348525071656\n\\item[\\$objective] -8.734942029775\n\\end{description}\n",
            "text/plain": [
              "$maximum\n",
              "[1] 1.134853\n",
              "\n",
              "$objective\n",
              "[1] -8.734942\n"
            ]
          },
          "metadata": {}
        },
        {
          "output_type": "display_data",
          "data": {
            "text/plain": [
              "plot without title"
            ],
            "image/png": "[encoded data removed]"
          },
          "metadata": {
            "image/png": {
              "width": 420,
              "height": 420
            }
          }
        }
      ]
    },
    {
      "cell_type": "code",
      "source": [
        "\n",
        "LikhExp<-function(theta,y){\n",
        "   n<-length(y)\n",
        "   Likh<-1\n",
        "   for (i in 1:n) Likh<-Likh*dgamma(y[i],shape=1,scale=theta)\n",
        "   return(Likh)\n",
        "}\n",
        "\n",
        "mean(y)\n",
        "\n",
        "theta<-seq(0.01,3,length.out=100)\n",
        "\n",
        "curve(log(LikhExp(x,y)),xlim=c(0.001,3))"
      ],
      "metadata": {
        "id": "TEDWQ3qNU7yo",
        "outputId": "220d0b21-b958-4b81-c3e9-92986fa60251",
        "colab": {
          "base_uri": "https://localhost:8080/",
          "height": 454
        }
      },
      "execution_count": 25,
      "outputs": [
        {
          "output_type": "display_data",
          "data": {
            "text/html": [
              "0.881169041367705"
            ],
            "text/markdown": "0.881169041367705",
            "text/latex": "0.881169041367705",
            "text/plain": [
              "[1] 0.881169"
            ]
          },
          "metadata": {}
        },
        {
          "output_type": "display_data",
          "data": {
            "text/plain": [
              "plot without title"
            ],
            "image/png": "[encoded data removed]"
          },
          "metadata": {
            "image/png": {
              "width": 420,
              "height": 420
            }
          }
        }
      ]
    }
  ]
}