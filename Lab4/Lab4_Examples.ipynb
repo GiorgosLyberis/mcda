{
  "nbformat": 4,
  "nbformat_minor": 0,
  "metadata": {
    "colab": {
      "provenance": [],
      "authorship_tag": "ABX9TyOBPk0szZBk5wQq1JNmSsuX",
      "include_colab_link": true
    },
    "kernelspec": {
      "name": "ir",
      "display_name": "R"
    },
    "language_info": {
      "name": "R"
    }
  },
  "cells": [
    {
      "cell_type": "markdown",
      "metadata": {
        "id": "view-in-github",
        "colab_type": "text"
      },
      "source": [
        "<a href=\"https://colab.research.google.com/github/GiorgosLyberis/mcda/blob/main/Lab4/Lab4_Examples.ipynb\" target=\"_parent\"><img src=\"https://colab.research.google.com/assets/colab-badge.svg\" alt=\"Open In Colab\"/></a>"
      ]
    },
    {
      "cell_type": "code",
      "execution_count": 1,
      "metadata": {
        "colab": {
          "base_uri": "https://localhost:8080/",
          "height": 138
        },
        "id": "OKnnuIGqDQ8Y",
        "outputId": "834ee802-5c47-4fe7-ff87-2f3701a95a14"
      },
      "outputs": [
        {
          "output_type": "display_data",
          "data": {
            "text/html": [
              "10"
            ],
            "text/markdown": "10",
            "text/latex": "10",
            "text/plain": [
              "[1] 10"
            ]
          },
          "metadata": {}
        },
        {
          "output_type": "display_data",
          "data": {
            "text/html": [
              "0.308"
            ],
            "text/markdown": "0.308",
            "text/latex": "0.308",
            "text/plain": [
              "[1] 0.308"
            ]
          },
          "metadata": {}
        },
        {
          "output_type": "display_data",
          "data": {
            "text/html": [
              "<style>\n",
              ".list-inline {list-style: none; margin:0; padding: 0}\n",
              ".list-inline>li {display: inline-block}\n",
              ".list-inline>li:not(:last-child)::after {content: \"\\00b7\"; padding: 0 .5ex}\n",
              "</style>\n",
              "<ol class=list-inline><li>-1.55138509691368</li><li>2.16738509691368</li></ol>\n"
            ],
            "text/markdown": "1. -1.55138509691368\n2. 2.16738509691368\n\n\n",
            "text/latex": "\\begin{enumerate*}\n\\item -1.55138509691368\n\\item 2.16738509691368\n\\end{enumerate*}\n",
            "text/plain": [
              "[1] -1.551385  2.167385"
            ]
          },
          "metadata": {}
        },
        {
          "output_type": "display_data",
          "data": {
            "text/html": [
              "<style>\n",
              ".list-inline {list-style: none; margin:0; padding: 0}\n",
              ".list-inline>li {display: inline-block}\n",
              ".list-inline>li:not(:last-child)::after {content: \"\\00b7\"; padding: 0 .5ex}\n",
              "</style>\n",
              "<ol class=list-inline><li>-1.25244516362667</li><li>1.86844516362667</li></ol>\n"
            ],
            "text/markdown": "1. -1.25244516362667\n2. 1.86844516362667\n\n\n",
            "text/latex": "\\begin{enumerate*}\n\\item -1.25244516362667\n\\item 1.86844516362667\n\\end{enumerate*}\n",
            "text/plain": [
              "[1] -1.252445  1.868445"
            ]
          },
          "metadata": {}
        },
        {
          "output_type": "stream",
          "name": "stdout",
          "text": [
            "s.e. 1-a= 0.95 LB= -1.5514 UB= 2.1674 \n",
            "s.e. 1-a= 0.9 LB= -1.2524 UB= 1.8684 \n",
            "s.e. 1-a= 0.8 LB= -0.9078 UB= 1.5238 \n"
          ]
        }
      ],
      "source": [
        "#  N(m,s^2) Confidence Interval for m, s^2 known\n",
        "#\n",
        "\n",
        "# movov egw gvwpizw to m\n",
        "# m<--1\n",
        "# sigma<-3\n",
        "# x<-rnorm(10,m,sigma)\n",
        "# ks.test(x,\"pnorm\",mean=-1,sd=3)\n",
        "\n",
        "\n",
        "x<-c(\n",
        "-1.26, -2.05,  3.77,  3.88, -2.24,  0.13, -2.47,  0.18,  4.90, -1.76)\n",
        "\n",
        "\n",
        "sigma<-3  #sas to divw\n",
        "          #  sd(x) eivai kovta sto 3\n",
        "n<-length(x)\n",
        "n\n",
        "Mx<-mean(x)\n",
        "Mx\n",
        "# 95% Conf Inter for m\n",
        "a<-0.05\n",
        "c(Mx+qnorm(a/2)*sigma/sqrt(n),Mx+qnorm(1-a/2)*sigma/sqrt(n))\n",
        "#c(Mx-qnorm(1-a/2)*sigma/sqrt(n),Mx-qnorm(a/2)*sigma/sqrt(n))\n",
        "\n",
        "# 90% Conf Inter for m\n",
        "a<-0.10\n",
        "c(Mx+qnorm(a/2)*sigma/sqrt(n),Mx+qnorm(1-a/2)*sigma/sqrt(n))\n",
        "\n",
        "for (a in c(0.05,0.1,0.2)){\n",
        "cat(\"s.e. 1-a=\",1-a,\n",
        "\"LB=\",round(Mx+qnorm(a/2)*sigma/sqrt(n),4),\n",
        "\"UB=\",round(Mx+qnorm(1-a/2)*sigma/sqrt(n),4),\"\\n\")\n",
        "}"
      ]
    },
    {
      "cell_type": "code",
      "source": [
        "#  N(m,s^2) Confidence Interval for m, s^2 unknown\n",
        "#\n",
        "\n",
        "#############################################################################\n",
        "# exw movo tis deigmatikes parametrous\n",
        "\n",
        "n<-12\n",
        "Mx<-65\n",
        "S<-3\n",
        "cat(\"n=\",n,\"Mx=\",Mx,\"S^2=\",S^2,\"\\n\")\n",
        "for (a in c(0.05,0.1,0.2)){\n",
        "cat(\"s.e. 1-a=\",1-a,\"  t\",n-1,\"(\",a/2,\")=\",round(qt(1-a/2,n-1),3),\n",
        "\"  [\",round(Mx+qt(a/2,n-1)*S/sqrt(n),4),\",\",\n",
        "round(Mx+qt(1-a/2,n-1)*S/sqrt(n),4),\"]\",\"\\n\")\n",
        "}"
      ],
      "metadata": {
        "colab": {
          "base_uri": "https://localhost:8080/"
        },
        "id": "I3JtFGIoDgqT",
        "outputId": "126bf0f5-0577-4171-fd32-d49a70a371a6"
      },
      "execution_count": 2,
      "outputs": [
        {
          "output_type": "stream",
          "name": "stdout",
          "text": [
            "n= 12 Mx= 65 S^2= 9 \n",
            "s.e. 1-a= 0.95   t 11 ( 0.025 )= 2.201   [ 63.0939 , 66.9061 ] \n",
            "s.e. 1-a= 0.9   t 11 ( 0.05 )= 1.796   [ 63.4447 , 66.5553 ] \n",
            "s.e. 1-a= 0.8   t 11 ( 0.1 )= 1.363   [ 63.8192 , 66.1808 ] \n"
          ]
        }
      ]
    },
    {
      "cell_type": "code",
      "source": [
        "# exw oloklnpo to deigma\n",
        "\n",
        "x<-c(\n",
        "0.2, -0.5, -1.3, -1.6, -0.7, 0.4, -0.1, 0.0, -0.6, -1.1, -1.2, -0.8)\n",
        "\n",
        "n<-length(x)\n",
        "Mx<-mean(x)\n",
        "S<-sd(x)\n",
        "cat(\"n=\",n,\"Mx=\",Mx,\"S^2=\",var(x),\"\\n\")\n",
        "# 95% Conf Inter for m\n",
        "# METHOD A\n",
        "a<-0.05\n",
        "c(Mx+qt(a/2,n-1)*S/sqrt(n),Mx+qt(1-a/2,n-1)*S/sqrt(n))\n",
        "#c(Mx-qt(1-a/2,n-1)*S/sqrt(n),Mx-qt(a/2,n-1)*S/sqrt(n))\n",
        "\n",
        "# METHOD B   1-a=0.95\n",
        "t.test(x)"
      ],
      "metadata": {
        "colab": {
          "base_uri": "https://localhost:8080/",
          "height": 243
        },
        "id": "_3pYu_X5Dtu6",
        "outputId": "f670564a-f653-4816-fa50-7366f81fbcc0"
      },
      "execution_count": 4,
      "outputs": [
        {
          "output_type": "stream",
          "name": "stdout",
          "text": [
            "n= 12 Mx= -0.6083333 S^2= 0.4008333 \n"
          ]
        },
        {
          "output_type": "display_data",
          "data": {
            "text/html": [
              "<style>\n",
              ".list-inline {list-style: none; margin:0; padding: 0}\n",
              ".list-inline>li {display: inline-block}\n",
              ".list-inline>li:not(:last-child)::after {content: \"\\00b7\"; padding: 0 .5ex}\n",
              "</style>\n",
              "<ol class=list-inline><li>-1.01059477572013</li><li>-0.206071890946541</li></ol>\n"
            ],
            "text/markdown": "1. -1.01059477572013\n2. -0.206071890946541\n\n\n",
            "text/latex": "\\begin{enumerate*}\n\\item -1.01059477572013\n\\item -0.206071890946541\n\\end{enumerate*}\n",
            "text/plain": [
              "[1] -1.0105948 -0.2060719"
            ]
          },
          "metadata": {}
        },
        {
          "output_type": "display_data",
          "data": {
            "text/plain": [
              "\n",
              "\tOne Sample t-test\n",
              "\n",
              "data:  x\n",
              "t = -3.3285, df = 11, p-value = 0.006729\n",
              "alternative hypothesis: true mean is not equal to 0\n",
              "95 percent confidence interval:\n",
              " -1.0105948 -0.2060719\n",
              "sample estimates:\n",
              " mean of x \n",
              "-0.6083333 \n"
            ]
          },
          "metadata": {}
        }
      ]
    },
    {
      "cell_type": "code",
      "source": [
        "# 1-a=0.90\n",
        "\n",
        "a<-0.1\n",
        "# METHOD A\n",
        "c(Mx+qt(a/2,n-1)*S/sqrt(n),Mx+qt(1-a/2,n-1)*S/sqrt(n))\n",
        "# METHOD B\n",
        "t.test(x,conf.level=1-a)"
      ],
      "metadata": {
        "colab": {
          "base_uri": "https://localhost:8080/",
          "height": 225
        },
        "id": "vmc1RrQ6DwmS",
        "outputId": "9a74d470-43b9-45e9-fca2-c75637726823"
      },
      "execution_count": 5,
      "outputs": [
        {
          "output_type": "display_data",
          "data": {
            "text/html": [
              "<style>\n",
              ".list-inline {list-style: none; margin:0; padding: 0}\n",
              ".list-inline>li {display: inline-block}\n",
              ".list-inline>li:not(:last-child)::after {content: \"\\00b7\"; padding: 0 .5ex}\n",
              "</style>\n",
              "<ol class=list-inline><li>-0.936556908226657</li><li>-0.28010975844001</li></ol>\n"
            ],
            "text/markdown": "1. -0.936556908226657\n2. -0.28010975844001\n\n\n",
            "text/latex": "\\begin{enumerate*}\n\\item -0.936556908226657\n\\item -0.28010975844001\n\\end{enumerate*}\n",
            "text/plain": [
              "[1] -0.9365569 -0.2801098"
            ]
          },
          "metadata": {}
        },
        {
          "output_type": "display_data",
          "data": {
            "text/plain": [
              "\n",
              "\tOne Sample t-test\n",
              "\n",
              "data:  x\n",
              "t = -3.3285, df = 11, p-value = 0.006729\n",
              "alternative hypothesis: true mean is not equal to 0\n",
              "90 percent confidence interval:\n",
              " -0.9365569 -0.2801098\n",
              "sample estimates:\n",
              " mean of x \n",
              "-0.6083333 \n"
            ]
          },
          "metadata": {}
        }
      ]
    },
    {
      "cell_type": "code",
      "source": [
        "# Elegxoi upo8esns m0=0\n",
        "###############################\n",
        "\n",
        "t.test(x)\n",
        "t.test(x,alternative=\"greater\")\n",
        "t.test(x,alternative=\"less\")\n",
        "\n",
        "m0<-0\n",
        "t<-(Mx-m0)/S*sqrt(n)\n",
        "pvalue.ne<-2*min(pt(t,n-1),1-pt(t,n-1))\n",
        "pvalue.g<-1-pt(t,n-1)\n",
        "pvalue.l<-pt(t,n-1)\n",
        "round(c(t,n-1,pvalue.ne,pvalue.g,pvalue.l),4)"
      ],
      "metadata": {
        "colab": {
          "base_uri": "https://localhost:8080/",
          "height": 607
        },
        "id": "jxjoZ_03EC8X",
        "outputId": "83de4f83-f0f1-4fd1-f389-825e32d63bc4"
      },
      "execution_count": 6,
      "outputs": [
        {
          "output_type": "display_data",
          "data": {
            "text/plain": [
              "\n",
              "\tOne Sample t-test\n",
              "\n",
              "data:  x\n",
              "t = -3.3285, df = 11, p-value = 0.006729\n",
              "alternative hypothesis: true mean is not equal to 0\n",
              "95 percent confidence interval:\n",
              " -1.0105948 -0.2060719\n",
              "sample estimates:\n",
              " mean of x \n",
              "-0.6083333 \n"
            ]
          },
          "metadata": {}
        },
        {
          "output_type": "display_data",
          "data": {
            "text/plain": [
              "\n",
              "\tOne Sample t-test\n",
              "\n",
              "data:  x\n",
              "t = -3.3285, df = 11, p-value = 0.9966\n",
              "alternative hypothesis: true mean is greater than 0\n",
              "95 percent confidence interval:\n",
              " -0.9365569        Inf\n",
              "sample estimates:\n",
              " mean of x \n",
              "-0.6083333 \n"
            ]
          },
          "metadata": {}
        },
        {
          "output_type": "display_data",
          "data": {
            "text/plain": [
              "\n",
              "\tOne Sample t-test\n",
              "\n",
              "data:  x\n",
              "t = -3.3285, df = 11, p-value = 0.003364\n",
              "alternative hypothesis: true mean is less than 0\n",
              "95 percent confidence interval:\n",
              "       -Inf -0.2801098\n",
              "sample estimates:\n",
              " mean of x \n",
              "-0.6083333 \n"
            ]
          },
          "metadata": {}
        },
        {
          "output_type": "display_data",
          "data": {
            "text/html": [
              "<style>\n",
              ".list-inline {list-style: none; margin:0; padding: 0}\n",
              ".list-inline>li {display: inline-block}\n",
              ".list-inline>li:not(:last-child)::after {content: \"\\00b7\"; padding: 0 .5ex}\n",
              "</style>\n",
              "<ol class=list-inline><li>-3.3285</li><li>11</li><li>0.0067</li><li>0.9966</li><li>0.0034</li></ol>\n"
            ],
            "text/markdown": "1. -3.3285\n2. 11\n3. 0.0067\n4. 0.9966\n5. 0.0034\n\n\n",
            "text/latex": "\\begin{enumerate*}\n\\item -3.3285\n\\item 11\n\\item 0.0067\n\\item 0.9966\n\\item 0.0034\n\\end{enumerate*}\n",
            "text/plain": [
              "[1] -3.3285 11.0000  0.0067  0.9966  0.0034"
            ]
          },
          "metadata": {}
        }
      ]
    },
    {
      "cell_type": "code",
      "source": [
        "# Elegxoi upo8esns m0=-0.8\n",
        "###############################\n",
        "\n",
        "m0<--0.8\n",
        "t<-(Mx-m0)/S*sqrt(n)\n",
        "pvalue.ne<-2*min(pt(t,n-1),1-pt(t,n-1))\n",
        "pvalue.g<-1-pt(t,n-1)\n",
        "pvalue.l<-pt(t,n-1)\n",
        "round(c(t,n-1,pvalue.ne,pvalue.g,pvalue.l),4)\n",
        "\n",
        "t.test(x,mu=m0)\n",
        "t.test(x,mu=m0,alternative=\"greater\")\n",
        "t.test(x,mu=m0,alternative=\"less\")\n",
        "\n",
        "t.test(x,mu=m0,conf.level=0.9)\n",
        "t.test(x,mu=m0,conf.level=0.7)\n",
        "t.test(x,mu=m0,conf.level=1-0.3168)"
      ],
      "metadata": {
        "colab": {
          "base_uri": "https://localhost:8080/",
          "height": 1000
        },
        "id": "va8Y98mnEFyr",
        "outputId": "21043b5a-8687-4fae-a426-dbfb0a842022"
      },
      "execution_count": 7,
      "outputs": [
        {
          "output_type": "display_data",
          "data": {
            "text/html": [
              "<style>\n",
              ".list-inline {list-style: none; margin:0; padding: 0}\n",
              ".list-inline>li {display: inline-block}\n",
              ".list-inline>li:not(:last-child)::after {content: \"\\00b7\"; padding: 0 .5ex}\n",
              "</style>\n",
              "<ol class=list-inline><li>1.0487</li><li>11</li><li>0.3168</li><li>0.1584</li><li>0.8416</li></ol>\n"
            ],
            "text/markdown": "1. 1.0487\n2. 11\n3. 0.3168\n4. 0.1584\n5. 0.8416\n\n\n",
            "text/latex": "\\begin{enumerate*}\n\\item 1.0487\n\\item 11\n\\item 0.3168\n\\item 0.1584\n\\item 0.8416\n\\end{enumerate*}\n",
            "text/plain": [
              "[1]  1.0487 11.0000  0.3168  0.1584  0.8416"
            ]
          },
          "metadata": {}
        },
        {
          "output_type": "display_data",
          "data": {
            "text/plain": [
              "\n",
              "\tOne Sample t-test\n",
              "\n",
              "data:  x\n",
              "t = 1.0487, df = 11, p-value = 0.3168\n",
              "alternative hypothesis: true mean is not equal to -0.8\n",
              "95 percent confidence interval:\n",
              " -1.0105948 -0.2060719\n",
              "sample estimates:\n",
              " mean of x \n",
              "-0.6083333 \n"
            ]
          },
          "metadata": {}
        },
        {
          "output_type": "display_data",
          "data": {
            "text/plain": [
              "\n",
              "\tOne Sample t-test\n",
              "\n",
              "data:  x\n",
              "t = 1.0487, df = 11, p-value = 0.1584\n",
              "alternative hypothesis: true mean is greater than -0.8\n",
              "95 percent confidence interval:\n",
              " -0.9365569        Inf\n",
              "sample estimates:\n",
              " mean of x \n",
              "-0.6083333 \n"
            ]
          },
          "metadata": {}
        },
        {
          "output_type": "display_data",
          "data": {
            "text/plain": [
              "\n",
              "\tOne Sample t-test\n",
              "\n",
              "data:  x\n",
              "t = 1.0487, df = 11, p-value = 0.8416\n",
              "alternative hypothesis: true mean is less than -0.8\n",
              "95 percent confidence interval:\n",
              "       -Inf -0.2801098\n",
              "sample estimates:\n",
              " mean of x \n",
              "-0.6083333 \n"
            ]
          },
          "metadata": {}
        },
        {
          "output_type": "display_data",
          "data": {
            "text/plain": [
              "\n",
              "\tOne Sample t-test\n",
              "\n",
              "data:  x\n",
              "t = 1.0487, df = 11, p-value = 0.3168\n",
              "alternative hypothesis: true mean is not equal to -0.8\n",
              "90 percent confidence interval:\n",
              " -0.9365569 -0.2801098\n",
              "sample estimates:\n",
              " mean of x \n",
              "-0.6083333 \n"
            ]
          },
          "metadata": {}
        },
        {
          "output_type": "display_data",
          "data": {
            "text/plain": [
              "\n",
              "\tOne Sample t-test\n",
              "\n",
              "data:  x\n",
              "t = 1.0487, df = 11, p-value = 0.3168\n",
              "alternative hypothesis: true mean is not equal to -0.8\n",
              "70 percent confidence interval:\n",
              " -0.8071199 -0.4095468\n",
              "sample estimates:\n",
              " mean of x \n",
              "-0.6083333 \n"
            ]
          },
          "metadata": {}
        },
        {
          "output_type": "display_data",
          "data": {
            "text/plain": [
              "\n",
              "\tOne Sample t-test\n",
              "\n",
              "data:  x\n",
              "t = 1.0487, df = 11, p-value = 0.3168\n",
              "alternative hypothesis: true mean is not equal to -0.8\n",
              "68.32 percent confidence interval:\n",
              " -0.8000030 -0.4166636\n",
              "sample estimates:\n",
              " mean of x \n",
              "-0.6083333 \n"
            ]
          },
          "metadata": {}
        }
      ]
    },
    {
      "cell_type": "code",
      "source": [
        "#  N(m,s^2) Confidence Interval for s^2, m unknown\n",
        "#\n",
        "\n",
        "#############################################################################\n",
        "\n",
        "x<-c(\n",
        "-1.26, -2.05,  3.77,  3.88, -2.24,  0.13, -2.47,  0.18,  4.90, -1.76)\n",
        "\n",
        "\n",
        "n<-length(x)\n",
        "S2<-var(x)\n",
        "a<-0.05\n",
        "c(S2*(n-1)/qchisq(1-a/2,n-1),S2*(n-1)/qchisq(a/2,n-1))\n",
        "cat(\"n=\",n,\"Mx=\",Mx,\"S^2=\",S2,\"\\n\")\n",
        "for (a in c(0.05,0.1,0.2)){\n",
        "cat(\"s.e. 1-a=\",1-a,\"  X^2\",n-1,\"(\",1-a/2,\")=\",round(qchisq(a/2,n-1),3),\n",
        "\t\"  X^2\",n-1,\"(\",a/2,\")=\",round(qchisq(1-a/2,n-1),3),\n",
        "\t\"  [\",round(S2*(n-1)/qchisq(1-a/2,n-1),4),\",\",\n",
        "round(S2*(n-1)/qchisq(a/2,n-1),4),\"]\",\"\\n\")\n",
        "}"
      ],
      "metadata": {
        "colab": {
          "base_uri": "https://localhost:8080/",
          "height": 104
        },
        "id": "CXh1EjzzEJiz",
        "outputId": "ea6afe54-9357-4708-eee4-fa2ed51a4d34"
      },
      "execution_count": 9,
      "outputs": [
        {
          "output_type": "display_data",
          "data": {
            "text/html": [
              "<style>\n",
              ".list-inline {list-style: none; margin:0; padding: 0}\n",
              ".list-inline>li {display: inline-block}\n",
              ".list-inline>li:not(:last-child)::after {content: \"\\00b7\"; padding: 0 .5ex}\n",
              "</style>\n",
              "<ol class=list-inline><li>3.80513292104468</li><li>26.8050812671752</li></ol>\n"
            ],
            "text/markdown": "1. 3.80513292104468\n2. 26.8050812671752\n\n\n",
            "text/latex": "\\begin{enumerate*}\n\\item 3.80513292104468\n\\item 26.8050812671752\n\\end{enumerate*}\n",
            "text/plain": [
              "[1]  3.805133 26.805081"
            ]
          },
          "metadata": {}
        },
        {
          "output_type": "stream",
          "name": "stdout",
          "text": [
            "n= 10 Mx= -0.6083333 S^2= 8.042684 \n",
            "s.e. 1-a= 0.95   X^2 9 ( 0.975 )= 2.7   X^2 9 ( 0.025 )= 19.023   [ 3.8051 , 26.8051 ] \n",
            "s.e. 1-a= 0.9   X^2 9 ( 0.95 )= 3.325   X^2 9 ( 0.05 )= 16.919   [ 4.2783 , 21.7689 ] \n",
            "s.e. 1-a= 0.8   X^2 9 ( 0.9 )= 4.168   X^2 9 ( 0.1 )= 14.684   [ 4.9296 , 17.366 ] \n"
          ]
        }
      ]
    },
    {
      "cell_type": "code",
      "source": [
        "#  Asymptotic Confidence Interval for p (percentage)\n",
        "#\n",
        "\n",
        "# METHOD A\n",
        "a<-0.05\n",
        "n<-500\n",
        "p<-311/n\n",
        "c(p+qnorm(a/2)*sqrt(p*(1-p)/n),p+qnorm(1-a/2)*sqrt(p*(1-p)/n))\n",
        "\n",
        "\n",
        "# METHOD B\n",
        "prop.test(311,500); prop.test(311,500,correct = FALSE)\n",
        "\n",
        "# METHOD C\n",
        "binom.test(311,500)\n",
        "\n",
        "a<-0.10\n",
        "\n",
        "prop.test(311,500,conf.level= 1-a);\n",
        "prop.test(311,500,conf.level= 1-a,correct = FALSE);\n",
        "binom.test(311,500,conf.level= 1-a)"
      ],
      "metadata": {
        "colab": {
          "base_uri": "https://localhost:8080/",
          "height": 1000
        },
        "id": "uK6wo7scEM1q",
        "outputId": "aa4108a9-89b3-4b53-a305-1290d9dec13a"
      },
      "execution_count": 10,
      "outputs": [
        {
          "output_type": "display_data",
          "data": {
            "text/html": [
              "<style>\n",
              ".list-inline {list-style: none; margin:0; padding: 0}\n",
              ".list-inline>li {display: inline-block}\n",
              ".list-inline>li:not(:last-child)::after {content: \"\\00b7\"; padding: 0 .5ex}\n",
              "</style>\n",
              "<ol class=list-inline><li>0.579498507506528</li><li>0.664501492493472</li></ol>\n"
            ],
            "text/markdown": "1. 0.579498507506528\n2. 0.664501492493472\n\n\n",
            "text/latex": "\\begin{enumerate*}\n\\item 0.579498507506528\n\\item 0.664501492493472\n\\end{enumerate*}\n",
            "text/plain": [
              "[1] 0.5794985 0.6645015"
            ]
          },
          "metadata": {}
        },
        {
          "output_type": "display_data",
          "data": {
            "text/plain": [
              "\n",
              "\t1-sample proportions test with continuity correction\n",
              "\n",
              "data:  311 out of 500, null probability 0.5\n",
              "X-squared = 29.282, df = 1, p-value = 6.257e-08\n",
              "alternative hypothesis: true p is not equal to 0.5\n",
              "95 percent confidence interval:\n",
              " 0.5777064 0.6643897\n",
              "sample estimates:\n",
              "    p \n",
              "0.622 \n"
            ]
          },
          "metadata": {}
        },
        {
          "output_type": "display_data",
          "data": {
            "text/plain": [
              "\n",
              "\t1-sample proportions test without continuity correction\n",
              "\n",
              "data:  311 out of 500, null probability 0.5\n",
              "X-squared = 29.768, df = 1, p-value = 4.87e-08\n",
              "alternative hypothesis: true p is not equal to 0.5\n",
              "95 percent confidence interval:\n",
              " 0.5787205 0.6634192\n",
              "sample estimates:\n",
              "    p \n",
              "0.622 \n"
            ]
          },
          "metadata": {}
        },
        {
          "output_type": "display_data",
          "data": {
            "text/plain": [
              "\n",
              "\tExact binomial test\n",
              "\n",
              "data:  311 and 500\n",
              "number of successes = 311, number of trials = 500, p-value = 5.408e-08\n",
              "alternative hypothesis: true probability of success is not equal to 0.5\n",
              "95 percent confidence interval:\n",
              " 0.5778777 0.6646706\n",
              "sample estimates:\n",
              "probability of success \n",
              "                 0.622 \n"
            ]
          },
          "metadata": {}
        },
        {
          "output_type": "display_data",
          "data": {
            "text/plain": [
              "\n",
              "\t1-sample proportions test with continuity correction\n",
              "\n",
              "data:  311 out of 500, null probability 0.5\n",
              "X-squared = 29.282, df = 1, p-value = 6.257e-08\n",
              "alternative hypothesis: true p is not equal to 0.5\n",
              "90 percent confidence interval:\n",
              " 0.5847522 0.6578979\n",
              "sample estimates:\n",
              "    p \n",
              "0.622 \n"
            ]
          },
          "metadata": {}
        },
        {
          "output_type": "display_data",
          "data": {
            "text/plain": [
              "\n",
              "\t1-sample proportions test without continuity correction\n",
              "\n",
              "data:  311 out of 500, null probability 0.5\n",
              "X-squared = 29.768, df = 1, p-value = 4.87e-08\n",
              "alternative hypothesis: true p is not equal to 0.5\n",
              "90 percent confidence interval:\n",
              " 0.5857651 0.6569217\n",
              "sample estimates:\n",
              "    p \n",
              "0.622 \n"
            ]
          },
          "metadata": {}
        },
        {
          "output_type": "display_data",
          "data": {
            "text/plain": [
              "\n",
              "\tExact binomial test\n",
              "\n",
              "data:  311 and 500\n",
              "number of successes = 311, number of trials = 500, p-value = 5.408e-08\n",
              "alternative hypothesis: true probability of success is not equal to 0.5\n",
              "90 percent confidence interval:\n",
              " 0.5848610 0.6580619\n",
              "sample estimates:\n",
              "probability of success \n",
              "                 0.622 \n"
            ]
          },
          "metadata": {}
        }
      ]
    },
    {
      "cell_type": "code",
      "source": [
        "#\n",
        "# test for percentage\n",
        "#\n",
        "#\n",
        "\n",
        "a<-0.05\n",
        "n<-700\n",
        "x<-400\n",
        "p<-x/n\n",
        "p0<-0.6\n",
        "\n",
        "# METHOD A\n",
        "#z1<-(p-p0)/sqrt(p*(1-p)/n)\n",
        "z<-(p-p0)/sqrt(p0*(1-p0)/n)\n",
        "c(abs(z)<qnorm(1-a/2),z<qnorm(1-a),z>qnorm(a))\n",
        "\n",
        "pvalue.ne<-2*min(pnorm(z),1-pnorm(z))\n",
        "pvalue.g<-1-pnorm(z); pvalue.l<-pnorm(z)\n",
        "cat(p,z,\"z a/2=\",qnorm(1-a/2),\"z a=\",qnorm(1-a),\"-z a=\",qnorm(a),\"\\n\");\n",
        "cat(pvalue.ne,pvalue.g,pvalue.l,\"\\n\")\n",
        "\n",
        "\n",
        "# METHOD B\n",
        "prop.test(x,n,p0); prop.test(x,n,p0,correct = FALSE)\n",
        "\n",
        "# METHOD C\n",
        "binom.test(x,n,p=p0,conf.level= 0.80)\n",
        "\n",
        "binom.test(400,700,p=0.6,alternative=\"greater\",conf.level= 0.90)\n",
        "binom.test(400,700,p=0.6,alternative=\"less\",conf.level= 0.90)"
      ],
      "metadata": {
        "colab": {
          "base_uri": "https://localhost:8080/",
          "height": 1000
        },
        "id": "d-3jSRwTEgnu",
        "outputId": "9260166f-cdfb-4b01-fc8e-a0353404077f"
      },
      "execution_count": 11,
      "outputs": [
        {
          "output_type": "display_data",
          "data": {
            "text/html": [
              "<style>\n",
              ".list-inline {list-style: none; margin:0; padding: 0}\n",
              ".list-inline>li {display: inline-block}\n",
              ".list-inline>li:not(:last-child)::after {content: \"\\00b7\"; padding: 0 .5ex}\n",
              "</style>\n",
              "<ol class=list-inline><li>TRUE</li><li>TRUE</li><li>TRUE</li></ol>\n"
            ],
            "text/markdown": "1. TRUE\n2. TRUE\n3. TRUE\n\n\n",
            "text/latex": "\\begin{enumerate*}\n\\item TRUE\n\\item TRUE\n\\item TRUE\n\\end{enumerate*}\n",
            "text/plain": [
              "[1] TRUE TRUE TRUE"
            ]
          },
          "metadata": {}
        },
        {
          "output_type": "stream",
          "name": "stdout",
          "text": [
            "0.5714286 -1.543033 z a/2= 1.959964 z a= 1.644854 -z a= -1.644854 \n",
            "0.1228226 0.9385887 0.06141132 \n"
          ]
        },
        {
          "output_type": "display_data",
          "data": {
            "text/plain": [
              "\n",
              "\t1-sample proportions test with continuity correction\n",
              "\n",
              "data:  x out of n, null probability p0\n",
              "X-squared = 2.2634, df = 1, p-value = 0.1325\n",
              "alternative hypothesis: true p is not equal to 0.6\n",
              "95 percent confidence interval:\n",
              " 0.5337590 0.6083033\n",
              "sample estimates:\n",
              "        p \n",
              "0.5714286 \n"
            ]
          },
          "metadata": {}
        },
        {
          "output_type": "display_data",
          "data": {
            "text/plain": [
              "\n",
              "\t1-sample proportions test without continuity correction\n",
              "\n",
              "data:  x out of n, null probability p0\n",
              "X-squared = 2.381, df = 1, p-value = 0.1228\n",
              "alternative hypothesis: true p is not equal to 0.6\n",
              "95 percent confidence interval:\n",
              " 0.5344769 0.6076006\n",
              "sample estimates:\n",
              "        p \n",
              "0.5714286 \n"
            ]
          },
          "metadata": {}
        },
        {
          "output_type": "display_data",
          "data": {
            "text/plain": [
              "\n",
              "\tExact binomial test\n",
              "\n",
              "data:  x and n\n",
              "number of successes = 400, number of trials = 700, p-value = 0.123\n",
              "alternative hypothesis: true probability of success is not equal to 0.6\n",
              "80 percent confidence interval:\n",
              " 0.5466169 0.5959392\n",
              "sample estimates:\n",
              "probability of success \n",
              "             0.5714286 \n"
            ]
          },
          "metadata": {}
        },
        {
          "output_type": "display_data",
          "data": {
            "text/plain": [
              "\n",
              "\tExact binomial test\n",
              "\n",
              "data:  400 and 700\n",
              "number of successes = 400, number of trials = 700, p-value = 0.9427\n",
              "alternative hypothesis: true probability of success is greater than 0.6\n",
              "90 percent confidence interval:\n",
              " 0.5466169 1.0000000\n",
              "sample estimates:\n",
              "probability of success \n",
              "             0.5714286 \n"
            ]
          },
          "metadata": {}
        },
        {
          "output_type": "display_data",
          "data": {
            "text/plain": [
              "\n",
              "\tExact binomial test\n",
              "\n",
              "data:  400 and 700\n",
              "number of successes = 400, number of trials = 700, p-value = 0.06662\n",
              "alternative hypothesis: true probability of success is less than 0.6\n",
              "90 percent confidence interval:\n",
              " 0.0000000 0.5959392\n",
              "sample estimates:\n",
              "probability of success \n",
              "             0.5714286 \n"
            ]
          },
          "metadata": {}
        }
      ]
    },
    {
      "cell_type": "code",
      "source": [
        "a<-0.1\n",
        "p0<-0.6\n",
        "z<-(p-p0)/sqrt(p0*(1-p0)/n)\n",
        "c(abs(z)<qnorm(1-a/2),z<qnorm(1-a),z>qnorm(a))\n",
        "\n",
        "prop.test(x,n,p=p0,conf.level= 1-a);\n",
        "prop.test(x,n,p=p0,alternative=\"greater\",conf.level= 1-a);\n",
        "prop.test(x,n,p=p0,alternative=\"less\",conf.level= 1-a)\n",
        "binom.test(x,n,p=p0,conf.level= 1-a);\n",
        "binom.test(x,n,p=p0,alternative=\"greater\",conf.level= 1-a)\n",
        "binom.test(x,n,p=p0,alternative=\"less\",conf.level= 1-a)"
      ],
      "metadata": {
        "colab": {
          "base_uri": "https://localhost:8080/",
          "height": 1000
        },
        "id": "iIzoHl93EkLL",
        "outputId": "0b8dcced-514a-400f-ea3f-40a2070d56a3"
      },
      "execution_count": 12,
      "outputs": [
        {
          "output_type": "display_data",
          "data": {
            "text/html": [
              "<style>\n",
              ".list-inline {list-style: none; margin:0; padding: 0}\n",
              ".list-inline>li {display: inline-block}\n",
              ".list-inline>li:not(:last-child)::after {content: \"\\00b7\"; padding: 0 .5ex}\n",
              "</style>\n",
              "<ol class=list-inline><li>TRUE</li><li>TRUE</li><li>FALSE</li></ol>\n"
            ],
            "text/markdown": "1. TRUE\n2. TRUE\n3. FALSE\n\n\n",
            "text/latex": "\\begin{enumerate*}\n\\item TRUE\n\\item TRUE\n\\item FALSE\n\\end{enumerate*}\n",
            "text/plain": [
              "[1]  TRUE  TRUE FALSE"
            ]
          },
          "metadata": {}
        },
        {
          "output_type": "display_data",
          "data": {
            "text/plain": [
              "\n",
              "\t1-sample proportions test with continuity correction\n",
              "\n",
              "data:  x out of n, null probability p0\n",
              "X-squared = 2.2634, df = 1, p-value = 0.1325\n",
              "alternative hypothesis: true p is not equal to 0.6\n",
              "90 percent confidence interval:\n",
              " 0.5397278 0.6025666\n",
              "sample estimates:\n",
              "        p \n",
              "0.5714286 \n"
            ]
          },
          "metadata": {}
        },
        {
          "output_type": "display_data",
          "data": {
            "text/plain": [
              "\n",
              "\t1-sample proportions test with continuity correction\n",
              "\n",
              "data:  x out of n, null probability p0\n",
              "X-squared = 2.2634, df = 1, p-value = 0.9338\n",
              "alternative hypothesis: true p is greater than 0.6\n",
              "90 percent confidence interval:\n",
              " 0.5466007 1.0000000\n",
              "sample estimates:\n",
              "        p \n",
              "0.5714286 \n"
            ]
          },
          "metadata": {}
        },
        {
          "output_type": "display_data",
          "data": {
            "text/plain": [
              "\n",
              "\t1-sample proportions test with continuity correction\n",
              "\n",
              "data:  x out of n, null probability p0\n",
              "X-squared = 2.2634, df = 1, p-value = 0.06623\n",
              "alternative hypothesis: true p is less than 0.6\n",
              "90 percent confidence interval:\n",
              " 0.0000000 0.5959121\n",
              "sample estimates:\n",
              "        p \n",
              "0.5714286 \n"
            ]
          },
          "metadata": {}
        },
        {
          "output_type": "display_data",
          "data": {
            "text/plain": [
              "\n",
              "\tExact binomial test\n",
              "\n",
              "data:  x and n\n",
              "number of successes = 400, number of trials = 700, p-value = 0.123\n",
              "alternative hypothesis: true probability of success is not equal to 0.6\n",
              "90 percent confidence interval:\n",
              " 0.5397666 0.6026424\n",
              "sample estimates:\n",
              "probability of success \n",
              "             0.5714286 \n"
            ]
          },
          "metadata": {}
        },
        {
          "output_type": "display_data",
          "data": {
            "text/plain": [
              "\n",
              "\tExact binomial test\n",
              "\n",
              "data:  x and n\n",
              "number of successes = 400, number of trials = 700, p-value = 0.9427\n",
              "alternative hypothesis: true probability of success is greater than 0.6\n",
              "90 percent confidence interval:\n",
              " 0.5466169 1.0000000\n",
              "sample estimates:\n",
              "probability of success \n",
              "             0.5714286 \n"
            ]
          },
          "metadata": {}
        },
        {
          "output_type": "display_data",
          "data": {
            "text/plain": [
              "\n",
              "\tExact binomial test\n",
              "\n",
              "data:  x and n\n",
              "number of successes = 400, number of trials = 700, p-value = 0.06662\n",
              "alternative hypothesis: true probability of success is less than 0.6\n",
              "90 percent confidence interval:\n",
              " 0.0000000 0.5959392\n",
              "sample estimates:\n",
              "probability of success \n",
              "             0.5714286 \n"
            ]
          },
          "metadata": {}
        }
      ]
    },
    {
      "cell_type": "code",
      "source": [
        "#\n",
        "#Conf Interval for the difference of means\n",
        "#\n",
        "CityCost<-c(\n",
        "13, 21, 22, 22, 24, 25, 26, 26, 26, 26,\n",
        "30, 32, 33, 34, 34, 35, 35, 35, 35, 36,\n",
        "37, 37, 39, 39, 39, 40, 41, 41, 41, 42,\n",
        "43, 44, 45, 46, 50, 50, 51, 51, 53, 53,\n",
        "53, 55, 57, 61, 62, 62, 62, 66, 68, 75)\n",
        "\n",
        "SuburbanCost<-c(\n",
        "21, 22, 25, 25, 26, 26, 27, 27, 28, 28,\n",
        "28, 29, 31, 32, 32, 35, 35, 36, 37, 37,\n",
        "37, 38, 38, 38, 39, 40, 40, 41, 41, 41,\n",
        "42, 42, 43, 44, 47, 47, 47, 48, 50, 50)\n",
        "\n",
        "x<-CityCost\n",
        "y<-SuburbanCost\n",
        "n<-length(x)\n",
        "m<-length(y)\n",
        "a<-0.1\n",
        "\n",
        "# METHOD B    # ises diaspores\n",
        "t.test(x,y,var.equal=T)\n",
        "\n",
        "# avises diaspores\n",
        "t.test(x,y)\n",
        "\n",
        "a<-0.1\n",
        "t.test(x,y,var.equal=T,conf.level= 1-a)\n",
        "t.test(x,y,conf.level= 1-a)"
      ],
      "metadata": {
        "colab": {
          "base_uri": "https://localhost:8080/",
          "height": 781
        },
        "id": "_8daTCrREn6Z",
        "outputId": "fb47de3e-f005-49a3-8757-27fd513ae733"
      },
      "execution_count": 13,
      "outputs": [
        {
          "output_type": "display_data",
          "data": {
            "text/plain": [
              "\n",
              "\tTwo Sample t-test\n",
              "\n",
              "data:  x and y\n",
              "t = 2.2048, df = 88, p-value = 0.03007\n",
              "alternative hypothesis: true difference in means is not equal to 0\n",
              "95 percent confidence interval:\n",
              "  0.5387032 10.3812968\n",
              "sample estimates:\n",
              "mean of x mean of y \n",
              "    41.46     36.00 \n"
            ]
          },
          "metadata": {}
        },
        {
          "output_type": "display_data",
          "data": {
            "text/plain": [
              "\n",
              "\tWelch Two Sample t-test\n",
              "\n",
              "data:  x and y\n",
              "t = 2.331, df = 80.967, p-value = 0.02224\n",
              "alternative hypothesis: true difference in means is not equal to 0\n",
              "95 percent confidence interval:\n",
              "  0.7995432 10.1204568\n",
              "sample estimates:\n",
              "mean of x mean of y \n",
              "    41.46     36.00 \n"
            ]
          },
          "metadata": {}
        },
        {
          "output_type": "display_data",
          "data": {
            "text/plain": [
              "\n",
              "\tTwo Sample t-test\n",
              "\n",
              "data:  x and y\n",
              "t = 2.2048, df = 88, p-value = 0.03007\n",
              "alternative hypothesis: true difference in means is not equal to 0\n",
              "90 percent confidence interval:\n",
              " 1.34337 9.57663\n",
              "sample estimates:\n",
              "mean of x mean of y \n",
              "    41.46     36.00 \n"
            ]
          },
          "metadata": {}
        },
        {
          "output_type": "display_data",
          "data": {
            "text/plain": [
              "\n",
              "\tWelch Two Sample t-test\n",
              "\n",
              "data:  x and y\n",
              "t = 2.331, df = 80.967, p-value = 0.02224\n",
              "alternative hypothesis: true difference in means is not equal to 0\n",
              "90 percent confidence interval:\n",
              " 1.562678 9.357322\n",
              "sample estimates:\n",
              "mean of x mean of y \n",
              "    41.46     36.00 \n"
            ]
          },
          "metadata": {}
        }
      ]
    },
    {
      "cell_type": "code",
      "source": [
        "#\n",
        "#test for the difference of means\n",
        "#\n",
        "\n",
        "m0<-3\n",
        "t.test(x,y,mu=m0,var.equal=T)\n",
        "t.test(x,y,mu=m0)\n",
        "\n",
        "x<-CityCost\n",
        "y<-SuburbanCost\n",
        "a<-0.01\n",
        "var.test(x,y,conf.level= 1-a)\n",
        "a<-0.2\n",
        "d0<-2\n",
        "var.test(x,y,ratio=d0,conf.level= 1-a)\n",
        "\n",
        "\n",
        "#\n",
        "# paired test\n",
        "#\n",
        "AnalystA<-c(1.60, 1.74, 1.72, 1.85, 1.76, 1.72, 1.78)\n",
        "AnalystB<-c(1.72, 1.75, 1.55, 1.67, 2.05, 1.51, 1.70)\n",
        "x<-AnalystA\n",
        "y<-AnalystB\n",
        "\n",
        "\n",
        "t.test(x,y,paired=T)\n",
        "d<-0\n",
        "t.test(x,y,mu=d,alternative=\"greater\",paired=T)\n",
        "t.test(x,y,mu=d,alternative=\"less\",paired=T)\n",
        "\n",
        "d<-0.3\n",
        "t.test(x,y,mu=d,paired=T)\n",
        "t.test(x,y,mu=d,alternative=\"greater\",paired=T)\n",
        "t.test(x,y,mu=d,alternative=\"less\",paired=T)"
      ],
      "metadata": {
        "colab": {
          "base_uri": "https://localhost:8080/",
          "height": 1000
        },
        "id": "66_ecuvhEwsE",
        "outputId": "ec481227-c624-4b22-e1f7-aecf20ff9abc"
      },
      "execution_count": 14,
      "outputs": [
        {
          "output_type": "display_data",
          "data": {
            "text/plain": [
              "\n",
              "\tTwo Sample t-test\n",
              "\n",
              "data:  x and y\n",
              "t = 0.99338, df = 88, p-value = 0.3232\n",
              "alternative hypothesis: true difference in means is not equal to 3\n",
              "95 percent confidence interval:\n",
              "  0.5387032 10.3812968\n",
              "sample estimates:\n",
              "mean of x mean of y \n",
              "    41.46     36.00 \n"
            ]
          },
          "metadata": {}
        },
        {
          "output_type": "display_data",
          "data": {
            "text/plain": [
              "\n",
              "\tWelch Two Sample t-test\n",
              "\n",
              "data:  x and y\n",
              "t = 1.0503, df = 80.967, p-value = 0.2967\n",
              "alternative hypothesis: true difference in means is not equal to 3\n",
              "95 percent confidence interval:\n",
              "  0.7995432 10.1204568\n",
              "sample estimates:\n",
              "mean of x mean of y \n",
              "    41.46     36.00 \n"
            ]
          },
          "metadata": {}
        },
        {
          "output_type": "display_data",
          "data": {
            "text/plain": [
              "\n",
              "\tF test to compare two variances\n",
              "\n",
              "data:  x and y\n",
              "F = 2.962, num df = 49, denom df = 39, p-value = 0.0006743\n",
              "alternative hypothesis: true ratio of variances is not equal to 1\n",
              "99 percent confidence interval:\n",
              " 1.315084 6.467398\n",
              "sample estimates:\n",
              "ratio of variances \n",
              "          2.961951 \n"
            ]
          },
          "metadata": {}
        },
        {
          "output_type": "display_data",
          "data": {
            "text/plain": [
              "\n",
              "\tF test to compare two variances\n",
              "\n",
              "data:  x and y\n",
              "F = 1.481, num df = 49, denom df = 39, p-value = 0.2071\n",
              "alternative hypothesis: true ratio of variances is not equal to 2\n",
              "80 percent confidence interval:\n",
              " 1.987631 4.357250\n",
              "sample estimates:\n",
              "ratio of variances \n",
              "          2.961951 \n"
            ]
          },
          "metadata": {}
        },
        {
          "output_type": "display_data",
          "data": {
            "text/plain": [
              "\n",
              "\tPaired t-test\n",
              "\n",
              "data:  x and y\n",
              "t = 0.45153, df = 6, p-value = 0.6675\n",
              "alternative hypothesis: true mean difference is not equal to 0\n",
              "95 percent confidence interval:\n",
              " -0.1388895  0.2017466\n",
              "sample estimates:\n",
              "mean difference \n",
              "     0.03142857 \n"
            ]
          },
          "metadata": {}
        },
        {
          "output_type": "display_data",
          "data": {
            "text/plain": [
              "\n",
              "\tPaired t-test\n",
              "\n",
              "data:  x and y\n",
              "t = 0.45153, df = 6, p-value = 0.3337\n",
              "alternative hypothesis: true mean difference is greater than 0\n",
              "95 percent confidence interval:\n",
              " -0.1038271        Inf\n",
              "sample estimates:\n",
              "mean difference \n",
              "     0.03142857 \n"
            ]
          },
          "metadata": {}
        },
        {
          "output_type": "display_data",
          "data": {
            "text/plain": [
              "\n",
              "\tPaired t-test\n",
              "\n",
              "data:  x and y\n",
              "t = 0.45153, df = 6, p-value = 0.6663\n",
              "alternative hypothesis: true mean difference is less than 0\n",
              "95 percent confidence interval:\n",
              "      -Inf 0.1666842\n",
              "sample estimates:\n",
              "mean difference \n",
              "     0.03142857 \n"
            ]
          },
          "metadata": {}
        },
        {
          "output_type": "display_data",
          "data": {
            "text/plain": [
              "\n",
              "\tPaired t-test\n",
              "\n",
              "data:  x and y\n",
              "t = -3.8585, df = 6, p-value = 0.008377\n",
              "alternative hypothesis: true mean difference is not equal to 0.3\n",
              "95 percent confidence interval:\n",
              " -0.1388895  0.2017466\n",
              "sample estimates:\n",
              "mean difference \n",
              "     0.03142857 \n"
            ]
          },
          "metadata": {}
        },
        {
          "output_type": "display_data",
          "data": {
            "text/plain": [
              "\n",
              "\tPaired t-test\n",
              "\n",
              "data:  x and y\n",
              "t = -3.8585, df = 6, p-value = 0.9958\n",
              "alternative hypothesis: true mean difference is greater than 0.3\n",
              "95 percent confidence interval:\n",
              " -0.1038271        Inf\n",
              "sample estimates:\n",
              "mean difference \n",
              "     0.03142857 \n"
            ]
          },
          "metadata": {}
        },
        {
          "output_type": "display_data",
          "data": {
            "text/plain": [
              "\n",
              "\tPaired t-test\n",
              "\n",
              "data:  x and y\n",
              "t = -3.8585, df = 6, p-value = 0.004188\n",
              "alternative hypothesis: true mean difference is less than 0.3\n",
              "95 percent confidence interval:\n",
              "      -Inf 0.1666842\n",
              "sample estimates:\n",
              "mean difference \n",
              "     0.03142857 \n"
            ]
          },
          "metadata": {}
        }
      ]
    },
    {
      "cell_type": "code",
      "source": [
        "#\n",
        "#  difference of proportions\n",
        "\n",
        "A<- c(6,120-6)\n",
        "B<- c( 5,80-5)\n",
        "rbind(A,B)\n",
        "prop.test(rbind(A,B),alternative=\"greater\")"
      ],
      "metadata": {
        "colab": {
          "base_uri": "https://localhost:8080/",
          "height": 340
        },
        "id": "uRBk6RPjEzsI",
        "outputId": "7597d59e-57e4-49c7-8cf3-ed377baee23c"
      },
      "execution_count": 15,
      "outputs": [
        {
          "output_type": "display_data",
          "data": {
            "text/html": [
              "<table class=\"dataframe\">\n",
              "<caption>A matrix: 2 × 2 of type dbl</caption>\n",
              "<tbody>\n",
              "\t<tr><th scope=row>A</th><td>6</td><td>114</td></tr>\n",
              "\t<tr><th scope=row>B</th><td>5</td><td> 75</td></tr>\n",
              "</tbody>\n",
              "</table>\n"
            ],
            "text/markdown": "\nA matrix: 2 × 2 of type dbl\n\n| A | 6 | 114 |\n| B | 5 |  75 |\n\n",
            "text/latex": "A matrix: 2 × 2 of type dbl\n\\begin{tabular}{r|ll}\n\tA & 6 & 114\\\\\n\tB & 5 &  75\\\\\n\\end{tabular}\n",
            "text/plain": [
              "  [,1] [,2]\n",
              "A 6    114 \n",
              "B 5     75 "
            ]
          },
          "metadata": {}
        },
        {
          "output_type": "stream",
          "name": "stderr",
          "text": [
            "Warning message in prop.test(rbind(A, B), alternative = \"greater\"):\n",
            "“Chi-squared approximation may be incorrect”\n"
          ]
        },
        {
          "output_type": "display_data",
          "data": {
            "text/plain": [
              "\n",
              "\t2-sample test for equality of proportions with continuity correction\n",
              "\n",
              "data:  rbind(A, B)\n",
              "X-squared = 0.0040083, df = 1, p-value = 0.5252\n",
              "alternative hypothesis: greater\n",
              "95 percent confidence interval:\n",
              " -0.07816649  1.00000000\n",
              "sample estimates:\n",
              "prop 1 prop 2 \n",
              "0.0500 0.0625 \n"
            ]
          },
          "metadata": {}
        }
      ]
    },
    {
      "cell_type": "code",
      "source": [
        "smokers  <- c( 83, 90, 129, 70 )\n",
        "patients <- c( 86, 93, 136, 82 )\n",
        "prop.test(smokers, patients)"
      ],
      "metadata": {
        "colab": {
          "base_uri": "https://localhost:8080/",
          "height": 173
        },
        "id": "CVGswuLME16l",
        "outputId": "b2dfc911-661c-4176-ee9b-52f3843e0044"
      },
      "execution_count": 16,
      "outputs": [
        {
          "output_type": "display_data",
          "data": {
            "text/plain": [
              "\n",
              "\t4-sample test for equality of proportions without continuity correction\n",
              "\n",
              "data:  smokers out of patients\n",
              "X-squared = 12.6, df = 3, p-value = 0.005585\n",
              "alternative hypothesis: two.sided\n",
              "sample estimates:\n",
              "   prop 1    prop 2    prop 3    prop 4 \n",
              "0.9651163 0.9677419 0.9485294 0.8536585 \n"
            ]
          },
          "metadata": {}
        }
      ]
    },
    {
      "cell_type": "code",
      "source": [],
      "metadata": {
        "id": "hn3qtWIKFfqd"
      },
      "execution_count": null,
      "outputs": []
    }
  ]
}